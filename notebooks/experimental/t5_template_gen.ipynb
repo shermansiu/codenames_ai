{
 "cells": [
  {
   "cell_type": "code",
   "execution_count": 2,
   "id": "583ba133-bddb-4312-b016-d36cb48c13e4",
   "metadata": {},
   "outputs": [
    {
     "name": "stdout",
     "output_type": "stream",
     "text": [
      "The autoreload extension is already loaded. To reload it, use:\n",
      "  %reload_ext autoreload\n"
     ]
    }
   ],
   "source": [
    "%load_ext line_profiler\n",
    "%load_ext autoreload\n",
    "%autoreload 2"
   ]
  },
  {
   "cell_type": "code",
   "execution_count": 4,
   "id": "e1610de0-665a-4225-9ac8-0a02f5a71e31",
   "metadata": {},
   "outputs": [],
   "source": [
    "import sys\n",
    "import attrs\n",
    "import pandas as pd"
   ]
  },
  {
   "cell_type": "code",
   "execution_count": 5,
   "id": "9b5832ad-0916-4e55-8efc-ad554fbff8e1",
   "metadata": {},
   "outputs": [],
   "source": [
    "sys.path.insert(0, '/mnt/ubuntu_data_hdd/school/masters/uwaterloo/1b/cs885/project/codenames/codenames_ai/src')"
   ]
  },
  {
   "cell_type": "code",
   "execution_count": 11,
   "id": "5f84bc4d-f52a-4eaf-8902-b3972adc6622",
   "metadata": {},
   "outputs": [
    {
     "name": "stderr",
     "output_type": "stream",
     "text": [
      "[libprotobuf WARNING external/com_google_protobuf/src/google/protobuf/text_format.cc:339] Warning parsing text-format research_scann.ScannConfig: 43:11: text format contains deprecated field \"min_cluster_size\"\n",
      "2022-07-16 06:54:22.166966: I scann/partitioning/partitioner_factory_base.cc:59] Size of sampled dataset for training partition: 53044\n",
      "2022-07-16 06:54:23.635340: I ./scann/partitioning/kmeans_tree_partitioner_utils.h:88] PartitionerFactory ran in 1.468327491s.\n",
      "[libprotobuf WARNING external/com_google_protobuf/src/google/protobuf/text_format.cc:339] Warning parsing text-format research_scann.ScannConfig: 43:11: text format contains deprecated field \"min_cluster_size\"\n",
      "2022-07-16 06:54:36.467941: I scann/partitioning/partitioner_factory_base.cc:59] Size of sampled dataset for training partition: 47240\n",
      "2022-07-16 06:54:37.762068: I ./scann/partitioning/kmeans_tree_partitioner_utils.h:88] PartitionerFactory ran in 1.294080929s.\n"
     ]
    }
   ],
   "source": [
    "from default_game import *\n",
    "from codenames import *\n",
    "from codenames_env import *"
   ]
  },
  {
   "cell_type": "code",
   "execution_count": 14,
   "id": "81bf8cca-73c1-4e72-a4b6-84032933b0f3",
   "metadata": {},
   "outputs": [
    {
     "data": {
      "text/plain": [
       "'My team: kiwi, web, dog, strike, space, degree, ship, jack, gas\\nEnemy team: hole, litter, seal, glass, star, pants, dance, date\\nNeutral: honey, cotton, time, bat, chair, band, brush\\nDeath: cloak'"
      ]
     },
     "execution_count": 14,
     "metadata": {},
     "output_type": "execute_result"
    }
   ],
   "source": [
    "view.bag_words_team_view()"
   ]
  },
  {
   "cell_type": "code",
   "execution_count": 16,
   "id": "a1106d8e-2c60-4785-adf7-2b6fcaf06b7c",
   "metadata": {},
   "outputs": [
    {
     "name": "stdout",
     "output_type": "stream",
     "text": [
      "[['STRIKE_BL' 'TIME_BY' 'BAT_BY' 'GAS_BL' 'HOLE_RE']\n",
      " ['DATE_RE' 'LITTER_RE' 'BAND_BY' 'BRUSH_BY' 'JACK_BL']\n",
      " ['HONEY_BY' 'GLASS_RE' 'DOG_BL' 'SPACE_BL' 'SHIP_BL']\n",
      " ['STAR_RE' 'CHAIR_BY' 'DANCE_RE' 'PANTS_RE' 'KIWI_BL']\n",
      " ['CLOAK_AS' 'WEB_BL' 'SEAL_RE' 'COTTON_BY' 'DEGREE_BL']]\n",
      "It is BLUE's turn.\n"
     ]
    }
   ],
   "source": [
    "view.spymaster_view()"
   ]
  }
 ],
 "metadata": {
  "kernelspec": {
   "display_name": "Python 3.6 (fn_env)",
   "language": "python",
   "name": "fn_env"
  },
  "language_info": {
   "codemirror_mode": {
    "name": "ipython",
    "version": 3
   },
   "file_extension": ".py",
   "mimetype": "text/x-python",
   "name": "python",
   "nbconvert_exporter": "python",
   "pygments_lexer": "ipython3",
   "version": "3.8.13"
  }
 },
 "nbformat": 4,
 "nbformat_minor": 5
}
