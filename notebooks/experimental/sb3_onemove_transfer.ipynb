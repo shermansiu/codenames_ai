{
 "cells": [
  {
   "cell_type": "code",
   "execution_count": 30,
   "id": "54fdc5cc-b89b-409a-a84b-c5de2c432755",
   "metadata": {},
   "outputs": [],
   "source": [
    "import pathlib\n",
    "import sys\n",
    "import numpy as np\n",
    "from stable_baselines3 import DQN, SAC, PPO, A2C, HerReplayBuffer\n",
    "from stable_baselines3.common.monitor import Monitor\n",
    "from stable_baselines3.common.evaluation import evaluate_policy"
   ]
  },
  {
   "cell_type": "code",
   "execution_count": 16,
   "id": "79f82c96-bb40-4f52-9ceb-41ea762dc541",
   "metadata": {},
   "outputs": [],
   "source": [
    "EXPERIMENT_NAME = \"gridtest_xfer_onemove_mlp_l36\"\n",
    "EXPERIMENT_DISPLAY_NAME = \"Gridtest - Transfer from One move - MLP - Length 36\"\n",
    "LOAD_EXPERIMENT_NAME = \"gridtest_onemove_mlp_l36\"\n",
    "CODENAMES_DIR = pathlib.Path().resolve().parent.parent\n",
    "tmp_path = str(CODENAMES_DIR.joinpath(f\"logs/{EXPERIMENT_NAME}/sb3_log/_\"))[:-1]\n",
    "load_dir = str(CODENAMES_DIR.joinpath(f\"src/{LOAD_EXPERIMENT_NAME}_{{name}}_gridtest_v0.0.1_end.chkpt\"))"
   ]
  },
  {
   "cell_type": "code",
   "execution_count": 10,
   "id": "426a2e1d-1c55-42ca-94c0-f63702c1198e",
   "metadata": {},
   "outputs": [],
   "source": [
    "sys.path.insert(0, str(CODENAMES_DIR / \"src\"))"
   ]
  },
  {
   "cell_type": "code",
   "execution_count": 12,
   "id": "44181102-7fb0-4a9e-9923-845faa4c4c63",
   "metadata": {},
   "outputs": [],
   "source": [
    "from gridtest_env import *"
   ]
  },
  {
   "cell_type": "code",
   "execution_count": 18,
   "id": "5b53e366-6444-4777-9387-de2f158e5e3c",
   "metadata": {},
   "outputs": [],
   "source": [
    "def make_env(env_name):\n",
    "    log_dir = pathlib.Path(tmp_path).joinpath(env_name)\n",
    "    log_dir.mkdir(parents=True, exist_ok=True)\n",
    "    return Monitor(GridTestEnv(length=36), str(log_dir))"
   ]
  },
  {
   "cell_type": "code",
   "execution_count": 21,
   "id": "a83781d4-7041-4eb7-af51-c99889be558e",
   "metadata": {},
   "outputs": [
    {
     "name": "stdout",
     "output_type": "stream",
     "text": [
      "Wrapping the env in a DummyVecEnv.\n",
      "Wrapping the env in a VecTransposeImage.\n"
     ]
    }
   ],
   "source": [
    "ppo = PPO.load(load_dir.format(name=\"ppo\"), make_env(\"ppo\"), verbose=1, n_steps=25, n_epochs=80)"
   ]
  },
  {
   "cell_type": "code",
   "execution_count": 27,
   "id": "1bb3b3e8-9de3-4308-b96b-ae2dee7e2d73",
   "metadata": {},
   "outputs": [],
   "source": [
    "eval_monitor_trained = make_env(\"ppo_eval\")\n",
    "mean_reward, std_reward = evaluate_policy(ppo, eval_monitor_trained, n_eval_episodes=10, deterministic=True, render=False)"
   ]
  },
  {
   "cell_type": "code",
   "execution_count": 29,
   "id": "78fc52ea-1af9-466c-b8e2-24da86283654",
   "metadata": {},
   "outputs": [],
   "source": [
    "def print_monitor_stat(stat_name, stat):\n",
    "    print(stat_name, stat, np.mean(stat), np.std(stat))"
   ]
  },
  {
   "cell_type": "code",
   "execution_count": 31,
   "id": "4975283b-9091-4e5a-8e22-f6e4b99ac4c8",
   "metadata": {},
   "outputs": [
    {
     "name": "stdout",
     "output_type": "stream",
     "text": [
      "mean_reward=-98.00 +/- 0.0\n",
      "Lengths [99, 99, 99, 99, 99, 99, 99, 99, 99, 99] 99.0 0.0\n",
      "Returns [-98, -98, -98, -98, -98, -98, -98, -98, -98, -98] -98.0 0.0\n"
     ]
    }
   ],
   "source": [
    "print(f\"mean_reward={mean_reward:.2f} +/- {std_reward}\")\n",
    "print_monitor_stat(\"Lengths\", eval_monitor_trained.episode_lengths)\n",
    "print_monitor_stat(\"Returns\", eval_monitor_trained.episode_returns)"
   ]
  },
  {
   "cell_type": "code",
   "execution_count": null,
   "id": "16c7d90d-891a-4461-a368-3ada81d34205",
   "metadata": {},
   "outputs": [],
   "source": []
  }
 ],
 "metadata": {
  "kernelspec": {
   "display_name": "Python 3.8 (fn_env)",
   "language": "python",
   "name": "fn_env"
  },
  "language_info": {
   "codemirror_mode": {
    "name": "ipython",
    "version": 3
   },
   "file_extension": ".py",
   "mimetype": "text/x-python",
   "name": "python",
   "nbconvert_exporter": "python",
   "pygments_lexer": "ipython3",
   "version": "3.8.13"
  }
 },
 "nbformat": 4,
 "nbformat_minor": 5
}
