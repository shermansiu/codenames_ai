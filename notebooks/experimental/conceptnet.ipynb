{
 "cells": [
  {
   "cell_type": "code",
   "execution_count": 2,
   "id": "e876a1ed-0f80-4fb0-8b48-d3acbbc5e544",
   "metadata": {},
   "outputs": [],
   "source": [
    "import pandas as pd\n",
    "import pathlib"
   ]
  },
  {
   "cell_type": "code",
   "execution_count": 3,
   "id": "25531ce6-cced-46a8-ab79-dfdd0a5da3e3",
   "metadata": {},
   "outputs": [],
   "source": [
    "from conceptnet_text_to_uri import standardized_uri\n",
    "from sklearn.preprocessing import normalize"
   ]
  },
  {
   "cell_type": "code",
   "execution_count": 4,
   "id": "3136f361-d26f-4fcb-82d5-9d0d03e7701f",
   "metadata": {},
   "outputs": [
    {
     "name": "stdout",
     "output_type": "stream",
     "text": [
      "mini.h5\n"
     ]
    }
   ],
   "source": [
    "!ls ./conceptnet"
   ]
  },
  {
   "cell_type": "code",
   "execution_count": 5,
   "id": "d3fbd1d9-6dba-47ee-8d4b-a8b8c1b0ce8f",
   "metadata": {},
   "outputs": [],
   "source": [
    "conceptnet = pd.read_hdf('./conceptnet/mini.h5')  "
   ]
  },
  {
   "cell_type": "code",
   "execution_count": 6,
   "id": "01890e8c-0d50-4355-97d5-1a1c89c87c2b",
   "metadata": {},
   "outputs": [],
   "source": [
    "def normalize_vec(vec):\n",
    "    \"\"\"\n",
    "    L2-normalize a single vector, as a 1-D ndarray or a Series.\n",
    "    \"\"\"\n",
    "    if isinstance(vec, pd.Series):\n",
    "        return normalize(vec.fillna(0).values.reshape(1, -1))[0]\n",
    "    elif isinstance(vec, np.ndarray):\n",
    "        return normalize(vec.reshape(1, -1))[0]\n",
    "    else:\n",
    "        raise TypeError(vec)"
   ]
  },
  {
   "cell_type": "code",
   "execution_count": 7,
   "id": "f3d9261b-f9d8-49a2-8a8a-6c25041499cd",
   "metadata": {},
   "outputs": [],
   "source": [
    "normalized_values = normalize(conceptnet.values)"
   ]
  },
  {
   "cell_type": "code",
   "execution_count": 9,
   "id": "8bbc9756-6f69-4d12-b512-bd29a1dad1b3",
   "metadata": {},
   "outputs": [
    {
     "data": {
      "text/plain": [
       "(1635499, 300)"
      ]
     },
     "execution_count": 9,
     "metadata": {},
     "output_type": "execute_result"
    }
   ],
   "source": [
    "normalized_values.shape"
   ]
  },
  {
   "cell_type": "code",
   "execution_count": 12,
   "id": "4b1d6f1a-9530-47b2-9053-7da5385e78de",
   "metadata": {},
   "outputs": [
    {
     "data": {
      "text/plain": [
       "Index(['/c/de/####er', '/c/de/###er', '/c/de/##cm', '/c/de/##er',\n",
       "       '/c/de/##jahre', '/c/de/##k', '/c/de/##m', '/c/de/##rd', '/c/de/##t',\n",
       "       '/c/de/##tel',\n",
       "       ...\n",
       "       '/c/zh/龟毛', '/c/zh/龟甲', '/c/zh/龟缩', '/c/zh/龟背竹', '/c/zh/龟船', '/c/zh/龟裂',\n",
       "       '/c/zh/龠', '/c/zh/龢', '/c/zh/𫓧', '/c/zh/𫚉鱼'],\n",
       "      dtype='object', length=1635499)"
      ]
     },
     "execution_count": 12,
     "metadata": {},
     "output_type": "execute_result"
    }
   ],
   "source": [
    "conceptnet.index"
   ]
  },
  {
   "cell_type": "code",
   "execution_count": 17,
   "id": "2fbf3cff-52a3-42bb-b756-aea176319877",
   "metadata": {},
   "outputs": [],
   "source": [
    "with open(\"codenames_ai/wordlist-eng.txt\") as f:\n",
    "    wordlist = set(f.read().splitlines())"
   ]
  },
  {
   "cell_type": "code",
   "execution_count": 40,
   "id": "21627eaf-4ea9-4a1e-a0fb-f0016603ce89",
   "metadata": {},
   "outputs": [],
   "source": [
    "def prefix_to_word_stub(prefix: str):\n",
    "    word_stub = prefix.split('/c/en/', 1)[1]\n",
    "    word_stub = \" \".join(word_stub.upper().split(\"_\"))\n",
    "    return word_stub"
   ]
  },
  {
   "cell_type": "code",
   "execution_count": 41,
   "id": "18d18394-b8f5-4b1b-8cc1-742c27a47953",
   "metadata": {},
   "outputs": [],
   "source": [
    "def is_valid_prefix(prefix: str) -> bool:\n",
    "    if not prefix.startswith('/c/en/'):\n",
    "        return False\n",
    "    if prefix.startswith('/c/en/#'):\n",
    "        return False\n",
    "    word_stub = prefix_to_word_stub(prefix)\n",
    "    return word_stub in wordlist"
   ]
  },
  {
   "cell_type": "code",
   "execution_count": 26,
   "id": "86144e08-3ad2-4f49-937c-3f5eb731fead",
   "metadata": {},
   "outputs": [
    {
     "data": {
      "text/plain": [
       "False"
      ]
     },
     "execution_count": 26,
     "metadata": {},
     "output_type": "execute_result"
    }
   ],
   "source": [
    "'/c/en/sd_fsdf'.split('/c/en/', 1)[1].isalpha()"
   ]
  },
  {
   "cell_type": "code",
   "execution_count": 42,
   "id": "46baa4fc-2988-47e8-b2bb-f8b203cf7fb5",
   "metadata": {
    "tags": []
   },
   "outputs": [],
   "source": [
    "valid_prefixes = [p for p in conceptnet.index if is_valid_prefix(p)]"
   ]
  },
  {
   "cell_type": "code",
   "execution_count": 45,
   "id": "7bab9f3f-20ee-4eba-90ee-43d404922df5",
   "metadata": {},
   "outputs": [],
   "source": [
    "normalized_prefixes = [prefix_to_word_stub(p) for p in valid_prefixes if is_valid_prefix(p)]"
   ]
  },
  {
   "cell_type": "code",
   "execution_count": 43,
   "id": "786b1ba5-311d-42b0-ad86-244bfb130c8a",
   "metadata": {
    "collapsed": true,
    "jupyter": {
     "outputs_hidden": true
    },
    "tags": []
   },
   "outputs": [
    {
     "data": {
      "text/plain": [
       "['/c/en/africa',\n",
       " '/c/en/agent',\n",
       " '/c/en/air',\n",
       " '/c/en/alien',\n",
       " '/c/en/alps',\n",
       " '/c/en/amazon',\n",
       " '/c/en/ambulance',\n",
       " '/c/en/america',\n",
       " '/c/en/angel',\n",
       " '/c/en/antarctica',\n",
       " '/c/en/apple',\n",
       " '/c/en/arm',\n",
       " '/c/en/atlantis',\n",
       " '/c/en/australia',\n",
       " '/c/en/aztec',\n",
       " '/c/en/back',\n",
       " '/c/en/ball',\n",
       " '/c/en/band',\n",
       " '/c/en/bank',\n",
       " '/c/en/bar',\n",
       " '/c/en/bark',\n",
       " '/c/en/bat',\n",
       " '/c/en/battery',\n",
       " '/c/en/beach',\n",
       " '/c/en/bear',\n",
       " '/c/en/beat',\n",
       " '/c/en/bed',\n",
       " '/c/en/beijing',\n",
       " '/c/en/bell',\n",
       " '/c/en/belt',\n",
       " '/c/en/berlin',\n",
       " '/c/en/bermuda',\n",
       " '/c/en/berry',\n",
       " '/c/en/bill',\n",
       " '/c/en/block',\n",
       " '/c/en/board',\n",
       " '/c/en/bolt',\n",
       " '/c/en/bomb',\n",
       " '/c/en/bond',\n",
       " '/c/en/boom',\n",
       " '/c/en/boot',\n",
       " '/c/en/bottle',\n",
       " '/c/en/bow',\n",
       " '/c/en/box',\n",
       " '/c/en/bridge',\n",
       " '/c/en/brush',\n",
       " '/c/en/buck',\n",
       " '/c/en/buffalo',\n",
       " '/c/en/bug',\n",
       " '/c/en/bugle',\n",
       " '/c/en/button',\n",
       " '/c/en/calf',\n",
       " '/c/en/canada',\n",
       " '/c/en/cap',\n",
       " '/c/en/capital',\n",
       " '/c/en/car',\n",
       " '/c/en/card',\n",
       " '/c/en/carrot',\n",
       " '/c/en/casino',\n",
       " '/c/en/cast',\n",
       " '/c/en/cat',\n",
       " '/c/en/cell',\n",
       " '/c/en/centaur',\n",
       " '/c/en/center',\n",
       " '/c/en/chair',\n",
       " '/c/en/change',\n",
       " '/c/en/charge',\n",
       " '/c/en/check',\n",
       " '/c/en/chest',\n",
       " '/c/en/chick',\n",
       " '/c/en/china',\n",
       " '/c/en/chocolate',\n",
       " '/c/en/church',\n",
       " '/c/en/circle',\n",
       " '/c/en/cliff',\n",
       " '/c/en/cloak',\n",
       " '/c/en/club',\n",
       " '/c/en/code',\n",
       " '/c/en/cold',\n",
       " '/c/en/comic',\n",
       " '/c/en/compound',\n",
       " '/c/en/concert',\n",
       " '/c/en/conductor',\n",
       " '/c/en/contract',\n",
       " '/c/en/cook',\n",
       " '/c/en/copper',\n",
       " '/c/en/cotton',\n",
       " '/c/en/court',\n",
       " '/c/en/cover',\n",
       " '/c/en/crane',\n",
       " '/c/en/crash',\n",
       " '/c/en/cricket',\n",
       " '/c/en/cross',\n",
       " '/c/en/crown',\n",
       " '/c/en/cycle',\n",
       " '/c/en/czech',\n",
       " '/c/en/dance',\n",
       " '/c/en/date',\n",
       " '/c/en/day',\n",
       " '/c/en/death',\n",
       " '/c/en/deck',\n",
       " '/c/en/degree',\n",
       " '/c/en/diamond',\n",
       " '/c/en/dice',\n",
       " '/c/en/dinosaur',\n",
       " '/c/en/disease',\n",
       " '/c/en/doctor',\n",
       " '/c/en/dog',\n",
       " '/c/en/draft',\n",
       " '/c/en/dragon',\n",
       " '/c/en/dress',\n",
       " '/c/en/drill',\n",
       " '/c/en/drop',\n",
       " '/c/en/duck',\n",
       " '/c/en/dwarf',\n",
       " '/c/en/eagle',\n",
       " '/c/en/egypt',\n",
       " '/c/en/embassy',\n",
       " '/c/en/engine',\n",
       " '/c/en/england',\n",
       " '/c/en/europe',\n",
       " '/c/en/eye',\n",
       " '/c/en/face',\n",
       " '/c/en/fair',\n",
       " '/c/en/fall',\n",
       " '/c/en/fan',\n",
       " '/c/en/fence',\n",
       " '/c/en/field',\n",
       " '/c/en/fighter',\n",
       " '/c/en/figure',\n",
       " '/c/en/file',\n",
       " '/c/en/film',\n",
       " '/c/en/fire',\n",
       " '/c/en/fish',\n",
       " '/c/en/flute',\n",
       " '/c/en/fly',\n",
       " '/c/en/foot',\n",
       " '/c/en/force',\n",
       " '/c/en/forest',\n",
       " '/c/en/fork',\n",
       " '/c/en/france',\n",
       " '/c/en/game',\n",
       " '/c/en/gas',\n",
       " '/c/en/genius',\n",
       " '/c/en/germany',\n",
       " '/c/en/ghost',\n",
       " '/c/en/giant',\n",
       " '/c/en/glass',\n",
       " '/c/en/glove',\n",
       " '/c/en/gold',\n",
       " '/c/en/grace',\n",
       " '/c/en/grass',\n",
       " '/c/en/greece',\n",
       " '/c/en/green',\n",
       " '/c/en/ground',\n",
       " '/c/en/ham',\n",
       " '/c/en/hand',\n",
       " '/c/en/hawk',\n",
       " '/c/en/head',\n",
       " '/c/en/heart',\n",
       " '/c/en/helicopter',\n",
       " '/c/en/himalayas',\n",
       " '/c/en/hole',\n",
       " '/c/en/hollywood',\n",
       " '/c/en/honey',\n",
       " '/c/en/hood',\n",
       " '/c/en/hook',\n",
       " '/c/en/horn',\n",
       " '/c/en/horse',\n",
       " '/c/en/horseshoe',\n",
       " '/c/en/hospital',\n",
       " '/c/en/hotel',\n",
       " '/c/en/ice',\n",
       " '/c/en/ice_cream',\n",
       " '/c/en/india',\n",
       " '/c/en/iron',\n",
       " '/c/en/ivory',\n",
       " '/c/en/jack',\n",
       " '/c/en/jam',\n",
       " '/c/en/jet',\n",
       " '/c/en/jupiter',\n",
       " '/c/en/kangaroo',\n",
       " '/c/en/ketchup',\n",
       " '/c/en/key',\n",
       " '/c/en/kid',\n",
       " '/c/en/king',\n",
       " '/c/en/kiwi',\n",
       " '/c/en/knife',\n",
       " '/c/en/knight',\n",
       " '/c/en/lab',\n",
       " '/c/en/lap',\n",
       " '/c/en/laser',\n",
       " '/c/en/lawyer',\n",
       " '/c/en/lead',\n",
       " '/c/en/lemon',\n",
       " '/c/en/leprechaun',\n",
       " '/c/en/life',\n",
       " '/c/en/light',\n",
       " '/c/en/limousine',\n",
       " '/c/en/line',\n",
       " '/c/en/link',\n",
       " '/c/en/lion',\n",
       " '/c/en/litter',\n",
       " '/c/en/loch_ness',\n",
       " '/c/en/lock',\n",
       " '/c/en/log',\n",
       " '/c/en/london',\n",
       " '/c/en/luck',\n",
       " '/c/en/mail',\n",
       " '/c/en/mammoth',\n",
       " '/c/en/maple',\n",
       " '/c/en/marble',\n",
       " '/c/en/march',\n",
       " '/c/en/mass',\n",
       " '/c/en/match',\n",
       " '/c/en/mercury',\n",
       " '/c/en/mexico',\n",
       " '/c/en/microscope',\n",
       " '/c/en/millionaire',\n",
       " '/c/en/mine',\n",
       " '/c/en/mint',\n",
       " '/c/en/missile',\n",
       " '/c/en/model',\n",
       " '/c/en/mole',\n",
       " '/c/en/moon',\n",
       " '/c/en/moscow',\n",
       " '/c/en/mount',\n",
       " '/c/en/mouse',\n",
       " '/c/en/mouth',\n",
       " '/c/en/mug',\n",
       " '/c/en/nail',\n",
       " '/c/en/needle',\n",
       " '/c/en/net',\n",
       " '/c/en/new_york',\n",
       " '/c/en/night',\n",
       " '/c/en/ninja',\n",
       " '/c/en/note',\n",
       " '/c/en/novel',\n",
       " '/c/en/nurse',\n",
       " '/c/en/nut',\n",
       " '/c/en/octopus',\n",
       " '/c/en/oil',\n",
       " '/c/en/olive',\n",
       " '/c/en/olympus',\n",
       " '/c/en/opera',\n",
       " '/c/en/orange',\n",
       " '/c/en/organ',\n",
       " '/c/en/palm',\n",
       " '/c/en/pan',\n",
       " '/c/en/pants',\n",
       " '/c/en/paper',\n",
       " '/c/en/parachute',\n",
       " '/c/en/park',\n",
       " '/c/en/part',\n",
       " '/c/en/pass',\n",
       " '/c/en/paste',\n",
       " '/c/en/penguin',\n",
       " '/c/en/phoenix',\n",
       " '/c/en/piano',\n",
       " '/c/en/pie',\n",
       " '/c/en/pilot',\n",
       " '/c/en/pin',\n",
       " '/c/en/pipe',\n",
       " '/c/en/pirate',\n",
       " '/c/en/pistol',\n",
       " '/c/en/pit',\n",
       " '/c/en/pitch',\n",
       " '/c/en/plane',\n",
       " '/c/en/plastic',\n",
       " '/c/en/plate',\n",
       " '/c/en/platypus',\n",
       " '/c/en/play',\n",
       " '/c/en/plot',\n",
       " '/c/en/point',\n",
       " '/c/en/poison',\n",
       " '/c/en/pole',\n",
       " '/c/en/police',\n",
       " '/c/en/pool',\n",
       " '/c/en/port',\n",
       " '/c/en/post',\n",
       " '/c/en/pound',\n",
       " '/c/en/press',\n",
       " '/c/en/princess',\n",
       " '/c/en/pumpkin',\n",
       " '/c/en/pupil',\n",
       " '/c/en/pyramid',\n",
       " '/c/en/queen',\n",
       " '/c/en/rabbit',\n",
       " '/c/en/racket',\n",
       " '/c/en/ray',\n",
       " '/c/en/revolution',\n",
       " '/c/en/ring',\n",
       " '/c/en/robin',\n",
       " '/c/en/robot',\n",
       " '/c/en/rock',\n",
       " '/c/en/rome',\n",
       " '/c/en/root',\n",
       " '/c/en/rose',\n",
       " '/c/en/roulette',\n",
       " '/c/en/round',\n",
       " '/c/en/row',\n",
       " '/c/en/ruler',\n",
       " '/c/en/satellite',\n",
       " '/c/en/saturn',\n",
       " '/c/en/scale',\n",
       " '/c/en/school',\n",
       " '/c/en/scientist',\n",
       " '/c/en/scorpion',\n",
       " '/c/en/screen',\n",
       " '/c/en/scuba_diver',\n",
       " '/c/en/seal',\n",
       " '/c/en/server',\n",
       " '/c/en/shadow',\n",
       " '/c/en/shakespeare',\n",
       " '/c/en/shark',\n",
       " '/c/en/ship',\n",
       " '/c/en/shoe',\n",
       " '/c/en/shop',\n",
       " '/c/en/shot',\n",
       " '/c/en/sink',\n",
       " '/c/en/skyscraper',\n",
       " '/c/en/slip',\n",
       " '/c/en/slug',\n",
       " '/c/en/smuggler',\n",
       " '/c/en/snow',\n",
       " '/c/en/snowman',\n",
       " '/c/en/sock',\n",
       " '/c/en/soldier',\n",
       " '/c/en/soul',\n",
       " '/c/en/sound',\n",
       " '/c/en/space',\n",
       " '/c/en/spell',\n",
       " '/c/en/spider',\n",
       " '/c/en/spike',\n",
       " '/c/en/spine',\n",
       " '/c/en/spot',\n",
       " '/c/en/spring',\n",
       " '/c/en/spy',\n",
       " '/c/en/square',\n",
       " '/c/en/stadium',\n",
       " '/c/en/staff',\n",
       " '/c/en/star',\n",
       " '/c/en/state',\n",
       " '/c/en/stick',\n",
       " '/c/en/stock',\n",
       " '/c/en/straw',\n",
       " '/c/en/stream',\n",
       " '/c/en/strike',\n",
       " '/c/en/string',\n",
       " '/c/en/sub',\n",
       " '/c/en/suit',\n",
       " '/c/en/superhero',\n",
       " '/c/en/swing',\n",
       " '/c/en/switch',\n",
       " '/c/en/table',\n",
       " '/c/en/tablet',\n",
       " '/c/en/tag',\n",
       " '/c/en/tail',\n",
       " '/c/en/tap',\n",
       " '/c/en/teacher',\n",
       " '/c/en/telescope',\n",
       " '/c/en/temple',\n",
       " '/c/en/theater',\n",
       " '/c/en/thief',\n",
       " '/c/en/thumb',\n",
       " '/c/en/tick',\n",
       " '/c/en/tie',\n",
       " '/c/en/time',\n",
       " '/c/en/tokyo',\n",
       " '/c/en/tooth',\n",
       " '/c/en/torch',\n",
       " '/c/en/tower',\n",
       " '/c/en/track',\n",
       " '/c/en/train',\n",
       " '/c/en/triangle',\n",
       " '/c/en/trip',\n",
       " '/c/en/trunk',\n",
       " '/c/en/tube',\n",
       " '/c/en/turkey',\n",
       " '/c/en/undertaker',\n",
       " '/c/en/unicorn',\n",
       " '/c/en/vacuum',\n",
       " '/c/en/van',\n",
       " '/c/en/vet',\n",
       " '/c/en/wake',\n",
       " '/c/en/wall',\n",
       " '/c/en/war',\n",
       " '/c/en/washer',\n",
       " '/c/en/washington',\n",
       " '/c/en/watch',\n",
       " '/c/en/water',\n",
       " '/c/en/wave',\n",
       " '/c/en/web',\n",
       " '/c/en/well',\n",
       " '/c/en/whale',\n",
       " '/c/en/whip',\n",
       " '/c/en/wind',\n",
       " '/c/en/witch',\n",
       " '/c/en/worm',\n",
       " '/c/en/yard']"
      ]
     },
     "execution_count": 43,
     "metadata": {},
     "output_type": "execute_result"
    }
   ],
   "source": [
    "valid_prefixes"
   ]
  },
  {
   "cell_type": "code",
   "execution_count": 37,
   "id": "c7c44e7f-f3fd-4853-9661-762a2b1439d3",
   "metadata": {},
   "outputs": [
    {
     "data": {
      "text/plain": [
       "array([[-2,  0,  0, ...,  0,  3, -1],\n",
       "       [ 0, -2, -4, ..., -4, -2,  0],\n",
       "       [ 0,  0,  2, ...,  0,  0, -3],\n",
       "       ...,\n",
       "       [-1,  1,  0, ...,  3,  1, -7],\n",
       "       [-1,  0,  4, ...,  0,  2,  9],\n",
       "       [ 0,  1,  0, ..., -5, -7,  6]], dtype=int8)"
      ]
     },
     "execution_count": 38,
     "metadata": {},
     "output_type": "execute_result"
    }
   ],
   "source": [
    "conceptnet.loc[valid_prefixes].values.to_numpy()"
   ]
  },
  {
   "cell_type": "code",
   "execution_count": 63,
   "id": "3070f506-d095-49f2-bad0-a52cd04ea23c",
   "metadata": {},
   "outputs": [],
   "source": [
    "conceptnet_normalized = pd.DataFrame(normalized_values, index=conceptnet.index)"
   ]
  },
  {
   "cell_type": "code",
   "execution_count": 44,
   "id": "461769ee-3464-4ae6-a795-7136903ed211",
   "metadata": {},
   "outputs": [
    {
     "data": {
      "text/plain": [
       "0     -0.018182\n",
       "1     -0.018182\n",
       "2     -0.000000\n",
       "3      0.018182\n",
       "4     -0.018182\n",
       "         ...   \n",
       "295    0.018182\n",
       "296    0.036364\n",
       "297   -0.018182\n",
       "298   -0.109091\n",
       "299   -0.072727\n",
       "Name: /c/en/twitter, Length: 300, dtype: float64"
      ]
     },
     "execution_count": 44,
     "metadata": {},
     "output_type": "execute_result"
    }
   ],
   "source": [
    "conceptnet.loc[\"/c/en/twitter\"]/conceptnet.loc[\"/c/en/twitter\"].sum()"
   ]
  },
  {
   "cell_type": "code",
   "execution_count": 10,
   "id": "99418ed4-f88e-45f4-a667-2c19a6e83b89",
   "metadata": {},
   "outputs": [
    {
     "data": {
      "text/plain": [
       "0      1\n",
       "1      1\n",
       "2      0\n",
       "3     -1\n",
       "4      1\n",
       "      ..\n",
       "295   -1\n",
       "296   -2\n",
       "297    1\n",
       "298    6\n",
       "299    4\n",
       "Name: /c/en/twitter, Length: 300, dtype: int8"
      ]
     },
     "execution_count": 10,
     "metadata": {},
     "output_type": "execute_result"
    }
   ],
   "source": [
    "conceptnet.loc[\"/c/en/twitter\"]"
   ]
  },
  {
   "cell_type": "code",
   "execution_count": 18,
   "id": "82243df1-f1cd-4b83-a653-4ec15000b4a8",
   "metadata": {},
   "outputs": [],
   "source": [
    "with pathlib.Path(\"./codenames_ai/wordlist-eng.txt\").open() as f:\n",
    "    codenames_wordlist = f.read().splitlines()"
   ]
  },
  {
   "cell_type": "code",
   "execution_count": 20,
   "id": "582b6d2a-3f1c-4c7b-9dbe-35871e93fba8",
   "metadata": {},
   "outputs": [],
   "source": [
    "wordlist_codes = [standardized_uri(\"en\", cw) for cw in codenames_wordlist]"
   ]
  },
  {
   "cell_type": "code",
   "execution_count": 22,
   "id": "b10cec75-744d-4c24-86fa-3d29e68a2dd1",
   "metadata": {},
   "outputs": [],
   "source": [
    "has_vector = [c in conceptnet.index for c in wordlist_codes]"
   ]
  },
  {
   "cell_type": "code",
   "execution_count": 24,
   "id": "fa0b3b77-834e-4427-9b7a-fd5877d107ba",
   "metadata": {},
   "outputs": [
    {
     "data": {
      "text/plain": [
       "True"
      ]
     },
     "execution_count": 24,
     "metadata": {},
     "output_type": "execute_result"
    }
   ],
   "source": [
    "all(has_vector)"
   ]
  },
  {
   "cell_type": "code",
   "execution_count": 65,
   "id": "bf060ed9-16ca-4cbe-9b95-b09661347bf7",
   "metadata": {},
   "outputs": [],
   "source": [
    "def get_word_vectors(words):\n",
    "    codes = [standardized_uri(\"en\", cw) for cw in words]\n",
    "    vectors = conceptnet_normalized.loc[codes]\n",
    "    return vectors"
   ]
  },
  {
   "cell_type": "code",
   "execution_count": 66,
   "id": "d97213b0-a2a2-4d45-bcab-ad70b0f950fb",
   "metadata": {},
   "outputs": [],
   "source": [
    "def get_similarity_to(words_a, words_b):\n",
    "    return get_word_vectors(words_a).values @ get_word_vectors(words_b).values.T"
   ]
  },
  {
   "cell_type": "code",
   "execution_count": 72,
   "id": "42849a56-da40-491c-92fe-13cd04989963",
   "metadata": {},
   "outputs": [
    {
     "data": {
      "text/plain": [
       "array([[-0.00152121,  0.12974121, -0.04465161],\n",
       "       [-0.01646635,  0.06788395,  0.1405661 ],\n",
       "       [ 0.06603686,  0.02517621, -0.07160979],\n",
       "       [ 0.30535771, -0.04175501,  0.02672226],\n",
       "       [ 0.02616878, -0.01625773, -0.04615694],\n",
       "       [ 0.09370663,  0.04936789,  0.0278698 ],\n",
       "       [ 0.03529743,  0.03522508,  0.18972301],\n",
       "       [ 0.03847977,  0.18190285, -0.01654458],\n",
       "       [-0.01255556, -0.01666464,  0.02443253]])"
      ]
     },
     "execution_count": 72,
     "metadata": {},
     "output_type": "execute_result"
    }
   ],
   "source": [
    "get_similarity_to(\n",
    "    [\"fall\", \"iron\", \"witch\", \"ham\", \"note\", \"cat\", \"beijing\", \"bear\", \"ambulance\"],\n",
    "    [\"pig\", \"commodities\", \"wok\"]\n",
    ")"
   ]
  },
  {
   "cell_type": "code",
   "execution_count": null,
   "id": "81c184ef-5053-448f-8e68-ffc2b3c612b4",
   "metadata": {},
   "outputs": [],
   "source": [
    "p_threshold = 0.1  # 0.1 or 0.05"
   ]
  },
  {
   "cell_type": "code",
   "execution_count": 70,
   "id": "27ff6587-2b26-443c-aa4f-0e1745286953",
   "metadata": {},
   "outputs": [
    {
     "data": {
      "text/plain": [
       "array([[0.10181325, 0.26793814, 0.18515725]])"
      ]
     },
     "execution_count": 70,
     "metadata": {},
     "output_type": "execute_result"
    }
   ],
   "source": [
    "get_similarity_to(\n",
    "    [\"bank\"],\n",
    "    [\"beach\", \"shore\", \"money\"]\n",
    ")"
   ]
  },
  {
   "cell_type": "code",
   "execution_count": 37,
   "id": "8caca091-c55c-4653-8141-6c7d6f45fc73",
   "metadata": {},
   "outputs": [
    {
     "data": {
      "text/plain": [
       "(2, 300)"
      ]
     },
     "execution_count": 37,
     "metadata": {},
     "output_type": "execute_result"
    }
   ],
   "source": [
    "get_word_vectors([\"hello\", \"world\"]).values.shape"
   ]
  },
  {
   "cell_type": "code",
   "execution_count": 38,
   "id": "a208c13b-c953-4863-a16d-a8b45908bd45",
   "metadata": {},
   "outputs": [
    {
     "data": {
      "text/html": [
       "<div>\n",
       "<style scoped>\n",
       "    .dataframe tbody tr th:only-of-type {\n",
       "        vertical-align: middle;\n",
       "    }\n",
       "\n",
       "    .dataframe tbody tr th {\n",
       "        vertical-align: top;\n",
       "    }\n",
       "\n",
       "    .dataframe thead th {\n",
       "        text-align: right;\n",
       "    }\n",
       "</style>\n",
       "<table border=\"1\" class=\"dataframe\">\n",
       "  <thead>\n",
       "    <tr style=\"text-align: right;\">\n",
       "      <th></th>\n",
       "      <th>0</th>\n",
       "      <th>1</th>\n",
       "      <th>2</th>\n",
       "      <th>3</th>\n",
       "      <th>4</th>\n",
       "      <th>5</th>\n",
       "      <th>6</th>\n",
       "      <th>7</th>\n",
       "      <th>8</th>\n",
       "      <th>9</th>\n",
       "      <th>...</th>\n",
       "      <th>290</th>\n",
       "      <th>291</th>\n",
       "      <th>292</th>\n",
       "      <th>293</th>\n",
       "      <th>294</th>\n",
       "      <th>295</th>\n",
       "      <th>296</th>\n",
       "      <th>297</th>\n",
       "      <th>298</th>\n",
       "      <th>299</th>\n",
       "    </tr>\n",
       "  </thead>\n",
       "  <tbody>\n",
       "    <tr>\n",
       "      <th>/c/en/hello</th>\n",
       "      <td>0</td>\n",
       "      <td>3</td>\n",
       "      <td>-2</td>\n",
       "      <td>0</td>\n",
       "      <td>-1</td>\n",
       "      <td>2</td>\n",
       "      <td>4</td>\n",
       "      <td>-2</td>\n",
       "      <td>-7</td>\n",
       "      <td>6</td>\n",
       "      <td>...</td>\n",
       "      <td>3</td>\n",
       "      <td>-4</td>\n",
       "      <td>-4</td>\n",
       "      <td>10</td>\n",
       "      <td>7</td>\n",
       "      <td>0</td>\n",
       "      <td>3</td>\n",
       "      <td>2</td>\n",
       "      <td>1</td>\n",
       "      <td>-5</td>\n",
       "    </tr>\n",
       "  </tbody>\n",
       "</table>\n",
       "<p>1 rows × 300 columns</p>\n",
       "</div>"
      ],
      "text/plain": [
       "             0    1    2    3    4    5    6    7    8    9    ...  290  291  \\\n",
       "/c/en/hello    0    3   -2    0   -1    2    4   -2   -7    6  ...    3   -4   \n",
       "\n",
       "             292  293  294  295  296  297  298  299  \n",
       "/c/en/hello   -4   10    7    0    3    2    1   -5  \n",
       "\n",
       "[1 rows x 300 columns]"
      ]
     },
     "execution_count": 38,
     "metadata": {},
     "output_type": "execute_result"
    }
   ],
   "source": [
    "get_word_vectors([\"hello\"])"
   ]
  }
 ],
 "metadata": {
  "kernelspec": {
   "display_name": "Python 3 (merlin_env)",
   "language": "python",
   "name": "merlin_env"
  },
  "language_info": {
   "codemirror_mode": {
    "name": "ipython",
    "version": 3
   },
   "file_extension": ".py",
   "mimetype": "text/x-python",
   "name": "python",
   "nbconvert_exporter": "python",
   "pygments_lexer": "ipython3",
   "version": "3.8.13"
  }
 },
 "nbformat": 4,
 "nbformat_minor": 5
}
