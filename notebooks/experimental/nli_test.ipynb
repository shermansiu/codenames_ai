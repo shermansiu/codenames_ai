{
 "cells": [
  {
   "cell_type": "code",
   "execution_count": 1,
   "id": "7a496dc8-63f1-4751-aa71-51b6c465cdcf",
   "metadata": {},
   "outputs": [],
   "source": [
    "import transformers"
   ]
  },
  {
   "cell_type": "code",
   "execution_count": 2,
   "id": "96d3072d-f2a5-453f-b8a8-9708c87a1e61",
   "metadata": {},
   "outputs": [],
   "source": [
    "tokenizer = transformers.MT5Tokenizer.from_pretrained(\"google/mt5-small\")"
   ]
  },
  {
   "cell_type": "code",
   "execution_count": 6,
   "id": "46f261dd-c2b4-4a40-b0b0-1de43c13b812",
   "metadata": {},
   "outputs": [
    {
     "data": {
      "text/plain": [
       "'test</s>'"
      ]
     },
     "execution_count": 6,
     "metadata": {},
     "output_type": "execute_result"
    }
   ],
   "source": [
    "tokenizer.decode(tokenizer(\"test\")[\"input_ids\"])"
   ]
  },
  {
   "cell_type": "code",
   "execution_count": 5,
   "id": "1ea6e0d8-e20d-4854-80b6-8214cd598f17",
   "metadata": {},
   "outputs": [
    {
     "data": {
      "text/plain": [
       "'</s>'"
      ]
     },
     "execution_count": 5,
     "metadata": {},
     "output_type": "execute_result"
    }
   ],
   "source": [
    "tokenizer.eos_token"
   ]
  },
  {
   "cell_type": "code",
   "execution_count": 3,
   "id": "ac1ad6f7-94fd-4261-8c0d-8dca2fb30a03",
   "metadata": {},
   "outputs": [],
   "source": [
    "from sentence_transformers import CrossEncoder"
   ]
  },
  {
   "cell_type": "code",
   "execution_count": 8,
   "id": "97a10c03-e6a9-4172-9269-31b927968e7e",
   "metadata": {},
   "outputs": [
    {
     "data": {
      "application/vnd.jupyter.widget-view+json": {
       "model_id": "6cf108d5335d4afe86ef852412c136e8",
       "version_major": 2,
       "version_minor": 0
      },
      "text/plain": [
       "Downloading:   0%|          | 0.00/1.03k [00:00<?, ?B/s]"
      ]
     },
     "metadata": {},
     "output_type": "display_data"
    },
    {
     "data": {
      "application/vnd.jupyter.widget-view+json": {
       "model_id": "36c866e4b7b041f585bebdf955603816",
       "version_major": 2,
       "version_minor": 0
      },
      "text/plain": [
       "Downloading:   0%|          | 0.00/704M [00:00<?, ?B/s]"
      ]
     },
     "metadata": {},
     "output_type": "display_data"
    },
    {
     "data": {
      "application/vnd.jupyter.widget-view+json": {
       "model_id": "44bd92ade9864e6697f697ede348e946",
       "version_major": 2,
       "version_minor": 0
      },
      "text/plain": [
       "Downloading:   0%|          | 0.00/417 [00:00<?, ?B/s]"
      ]
     },
     "metadata": {},
     "output_type": "display_data"
    },
    {
     "data": {
      "application/vnd.jupyter.widget-view+json": {
       "model_id": "bc95c48fa0e04c539b5b4f8ba7ee1952",
       "version_major": 2,
       "version_minor": 0
      },
      "text/plain": [
       "Downloading:   0%|          | 0.00/2.35M [00:00<?, ?B/s]"
      ]
     },
     "metadata": {},
     "output_type": "display_data"
    },
    {
     "data": {
      "application/vnd.jupyter.widget-view+json": {
       "model_id": "356580e03e154cdb90ea34898d4dff3c",
       "version_major": 2,
       "version_minor": 0
      },
      "text/plain": [
       "Downloading:   0%|          | 0.00/18.0 [00:00<?, ?B/s]"
      ]
     },
     "metadata": {},
     "output_type": "display_data"
    },
    {
     "data": {
      "application/vnd.jupyter.widget-view+json": {
       "model_id": "3faf8546cf8649428a0def18d426a1f2",
       "version_major": 2,
       "version_minor": 0
      },
      "text/plain": [
       "Downloading:   0%|          | 0.00/156 [00:00<?, ?B/s]"
      ]
     },
     "metadata": {},
     "output_type": "display_data"
    }
   ],
   "source": [
    "model = CrossEncoder(\"cross-encoder/nli-deberta-v3-base\")"
   ]
  },
  {
   "cell_type": "code",
   "execution_count": 9,
   "id": "24021c27-fd55-4d81-ae4d-803aadc6fb54",
   "metadata": {},
   "outputs": [],
   "source": [
    "scores = model.predict([\n",
    "    ('A man is eating pizza', 'A man eats something'),\n",
    "    ('A black race car starts up in front of a crowd of people.', 'A man is driving down a lonely road.')\n",
    "])\n",
    "\n",
    "#Convert scores to labels\n",
    "label_mapping = ['contradiction', 'entailment', 'neutral']\n",
    "labels = [label_mapping[score_max] for score_max in scores.argmax(axis=1)]"
   ]
  },
  {
   "cell_type": "code",
   "execution_count": 11,
   "id": "ef80ebf6-3667-444d-a4c0-17e1f2744117",
   "metadata": {},
   "outputs": [
    {
     "data": {
      "text/plain": [
       "['entailment', 'contradiction']"
      ]
     },
     "execution_count": 11,
     "metadata": {},
     "output_type": "execute_result"
    }
   ],
   "source": [
    "labels"
   ]
  },
  {
   "cell_type": "code",
   "execution_count": 20,
   "id": "dfbb7a5d-9650-4546-8773-4ca6ce2b6d36",
   "metadata": {},
   "outputs": [],
   "source": [
    "beijing = \"Beijing ( bay-JING; Chinese: \\u5317\\u4eac; pinyin: b\\u011bi j\\u012bng; Mandarin pronunciation: [p\\u00e8\\u026a.t\\u0255\\u00ed\\u014b] (listen)), alternatively romanized as Peking ( pee-KING), is the capital of the People's Republic of China. It is the world's most populous national capital city, with over 21 million residents within an administrative area of 16,410.5 km2 (6336 sq. mi.). Nevertheless its built-up area, the third largest in China after Guangzhou and Shanghai, is slightly bigger, including 3 districts in Hebei (Sanhe, Dachang Hui and Zhuozhou) being conurbated but with Miyun and Pinggu Districts in Beijing not agglomerated yet.\".strip()"
   ]
  },
  {
   "cell_type": "code",
   "execution_count": 18,
   "id": "c4cfd086-375d-499f-bafd-414c6de35b99",
   "metadata": {},
   "outputs": [],
   "source": [
    "wok = \"A wok (Chinese: \\u944a; Standard Chinese: hu\\u00f2; Cantonese wohk) is a deep round-bottomed cooking pot that originated in China. It is common in China and similar pans are found in parts of East, South and Southeast Asia, as well as being popular in other parts of the world.\\nWoks are used in a range of Chinese cooking techniques, including stir frying, steaming, pan frying, deep frying, poaching, boiling, braising, searing, stewing, making soup, smoking and roasting nuts. Wok cooking is often done with utensils called ch\\u01cen (spatula) or bi\\u0101o (ladle) whose long handles protect cooks from high heat. The uniqueness of wok cooking is conveyed by the Cantonese term wok hei: \\\"breath of the wok\\\".\\n\\n\".strip()"
   ]
  },
  {
   "cell_type": "code",
   "execution_count": 21,
   "id": "04a1ef9f-3ff8-492f-98ae-92aaa3eb0942",
   "metadata": {},
   "outputs": [
    {
     "data": {
      "text/plain": [
       "\"Beijing ( bay-JING; Chinese: 北京; pinyin: běi jīng; Mandarin pronunciation: [pèɪ.tɕíŋ] (listen)), alternatively romanized as Peking ( pee-KING), is the capital of the People's Republic of China. It is the world's most populous national capital city, with over 21 million residents within an administrative area of 16,410.5 km2 (6336 sq. mi.). Nevertheless its built-up area, the third largest in China after Guangzhou and Shanghai, is slightly bigger, including 3 districts in Hebei (Sanhe, Dachang Hui and Zhuozhou) being conurbated but with Miyun and Pinggu Districts in Beijing not agglomerated yet.\""
      ]
     },
     "execution_count": 21,
     "metadata": {},
     "output_type": "execute_result"
    }
   ],
   "source": [
    "beijing"
   ]
  },
  {
   "cell_type": "code",
   "execution_count": 24,
   "id": "ab1f59bb-490d-49f5-9f55-51d5119fd9b1",
   "metadata": {},
   "outputs": [
    {
     "name": "stdout",
     "output_type": "stream",
     "text": [
      "['neutral', 'neutral']\n"
     ]
    }
   ],
   "source": [
    "scores = model.predict([\n",
    "    (\"The concepts Beijing and wok are related.\", \"Beijing is the capital city of China. A wok is an oriental cooking pan.\"),\n",
    "    (beijing+ \" \" + wok, \"Beijing and wok are related.\"),\n",
    "])\n",
    "\n",
    "#Convert scores to labels\n",
    "label_mapping = ['contradiction', 'entailment', 'neutral']\n",
    "labels = [label_mapping[score_max] for score_max in scores.argmax(axis=1)]\n",
    "print(labels)"
   ]
  }
 ],
 "metadata": {
  "kernelspec": {
   "display_name": "Python 3 (merlin_env)",
   "language": "python",
   "name": "merlin_env"
  },
  "language_info": {
   "codemirror_mode": {
    "name": "ipython",
    "version": 3
   },
   "file_extension": ".py",
   "mimetype": "text/x-python",
   "name": "python",
   "nbconvert_exporter": "python",
   "pygments_lexer": "ipython3",
   "version": "3.8.12"
  }
 },
 "nbformat": 4,
 "nbformat_minor": 5
}
