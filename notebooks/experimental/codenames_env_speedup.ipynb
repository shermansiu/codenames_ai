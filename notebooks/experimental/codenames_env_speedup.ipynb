{
 "cells": [
  {
   "cell_type": "code",
   "execution_count": 1,
   "id": "f870bed4-142b-4a10-997d-91342047422a",
   "metadata": {},
   "outputs": [],
   "source": [
    "%load_ext line_profiler\n",
    "%load_ext autoreload\n",
    "%autoreload 2"
   ]
  },
  {
   "cell_type": "code",
   "execution_count": 2,
   "id": "e2a5f3cb-db5c-43a4-9f0a-d4505795f7aa",
   "metadata": {},
   "outputs": [],
   "source": [
    "import sys\n",
    "import gym\n",
    "import pathlib\n",
    "import typing as tp\n",
    "from scipy.special import softmax\n",
    "import pandas as pd"
   ]
  },
  {
   "cell_type": "code",
   "execution_count": 3,
   "id": "2c65aade-4656-4d07-97e8-a21ec6a29fc6",
   "metadata": {},
   "outputs": [],
   "source": [
    "sys.path.insert(0, '/mnt/ubuntu_data_hdd/school/masters/uwaterloo/1b/cs885/project/codenames/codenames_ai/src')"
   ]
  },
  {
   "cell_type": "code",
   "execution_count": 4,
   "id": "87c3afbc-eefc-45b7-a111-f3b843318d07",
   "metadata": {},
   "outputs": [],
   "source": [
    "from default_game import *\n",
    "from codenames import *\n",
    "from codenames_env import *"
   ]
  },
  {
   "cell_type": "code",
   "execution_count": 5,
   "id": "f1c6bc98-5229-4bd3-8582-fb34019022a6",
   "metadata": {},
   "outputs": [],
   "source": [
    "import scann"
   ]
  },
  {
   "cell_type": "code",
   "execution_count": 6,
   "id": "44147d63-4744-45b8-b158-0ea5a1216235",
   "metadata": {},
   "outputs": [
    {
     "data": {
      "text/plain": [
       "(400000, 300)"
      ]
     },
     "execution_count": 6,
     "metadata": {},
     "output_type": "execute_result"
    }
   ],
   "source": [
    "glove.vectors.shape"
   ]
  },
  {
   "cell_type": "code",
   "execution_count": 7,
   "id": "93a5a625-32c1-4f60-9d97-687fda24d754",
   "metadata": {},
   "outputs": [],
   "source": [
    "# searcher = scann.scann_ops_pybind.builder(glove.vectors, 20, \"dot_product\").tree(\n",
    "#     num_leaves=2000, num_leaves_to_search=300, training_sample_size=250000).score_ah(\n",
    "#     2, anisotropic_quantization_threshold=0.2).reorder(100).build()"
   ]
  },
  {
   "cell_type": "code",
   "execution_count": 8,
   "id": "30d0518f-09ed-4746-96b0-ab4f7deeebfe",
   "metadata": {},
   "outputs": [],
   "source": [
    "def compute_recall(neighbors, true_neighbors):\n",
    "    total = 0\n",
    "    for gt_row, row in zip(true_neighbors, neighbors):\n",
    "        total += np.intersect1d(gt_row, row).shape[0]\n",
    "    return total / true_neighbors.size"
   ]
  },
  {
   "cell_type": "code",
   "execution_count": 6,
   "id": "aacd9d05-9e8b-44f2-9840-e4b49e418151",
   "metadata": {},
   "outputs": [
    {
     "data": {
      "text/plain": [
       "(2, 300)"
      ]
     },
     "execution_count": 6,
     "metadata": {},
     "output_type": "execute_result"
    }
   ],
   "source": [
    "glove.vectorize([\"hot dog\", \"vanilla ice cream\"]).shape"
   ]
  },
  {
   "cell_type": "code",
   "execution_count": 76,
   "id": "c6ad1803-c934-495e-ba30-b61d8b247a31",
   "metadata": {},
   "outputs": [
    {
     "name": "stdout",
     "output_type": "stream",
     "text": [
      "458 µs ± 1.12 µs per loop (mean ± std. dev. of 7 runs, 1000 loops each)\n"
     ]
    }
   ],
   "source": [
    "%timeit guesser.generate_word_suggestions_mean_approx([\"seal\" , \"antarctica\", \"meal\"], 20)"
   ]
  },
  {
   "cell_type": "code",
   "execution_count": 77,
   "id": "f23d3b3b-d954-4250-bbcf-25fcb7d511f6",
   "metadata": {},
   "outputs": [
    {
     "name": "stdout",
     "output_type": "stream",
     "text": [
      "1.78 ms ± 9.34 µs per loop (mean ± std. dev. of 7 runs, 100 loops each)\n"
     ]
    }
   ],
   "source": [
    "%timeit guesser.generate_word_suggestions_minimax_approx([\"seal\" , \"antarctica\", \"meal\"], 20)"
   ]
  },
  {
   "cell_type": "code",
   "execution_count": 78,
   "id": "7c442b18-5764-4dac-a4f8-3275f5340b8a",
   "metadata": {},
   "outputs": [
    {
     "name": "stdout",
     "output_type": "stream",
     "text": [
      "15 ms ± 140 µs per loop (mean ± std. dev. of 7 runs, 100 loops each)\n"
     ]
    }
   ],
   "source": [
    "%timeit guesser.generate_word_suggestions_minimax([\"seal\" , \"antarctica\", \"meal\"], 20)"
   ]
  },
  {
   "cell_type": "code",
   "execution_count": 79,
   "id": "ac6f87d6-66ff-411c-bf98-2ca383f6ad45",
   "metadata": {},
   "outputs": [
    {
     "name": "stdout",
     "output_type": "stream",
     "text": [
      "11.6 ms ± 42.9 µs per loop (mean ± std. dev. of 7 runs, 100 loops each)\n"
     ]
    }
   ],
   "source": [
    "%timeit guesser.generate_word_suggestions_mean([\"seal\" , \"antarctica\", \"meal\"], 20)"
   ]
  },
  {
   "cell_type": "code",
   "execution_count": 73,
   "id": "39366e32-54c3-4fb4-8974-186575a36cbc",
   "metadata": {},
   "outputs": [
    {
     "data": {
      "text/plain": [
       "(array(['SHEEP', 'FROZEN', 'CRUST', 'WARM', 'TIP', 'PLATE', 'COLD',\n",
       "        'FOUND', 'WHALE', 'EXCEPT', 'SALMON', 'HERDS', 'ICE', 'BIRDS',\n",
       "        'HUNTING', 'FISHING', 'PART', 'WATER', 'ANIMALS', 'TUNA'],\n",
       "       dtype='<U68'),\n",
       " array([0.17065495, 0.17747653, 0.16777915, 0.17051882, 0.16651243,\n",
       "        0.20739967, 0.17263836, 0.16866185, 0.18349618, 0.1663252 ,\n",
       "        0.17003855, 0.1648033 , 0.16315228, 0.164646  , 0.15517467,\n",
       "        0.16137823, 0.15814513, 0.16325317, 0.16153371, 0.16132432],\n",
       "       dtype=float32))"
      ]
     },
     "execution_count": 73,
     "metadata": {},
     "output_type": "execute_result"
    }
   ],
   "source": [
    "guesser.generate_word_suggestions_minimax([\"seal\" , \"antarctica\", \"meal\"], 20)"
   ]
  },
  {
   "cell_type": "code",
   "execution_count": 61,
   "id": "09042231-b199-4532-88e6-314988931f50",
   "metadata": {
    "tags": []
   },
   "outputs": [
    {
     "data": {
      "text/plain": [
       "(array(['SEAL', 'ANTARCTICA', 'ANTARCTIC', 'GREENLAND', 'SEALS', 'ARCTIC',\n",
       "        'POLAR', 'SEA', 'WEDDELL', 'OCEAN'], dtype='<U68'),\n",
       " array([0.5548296 , 0.5548296 , 0.48517594, 0.4253925 , 0.42118257,\n",
       "        0.40078425, 0.37852728, 0.34951   , 0.33835346, 0.3367697 ],\n",
       "       dtype=float32))"
      ]
     },
     "execution_count": 61,
     "metadata": {},
     "output_type": "execute_result"
    }
   ],
   "source": [
    "guesser.give_hint_candidates([\"seal\" , \"antarctica\"], strategy=\"approx_mean\")"
   ]
  },
  {
   "cell_type": "code",
   "execution_count": 52,
   "id": "d8075503-1795-48ea-acaf-6d2dc7842b63",
   "metadata": {},
   "outputs": [
    {
     "data": {
      "text/plain": [
       "array(['LITTER', 'TRAIN', 'ROBOT'], dtype='<U11')"
      ]
     },
     "execution_count": 52,
     "metadata": {},
     "output_type": "execute_result"
    }
   ],
   "source": [
    "codenames_hacked_env.generate_candidates([], 3)"
   ]
  },
  {
   "cell_type": "code",
   "execution_count": 9,
   "id": "d245cb95-88be-4213-ad0b-d4a6cab65c49",
   "metadata": {},
   "outputs": [],
   "source": [
    "codenames_hacked_env = CodenamesEnvHack(glove, wordlist)"
   ]
  },
  {
   "cell_type": "code",
   "execution_count": 10,
   "id": "b228aa86-4f73-45b0-a143-d8598fbc0f5a",
   "metadata": {},
   "outputs": [
    {
     "name": "stdout",
     "output_type": "stream",
     "text": [
      "[['TRIANGLE_BL' 'BED_RE' 'ROBOT_RE' 'DISEASE_RE' 'SCREEN_BL']\n",
      " ['TRAIN_BL' 'FOREST_RE' 'SATURN_BY' 'PASS_BL' 'STREAM_BL']\n",
      " ['MISSILE_BY' 'CHAIR_RE' 'RACKET_BL' 'LITTER_BY' 'JET_BY']\n",
      " ['LEMON_AS' 'TIME_BY' 'FRANCE_RE' 'HOTEL_RE' 'CAPITAL_BY']\n",
      " ['NIGHT_BL' 'KID_BL' 'TRIP_RE' 'DROP_BL' 'FOOT_BY']]\n",
      "It is BLUE's turn.\n",
      "The bot is on the BLUE team.\n",
      "Remaining words: {'ASSASSIN': {'LEMON'}, 'BLUE': {'KID', 'DROP', 'TRIANGLE', 'NIGHT', 'STREAM', 'RACKET', 'PASS', 'TRAIN', 'SCREEN'}, 'BYSTANDER': {'JET', 'FOOT', 'SATURN', 'LITTER', 'CAPITAL', 'MISSILE', 'TIME'}, 'RED': {'ROBOT', 'TRIP', 'FOREST', 'DISEASE', 'CHAIR', 'FRANCE', 'HOTEL', 'BED'}}\n",
      "Remaining word count: {'ASSASSIN': 1, 'BLUE': 9, 'BYSTANDER': 7, 'RED': 8}\n",
      "Hint history: []\n",
      "Guessed words []\n",
      "\n"
     ]
    },
    {
     "data": {
      "text/plain": [
       "numpy.ndarray"
      ]
     },
     "execution_count": 10,
     "metadata": {},
     "output_type": "execute_result"
    }
   ],
   "source": [
    "codenames_hacked_env.start_new_game()\n",
    "codenames_hacked_env.render()\n",
    "type(codenames_hacked_env.current_observation())"
   ]
  },
  {
   "cell_type": "code",
   "execution_count": 11,
   "id": "0a859c39-67a1-4a98-9aea-86f82b4cfd16",
   "metadata": {},
   "outputs": [],
   "source": [
    "def bench_me():\n",
    "    action = codenames_hacked_env.action_space.sample()\n",
    "    step = codenames_hacked_env.step(action)\n",
    "    print(step[1:3])"
   ]
  },
  {
   "cell_type": "code",
   "execution_count": 12,
   "id": "e7694951-2ac8-43ba-b966-36d971d491ad",
   "metadata": {},
   "outputs": [
    {
     "name": "stdout",
     "output_type": "stream",
     "text": [
      "(-1, False)\n"
     ]
    }
   ],
   "source": [
    "bench_me()"
   ]
  },
  {
   "cell_type": "code",
   "execution_count": 16,
   "id": "b331ca46-9362-46f4-9838-0aff5fc1d9d1",
   "metadata": {},
   "outputs": [],
   "source": [
    "qq = np.arange(12).reshape(3, 4)"
   ]
  },
  {
   "cell_type": "code",
   "execution_count": 20,
   "id": "b341cbe4-a23d-4d9a-827a-fa4f50f31f1f",
   "metadata": {},
   "outputs": [],
   "source": [
    "em = np.arange(100, 244).reshape(12, 12)"
   ]
  },
  {
   "cell_type": "code",
   "execution_count": 21,
   "id": "5b4b32f3-fbe9-4a88-ac1e-c66f990cc363",
   "metadata": {},
   "outputs": [
    {
     "data": {
      "text/plain": [
       "array([[[100, 101, 102, 103, 104, 105, 106, 107, 108, 109, 110, 111],\n",
       "        [112, 113, 114, 115, 116, 117, 118, 119, 120, 121, 122, 123],\n",
       "        [124, 125, 126, 127, 128, 129, 130, 131, 132, 133, 134, 135],\n",
       "        [136, 137, 138, 139, 140, 141, 142, 143, 144, 145, 146, 147]],\n",
       "\n",
       "       [[148, 149, 150, 151, 152, 153, 154, 155, 156, 157, 158, 159],\n",
       "        [160, 161, 162, 163, 164, 165, 166, 167, 168, 169, 170, 171],\n",
       "        [172, 173, 174, 175, 176, 177, 178, 179, 180, 181, 182, 183],\n",
       "        [184, 185, 186, 187, 188, 189, 190, 191, 192, 193, 194, 195]],\n",
       "\n",
       "       [[196, 197, 198, 199, 200, 201, 202, 203, 204, 205, 206, 207],\n",
       "        [208, 209, 210, 211, 212, 213, 214, 215, 216, 217, 218, 219],\n",
       "        [220, 221, 222, 223, 224, 225, 226, 227, 228, 229, 230, 231],\n",
       "        [232, 233, 234, 235, 236, 237, 238, 239, 240, 241, 242, 243]]])"
      ]
     },
     "execution_count": 21,
     "metadata": {},
     "output_type": "execute_result"
    }
   ],
   "source": [
    "em[qq]"
   ]
  },
  {
   "cell_type": "code",
   "execution_count": 51,
   "id": "ae10ab50-1439-4de2-b265-523b8828697a",
   "metadata": {},
   "outputs": [
    {
     "name": "stderr",
     "output_type": "stream",
     "text": [
      "/home/sherman/miniconda3/envs/fn_env/lib/python3.6/site-packages/ipykernel_launcher.py:1: FutureWarning: Using a non-tuple sequence for multidimensional indexing is deprecated; use `arr[tuple(seq)]` instead of `arr[seq]`. In the future this will be interpreted as an array index, `arr[np.array(seq)]`, which will result either in an error or a different result.\n",
      "  \"\"\"Entry point for launching an IPython kernel.\n"
     ]
    },
    {
     "data": {
      "text/plain": [
       "array([[0.5202359 , 0.6081388 , 0.70579576],\n",
       "       [0.99999994, 0.7548188 , 0.5423798 ]], dtype=float32)"
      ]
     },
     "execution_count": 51,
     "metadata": {},
     "output_type": "execute_result"
    }
   ],
   "source": [
    "glove.vectors[[np.array([0, 1])]] @ glove.vectors[np.array([1, 2, 3])].T"
   ]
  },
  {
   "cell_type": "code",
   "execution_count": 55,
   "id": "12845cd5-db68-4298-8922-125457112577",
   "metadata": {},
   "outputs": [
    {
     "name": "stderr",
     "output_type": "stream",
     "text": [
      "/home/sherman/miniconda3/envs/fn_env/lib/python3.6/site-packages/ipykernel_launcher.py:1: FutureWarning: Using a non-tuple sequence for multidimensional indexing is deprecated; use `arr[tuple(seq)]` instead of `arr[seq]`. In the future this will be interpreted as an array index, `arr[np.array(seq)]`, which will result either in an error or a different result.\n",
      "  \"\"\"Entry point for launching an IPython kernel.\n"
     ]
    },
    {
     "data": {
      "text/plain": [
       "array([0.5202359, 0.5423798], dtype=float32)"
      ]
     },
     "execution_count": 55,
     "metadata": {},
     "output_type": "execute_result"
    }
   ],
   "source": [
    "np.min(glove.vectors[[np.array([0, 1])]] @ glove.vectors[np.array([1, 2, 3])].T, axis=1)"
   ]
  },
  {
   "cell_type": "code",
   "execution_count": 14,
   "id": "7cbbb415-50bb-4079-b48d-4296cc83529e",
   "metadata": {},
   "outputs": [
    {
     "name": "stdout",
     "output_type": "stream",
     "text": [
      "(-1, False)\n"
     ]
    },
    {
     "data": {
      "text/plain": [
       "Timer unit: 1e-06 s\n",
       "\n",
       "Total time: 0.002149 s\n",
       "File: /mnt/ubuntu_data_hdd/school/masters/uwaterloo/1b/cs885/project/codenames/codenames_ai/src/codenames.py\n",
       "Function: generate_word_suggestions_mean_approx at line 430\n",
       "\n",
       "Line #      Hits         Time  Per Hit   % Time  Line Contents\n",
       "==============================================================\n",
       "   430                                               def generate_word_suggestions_mean_approx(self, words: tp.List[str], limit: int = 10) -> tp.Tuple[tp.Sequence[str], tp.Sequence[float]]:\n",
       "   431         1          6.0      6.0      0.3          assert self.glove.normalized and self.glove.use_approximate\n",
       "   432         1        558.0    558.0     26.0          word_vector = self.glove.vectorize(words).mean(0)\n",
       "   433         1       1512.0   1512.0     70.4          chosen_words, similarity_scores = self.glove.searcher.search(word_vector, final_num_neighbors=limit)\n",
       "   434         1         71.0     71.0      3.3          chosen_words = self.glove.tokens[chosen_words]\n",
       "   435         1          2.0      2.0      0.1          return chosen_words, similarity_scores"
      ]
     },
     "metadata": {},
     "output_type": "display_data"
    }
   ],
   "source": [
    "%lprun -f GloveGuesser.generate_word_suggestions_mean_approx bench_me()"
   ]
  },
  {
   "cell_type": "code",
   "execution_count": 15,
   "id": "61b3b8b6-f23c-4e0c-a339-7fdc18d4a4f7",
   "metadata": {},
   "outputs": [
    {
     "name": "stdout",
     "output_type": "stream",
     "text": [
      "(-1, False)\n"
     ]
    },
    {
     "data": {
      "text/plain": [
       "Timer unit: 1e-06 s\n",
       "\n",
       "Total time: 0.003831 s\n",
       "File: <ipython-input-11-115d76da6bb3>\n",
       "Function: bench_me at line 1\n",
       "\n",
       "Line #      Hits         Time  Per Hit   % Time  Line Contents\n",
       "=============================================================="
      ]
     },
     "metadata": {},
     "output_type": "display_data"
    }
   ],
   "source": [
    "%lprun -f bench_me bench_me()"
   ]
  },
  {
   "cell_type": "code",
   "execution_count": 20,
   "id": "c37fd606-4ea5-46ae-bb7e-b8b51e79af66",
   "metadata": {},
   "outputs": [
    {
     "name": "stdout",
     "output_type": "stream",
     "text": [
      "[['TRIANGLE_BL' 'bed_re' 'ROBOT_RE' 'DISEASE_RE' 'SCREEN_BL']\n",
      " ['TRAIN_BL' 'FOREST_RE' 'SATURN_BY' 'PASS_BL' 'STREAM_BL']\n",
      " ['MISSILE_BY' 'CHAIR_RE' 'RACKET_BL' 'LITTER_BY' 'JET_BY']\n",
      " ['LEMON_AS' 'time_by' 'FRANCE_RE' 'HOTEL_RE' 'capital_by']\n",
      " ['night_bl' 'kid_bl' 'trip_re' 'drop_bl' 'FOOT_BY']]\n",
      "It is BLUE's turn.\n",
      "The bot is on the BLUE team.\n",
      "Remaining words: {'ASSASSIN': {'LEMON'}, 'BLUE': {'TRIANGLE', 'STREAM', 'RACKET', 'PASS', 'TRAIN', 'SCREEN'}, 'BYSTANDER': {'JET', 'FOOT', 'SATURN', 'LITTER', 'MISSILE'}, 'RED': {'ROBOT', 'DISEASE', 'FOREST', 'CHAIR', 'FRANCE', 'HOTEL'}}\n",
      "Remaining word count: {'ASSASSIN': 1, 'BLUE': 6, 'BYSTANDER': 5, 'RED': 6}\n",
      "Hint history: [Hint(word='THEN', count=11, team='BLUE', num_guessed=1, num_guessed_correctly=0), Hint(word='WHICH', count=11, team='BLUE', num_guessed=1, num_guessed_correctly=0), Hint(word='JUST', count=17, team='BLUE', num_guessed=4, num_guessed_correctly=3), Hint(word='YOU', count=12, team='BLUE', num_guessed=1, num_guessed_correctly=0)]\n",
      "Guessed words [['TIME_BY'], ['CAPITAL_BY'], ['KID_BL', 'NIGHT_BL', 'DROP_BL', 'TRIP_RE'], ['BED_RE']]\n",
      "\n"
     ]
    }
   ],
   "source": [
    "codenames_hacked_env.render()"
   ]
  },
  {
   "cell_type": "code",
   "execution_count": null,
   "id": "e1ec42d8-77fc-4817-ad83-b512fbe53dd2",
   "metadata": {},
   "outputs": [],
   "source": []
  }
 ],
 "metadata": {
  "kernelspec": {
   "display_name": "Python 3.6 (fn_env)",
   "language": "python",
   "name": "fn_env"
  },
  "language_info": {
   "codemirror_mode": {
    "name": "ipython",
    "version": 3
   },
   "file_extension": ".py",
   "mimetype": "text/x-python",
   "name": "python",
   "nbconvert_exporter": "python",
   "pygments_lexer": "ipython3",
   "version": "3.6.13"
  }
 },
 "nbformat": 4,
 "nbformat_minor": 5
}
