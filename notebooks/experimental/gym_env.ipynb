{
 "cells": [
  {
   "cell_type": "code",
   "execution_count": null,
   "id": "bf1ce7ec-2106-4855-bb47-b79ff07c8241",
   "metadata": {},
   "outputs": [],
   "source": [
    "%load_ext autoreload\n",
    "%autoreload 2"
   ]
  },
  {
   "cell_type": "code",
   "execution_count": 2,
   "id": "cc090183-2397-4426-989a-7b6faec57ad2",
   "metadata": {},
   "outputs": [],
   "source": [
    "import sys\n",
    "import gym\n",
    "import pathlib\n",
    "import typing as tp\n",
    "from scipy.special import softmax\n",
    "import pandas as pd"
   ]
  },
  {
   "cell_type": "code",
   "execution_count": 3,
   "id": "a85c7700-924b-4db4-b386-bddbc3c91141",
   "metadata": {},
   "outputs": [
    {
     "name": "stdout",
     "output_type": "stream",
     "text": [
      "/mnt/ubuntu_data_hdd/school/masters/uwaterloo/1b/cs885/project/codenames/codenames_ai/notebooks/experimental\n"
     ]
    }
   ],
   "source": [
    "!pwd"
   ]
  },
  {
   "cell_type": "code",
   "execution_count": 4,
   "id": "14754d4c-bf6d-41f4-b50a-c4dc06f648f4",
   "metadata": {},
   "outputs": [
    {
     "data": {
      "text/plain": [
       "PosixPath('/mnt/ubuntu_data_hdd/school/masters/uwaterloo/1b/cs885/project/codenames/codenames_ai/notebooks/experimental/src')"
      ]
     },
     "execution_count": 4,
     "metadata": {},
     "output_type": "execute_result"
    }
   ],
   "source": [
    "pathlib.Path(\"./src/\").resolve()"
   ]
  },
  {
   "cell_type": "code",
   "execution_count": 5,
   "id": "7e50f481-84e0-4874-8010-c5b4a068aedd",
   "metadata": {},
   "outputs": [],
   "source": [
    "sys.path.insert(0, '/mnt/ubuntu_data_hdd/school/masters/uwaterloo/1b/cs885/project/codenames/codenames_ai/src')"
   ]
  },
  {
   "cell_type": "code",
   "execution_count": 6,
   "id": "7169883e-a4e9-413a-bee4-2567b793c9f0",
   "metadata": {},
   "outputs": [
    {
     "name": "stderr",
     "output_type": "stream",
     "text": [
      "[libprotobuf WARNING external/com_google_protobuf/src/google/protobuf/text_format.cc:339] Warning parsing text-format research_scann.ScannConfig: 43:11: text format contains deprecated field \"min_cluster_size\"\n",
      "2022-11-18 17:23:48.584307: I scann/partitioning/partitioner_factory_base.cc:59] Size of sampled dataset for training partition: 53044\n",
      "2022-11-18 17:23:50.054982: I ./scann/partitioning/kmeans_tree_partitioner_utils.h:88] PartitionerFactory ran in 1.470623489s.\n",
      "[libprotobuf WARNING external/com_google_protobuf/src/google/protobuf/text_format.cc:339] Warning parsing text-format research_scann.ScannConfig: 43:11: text format contains deprecated field \"min_cluster_size\"\n",
      "2022-11-18 17:24:03.682086: I scann/partitioning/partitioner_factory_base.cc:59] Size of sampled dataset for training partition: 47240\n",
      "2022-11-18 17:24:05.000138: I ./scann/partitioning/kmeans_tree_partitioner_utils.h:88] PartitionerFactory ran in 1.318003004s.\n"
     ]
    }
   ],
   "source": [
    "from default_game import *\n",
    "from codenames import *"
   ]
  },
  {
   "cell_type": "code",
   "execution_count": 7,
   "id": "2b31ffa2-4123-4c29-b663-d46d12e11e04",
   "metadata": {},
   "outputs": [
    {
     "data": {
      "text/plain": [
       "{'ASSASSIN': {'IRON'},\n",
       " 'BLUE': {'LAP'},\n",
       " 'BYSTANDER': {'ATLANTIS'},\n",
       " 'RED': {'SCUBA DIVER'}}"
      ]
     },
     "execution_count": 7,
     "metadata": {},
     "output_type": "execute_result"
    }
   ],
   "source": [
    "board.bag_state()"
   ]
  },
  {
   "cell_type": "code",
   "execution_count": 8,
   "id": "26ff57f7-07eb-473b-9103-4e4f0f11b372",
   "metadata": {},
   "outputs": [
    {
     "name": "stdout",
     "output_type": "stream",
     "text": [
      "[['LAP_BL' 'ATLANTIS_BY']\n",
      " ['IRON_AS' 'SCUBA DIVER_RE']]\n",
      "It is BLUE's turn.\n"
     ]
    }
   ],
   "source": [
    "view.spymaster_view()"
   ]
  },
  {
   "cell_type": "code",
   "execution_count": 9,
   "id": "9e8bf41f-510b-4b69-9c4d-0ed01aeac67d",
   "metadata": {},
   "outputs": [],
   "source": [
    "board.jump_to_random_state()"
   ]
  },
  {
   "cell_type": "code",
   "execution_count": 10,
   "id": "bb3bdcab-cfb4-4963-a420-30e395f7b2c3",
   "metadata": {},
   "outputs": [],
   "source": [
    "board.reset_game()"
   ]
  },
  {
   "cell_type": "code",
   "execution_count": 11,
   "id": "214ccb04-0852-4ce0-b8d3-95b621df3739",
   "metadata": {
    "tags": []
   },
   "outputs": [
    {
     "data": {
      "text/plain": [
       "array([[ 0.06517141,  0.03295911, -0.03899578, ..., -0.0582769 ,\n",
       "         0.0792063 , -0.09123337],\n",
       "       [ 0.0797333 , -0.09954641,  0.05793308, ..., -0.06460299,\n",
       "        -0.10032429,  0.08915829],\n",
       "       [-0.00137182,  0.00636226,  0.00139497, ..., -0.08836597,\n",
       "        -0.06429217,  0.05859531],\n",
       "       [ 0.07003275, -0.00491656, -0.00575322, ...,  0.07092778,\n",
       "         0.04953808, -0.04238456]], dtype=float32)"
      ]
     },
     "execution_count": 11,
     "metadata": {},
     "output_type": "execute_result"
    }
   ],
   "source": [
    "guesser.board_vectors"
   ]
  },
  {
   "cell_type": "code",
   "execution_count": 12,
   "id": "2d23076e-60e0-4312-b202-d48b1dc120ab",
   "metadata": {},
   "outputs": [],
   "source": [
    "def resize_token_vector(vector, limit):\n",
    "    \"\"\"Resize a 1D token vector to a given length, padding with \"0\" when necessary.\"\"\"\n",
    "    vector = vector[:limit]\n",
    "    return np.pad(vector, (0, limit-vector.shape[0]))"
   ]
  },
  {
   "cell_type": "code",
   "execution_count": 13,
   "id": "34d9a117-a4ec-49a6-a044-416eed5bf5dc",
   "metadata": {},
   "outputs": [
    {
     "data": {
      "text/plain": [
       "array(['BIRD', 'GROUND', 'BUILD'], dtype='<U6')"
      ]
     },
     "execution_count": 13,
     "metadata": {},
     "output_type": "execute_result"
    }
   ],
   "source": [
    "resize_token_vector(np.array(['BIRD', 'GROUND', 'BUILD']), 3)"
   ]
  },
  {
   "cell_type": "code",
   "execution_count": 14,
   "id": "84236070-fc9a-4540-8fb4-2c26902863e4",
   "metadata": {},
   "outputs": [
    {
     "data": {
      "text/plain": [
       "array(['BIRD', 'GROUND', 'BUILD', '0'], dtype='<U6')"
      ]
     },
     "execution_count": 14,
     "metadata": {},
     "output_type": "execute_result"
    }
   ],
   "source": [
    "resize_token_vector(np.array(['BIRD', 'GROUND', 'BUILD']), 4)"
   ]
  },
  {
   "cell_type": "code",
   "execution_count": 15,
   "id": "90c0bf7c-22ad-4723-9e88-b91646f1fe56",
   "metadata": {},
   "outputs": [
    {
     "data": {
      "text/plain": [
       "array(['BIRD', 'GROUND'], dtype='<U6')"
      ]
     },
     "execution_count": 15,
     "metadata": {},
     "output_type": "execute_result"
    }
   ],
   "source": [
    "resize_token_vector(np.array(['BIRD', 'GROUND', 'BUILD']), 2)"
   ]
  },
  {
   "cell_type": "code",
   "execution_count": 16,
   "id": "26a10574-2ce1-4e1f-a50a-97e4c0915b85",
   "metadata": {},
   "outputs": [],
   "source": [
    "def generate_candidates(targets: tp.Sequence[str], limit: int):\n",
    "    mean_candidates = guesser.give_hint_candidates(targets, strategy=\"mean\")[0]\n",
    "    minimax_candidates = guesser.give_hint_candidates(targets, strategy=\"minimax\")[0]\n",
    "    all_candidates = np.concatenate([\n",
    "        resize_token_vector(mean_candidates, limit),\n",
    "        resize_token_vector(minimax_candidates, limit),\n",
    "    ])\n",
    "    return all_candidates"
   ]
  },
  {
   "cell_type": "code",
   "execution_count": 17,
   "id": "cd8ff24c-ac49-4385-ab0e-c5ac64590250",
   "metadata": {},
   "outputs": [
    {
     "data": {
      "text/plain": [
       "array(['NEST', 'TURKEY', 'NESTS', 'BIRD', 'SEA', 'GROUND'], dtype='<U68')"
      ]
     },
     "execution_count": 17,
     "metadata": {},
     "output_type": "execute_result"
    }
   ],
   "source": [
    "generate_candidates([\"turkey\", \"nest\"], 3)"
   ]
  },
  {
   "cell_type": "code",
   "execution_count": 18,
   "id": "b1302b82-80c9-46e2-b63a-59b42aebba8d",
   "metadata": {},
   "outputs": [
    {
     "data": {
      "text/plain": [
       "(array(['BIRD', 'SEA', 'GROUND', 'BUILD', 'BIRDS', 'LARGE', 'INSIDE',\n",
       "        'LEAVE', 'CHICKENS', 'CHICKEN'], dtype='<U68'),\n",
       " array([0.29796296, 0.27114794, 0.26066473, 0.24819808, 0.23867956,\n",
       "        0.23817247, 0.23707423, 0.23084365, 0.23036703, 0.22719172],\n",
       "       dtype=float32))"
      ]
     },
     "execution_count": 18,
     "metadata": {},
     "output_type": "execute_result"
    }
   ],
   "source": [
    "guesser.give_hint_candidates([\"turkey\", \"nest\"], strategy=\"minimax\")"
   ]
  },
  {
   "cell_type": "code",
   "execution_count": 32,
   "id": "34bb1d81-8499-4f24-b235-22bda20f80a9",
   "metadata": {},
   "outputs": [
    {
     "data": {
      "text/plain": [
       "(array(['NEST', 'TURKEY', 'NESTS', 'EGGS', 'ANKARA', 'TURKISH', 'BIRDS',\n",
       "        'NESTING', 'BIRD', 'EGG'], dtype='<U68'),\n",
       " array([0.5506865 , 0.5506864 , 0.41028476, 0.37161985, 0.36334908,\n",
       "        0.3618063 , 0.35904393, 0.33748683, 0.31771627, 0.31606936],\n",
       "       dtype=float32))"
      ]
     },
     "execution_count": 32,
     "metadata": {},
     "output_type": "execute_result"
    }
   ],
   "source": [
    "guesser.give_hint_candidates([\"turkey\", \"nest\"], strategy=\"mean\")"
   ]
  },
  {
   "cell_type": "code",
   "execution_count": 20,
   "id": "575922a2-aade-45a1-95d6-3309c00e7740",
   "metadata": {},
   "outputs": [],
   "source": [
    "def find_x_in_y(x, y):\n",
    "    # https://stackoverflow.com/a/8251757\n",
    "    x = np.array(x)\n",
    "    index = np.argsort(x)\n",
    "    sorted_x = x[index]\n",
    "    sorted_index = np.searchsorted(sorted_x, y)\n",
    "    y_index = np.take(index, sorted_index, mode=\"clip\")\n",
    "    return y_index[x[y_index] == y]"
   ]
  },
  {
   "cell_type": "code",
   "execution_count": 21,
   "id": "0aef4f04-0af8-4251-8dca-6c2988a52fdd",
   "metadata": {},
   "outputs": [
    {
     "data": {
      "text/plain": [
       "array([3, 1, 1, 4, 0, 2, 0, 4, 1, 3, 3, 0])"
      ]
     },
     "execution_count": 21,
     "metadata": {},
     "output_type": "execute_result"
    }
   ],
   "source": [
    "# Test\n",
    "find_x_in_y(np.array(['auto', 5, 6, 10, 1]), np.array([10, 5, 5, 1, 'auto', 6, 'auto', 1, 5, 10, 10, 'auto']))"
   ]
  },
  {
   "cell_type": "code",
   "execution_count": 22,
   "id": "9319c26e-6a33-4f34-b582-cad2bc3b5718",
   "metadata": {},
   "outputs": [
    {
     "data": {
      "text/plain": [
       "array([0, 1, 6])"
      ]
     },
     "execution_count": 22,
     "metadata": {},
     "output_type": "execute_result"
    }
   ],
   "source": [
    "find_x_in_y(np.array(['COLD', 'NIGHT', 'DAY', 'PASTE', 'LINE', 'HORSE', 'PART', 'SHOE',\n",
    "       'LIFE']), np.array(['COLD', 'NIGHT', 'PART']))"
   ]
  },
  {
   "cell_type": "code",
   "execution_count": 23,
   "id": "c23d4522-e68c-4e13-b043-c7fcba6d476b",
   "metadata": {},
   "outputs": [
    {
     "data": {
      "text/plain": [
       "array([6, 1, 0])"
      ]
     },
     "execution_count": 23,
     "metadata": {},
     "output_type": "execute_result"
    }
   ],
   "source": [
    "find_x_in_y(np.array(['COLD', 'NIGHT', 'DAY', 'PASTE', 'LINE', 'HORSE', 'PART', 'SHOE',\n",
    "       'LIFE']), np.array(['COLD', 'NIGHT', 'PART'])[::-1], )"
   ]
  },
  {
   "cell_type": "code",
   "execution_count": 24,
   "id": "7a919498-0a8b-4fd1-b1f2-1344e919aa21",
   "metadata": {},
   "outputs": [
    {
     "data": {
      "text/plain": [
       "array([0, 1, 2])"
      ]
     },
     "execution_count": 24,
     "metadata": {},
     "output_type": "execute_result"
    }
   ],
   "source": [
    "np.where(np.in1d(['COLD', 'NIGHT', 'PART'][::-1], ['COLD', 'NIGHT', 'DAY', 'PASTE', 'LINE', 'HORSE', 'PART', 'SHOE',\n",
    "       'LIFE']))[0]"
   ]
  },
  {
   "cell_type": "code",
   "execution_count": 28,
   "id": "9d4444b1-8fb9-4181-b838-ad3adc0b5dbb",
   "metadata": {},
   "outputs": [
    {
     "data": {
      "text/plain": [
       "Hint(word='OTTAWA', count=25, team='BLUE', num_guessed=0, num_guessed_correctly=0)"
      ]
     },
     "execution_count": 28,
     "metadata": {},
     "output_type": "execute_result"
    }
   ],
   "source": [
    "Hint(\"OTTAWA\", 25, \"BLUE\")"
   ]
  },
  {
   "cell_type": "code",
   "execution_count": 35,
   "id": "bc9294cc-e06d-44ef-a9dd-f74c6c422d39",
   "metadata": {},
   "outputs": [
    {
     "data": {
      "text/plain": [
       "{'ASSASSIN': {'IRON'},\n",
       " 'BLUE': {'LAP'},\n",
       " 'BYSTANDER': {'ATLANTIS'},\n",
       " 'RED': {'SCUBA DIVER'}}"
      ]
     },
     "execution_count": 35,
     "metadata": {},
     "output_type": "execute_result"
    }
   ],
   "source": [
    "board.bag_state()"
   ]
  },
  {
   "cell_type": "code",
   "execution_count": 39,
   "id": "9cdc9e6d-b9c0-4e9b-ae95-8cd2d2ab46f1",
   "metadata": {},
   "outputs": [
    {
     "name": "stdout",
     "output_type": "stream",
     "text": [
      "(array(['IRON'], dtype='<U11'), array([0.60893506], dtype=float32))\n"
     ]
    },
    {
     "data": {
      "text/plain": [
       "array([1.], dtype=float32)"
      ]
     },
     "execution_count": 39,
     "metadata": {},
     "output_type": "execute_result"
    }
   ],
   "source": [
    "guess = guesser.guess(Hint(\"METAL\", 25, \"BLUE\"))\n",
    "print(guess)\n",
    "softmax(guess[1]*20)"
   ]
  },
  {
   "cell_type": "code",
   "execution_count": 26,
   "id": "f798671d-298d-49ef-b9de-deefd25f8a9e",
   "metadata": {},
   "outputs": [],
   "source": [
    "guess_softmax = np.random.choice(guess[0], 3, p=softmax(guess[1]*20), replace=False)"
   ]
  },
  {
   "cell_type": "code",
   "execution_count": 27,
   "id": "92a0b42b-f333-482e-ae03-6d53985779bd",
   "metadata": {},
   "outputs": [
    {
     "data": {
      "text/plain": [
       "array(['BACK', 'SCHOOL', 'FACE'], dtype='<U11')"
      ]
     },
     "execution_count": 27,
     "metadata": {},
     "output_type": "execute_result"
    }
   ],
   "source": [
    "guess_softmax"
   ]
  },
  {
   "cell_type": "code",
   "execution_count": 42,
   "id": "189f081f-d960-4f8e-aeae-6c989c508437",
   "metadata": {
    "tags": []
   },
   "outputs": [
    {
     "data": {
      "text/plain": [
       "(20, 4)"
      ]
     },
     "execution_count": 42,
     "metadata": {},
     "output_type": "execute_result"
    }
   ],
   "source": [
    "batched_cosine_similarity(\n",
    "    glove.vectorize(generate_candidates([\"night\", \"horse\"], 10)),\n",
    "    guesser.board_vectors\n",
    ").shape"
   ]
  },
  {
   "cell_type": "code",
   "execution_count": 43,
   "id": "74d2fb67-a884-4629-8fd1-36ef67bb8925",
   "metadata": {},
   "outputs": [],
   "source": [
    "self_similarity = batched_cosine_similarity(\n",
    "    guesser.board_vectors,\n",
    "    guesser.board_vectors\n",
    ")"
   ]
  },
  {
   "cell_type": "code",
   "execution_count": 44,
   "id": "0980e0f1-a5d0-4f5d-b118-270d7969be49",
   "metadata": {},
   "outputs": [
    {
     "data": {
      "text/plain": [
       "<AxesSubplot: >"
      ]
     },
     "execution_count": 44,
     "metadata": {},
     "output_type": "execute_result"
    },
    {
     "data": {
      "image/png": "[encoded data removed]",
      "text/plain": [
       "<Figure size 640x480 with 1 Axes>"
      ]
     },
     "metadata": {},
     "output_type": "display_data"
    }
   ],
   "source": [
    "pd.Series(self_similarity.flatten()).hist()"
   ]
  },
  {
   "cell_type": "code",
   "execution_count": 45,
   "id": "460ba673-e716-479a-a075-b56950002bec",
   "metadata": {},
   "outputs": [],
   "source": [
    "my_team = \"RED\""
   ]
  },
  {
   "cell_type": "code",
   "execution_count": 46,
   "id": "f1b03b2a-98bf-418a-b5be-97c21fca2923",
   "metadata": {},
   "outputs": [],
   "source": [
    "opponent_team = \"BLUE\""
   ]
  },
  {
   "cell_type": "code",
   "execution_count": 47,
   "id": "07c1a6f2-9988-48a1-9a77-f49993a7ca9c",
   "metadata": {},
   "outputs": [
    {
     "data": {
      "text/plain": [
       "array(['THEIRS', 'BYSTANDER', 'ASSASSIN', 'OURS'], dtype='<U9')"
      ]
     },
     "execution_count": 47,
     "metadata": {},
     "output_type": "execute_result"
    }
   ],
   "source": [
    "board.orient_labels_for_team(\"RED\")"
   ]
  },
  {
   "cell_type": "code",
   "execution_count": 48,
   "id": "53d27d7d-d55c-4843-a2d4-e37d84222e17",
   "metadata": {},
   "outputs": [],
   "source": [
    "def orient_label(label):\n",
    "    if label == my_team:\n",
    "        return \"OURS\"\n",
    "    elif label == opponent_team:\n",
    "        return \"THEIRS\"\n",
    "    return label"
   ]
  },
  {
   "cell_type": "code",
   "execution_count": 64,
   "id": "690a1ba3-c386-4387-b482-79783251403b",
   "metadata": {},
   "outputs": [],
   "source": [
    "def orient_labels(labels: npt.NDArray[tp.Any, np.str_]) -> npt.NDArray[tp.Any, np.str_]:\n",
    "    return np.array([orient_label(l) for l in labels])"
   ]
  },
  {
   "cell_type": "code",
   "execution_count": 50,
   "id": "c33e957d-6f5a-4946-8954-038241d7ca43",
   "metadata": {},
   "outputs": [
    {
     "data": {
      "text/plain": [
       "array(['BLUE', 'BYSTANDER', 'ASSASSIN', 'RED'], dtype='<U9')"
      ]
     },
     "execution_count": 50,
     "metadata": {},
     "output_type": "execute_result"
    }
   ],
   "source": [
    "board.labels"
   ]
  },
  {
   "cell_type": "code",
   "execution_count": 65,
   "id": "6a9aba6c-1429-452b-b37e-aec4d8e7df68",
   "metadata": {},
   "outputs": [
    {
     "data": {
      "text/plain": [
       "array(['THEIRS', 'BYSTANDER', 'ASSASSIN', 'OURS'], dtype='<U9')"
      ]
     },
     "execution_count": 65,
     "metadata": {},
     "output_type": "execute_result"
    }
   ],
   "source": [
    "orient_labels(board.labels)"
   ]
  },
  {
   "cell_type": "code",
   "execution_count": 66,
   "id": "2ac5619f-82f8-4342-826c-44336915428a",
   "metadata": {},
   "outputs": [],
   "source": [
    "import gym\n",
    "from gym import spaces"
   ]
  },
  {
   "cell_type": "code",
   "execution_count": 67,
   "id": "8ea23c86-2215-47e4-8d67-a3a2730fe27f",
   "metadata": {},
   "outputs": [
    {
     "data": {
      "text/plain": [
       "array([2, 2])"
      ]
     },
     "execution_count": 67,
     "metadata": {},
     "output_type": "execute_result"
    }
   ],
   "source": [
    "spaces.MultiDiscrete([3] * 2).sample()"
   ]
  },
  {
   "cell_type": "code",
   "execution_count": 68,
   "id": "fef93c84-800e-4f86-8a45-7341dcffb67b",
   "metadata": {},
   "outputs": [
    {
     "data": {
      "text/plain": [
       "array([[0],\n",
       "       [4]])"
      ]
     },
     "execution_count": 68,
     "metadata": {},
     "output_type": "execute_result"
    }
   ],
   "source": [
    "np.take_along_axis(np.arange(6).reshape((2, 3)), np.array([0, 1])[:, None], 1)"
   ]
  },
  {
   "cell_type": "code",
   "execution_count": 69,
   "id": "ca194b64-f7af-4970-92a5-25d8d42ae301",
   "metadata": {},
   "outputs": [
    {
     "data": {
      "text/plain": [
       "8"
      ]
     },
     "execution_count": 69,
     "metadata": {},
     "output_type": "execute_result"
    }
   ],
   "source": [
    "spaces.Box(low=0, high=9, shape=(), dtype=np.int8).sample()"
   ]
  },
  {
   "cell_type": "code",
   "execution_count": 50,
   "id": "a7405689-37a1-4bd2-9e00-cbc8d5c27181",
   "metadata": {},
   "outputs": [
    {
     "data": {
      "text/plain": [
       "array([1, 0], dtype=int8)"
      ]
     },
     "execution_count": 50,
     "metadata": {},
     "output_type": "execute_result"
    }
   ],
   "source": [
    "spaces.MultiBinary(2).sample()"
   ]
  },
  {
   "cell_type": "code",
   "execution_count": 51,
   "id": "536a994a-37da-4885-b183-404f8e0e2faf",
   "metadata": {},
   "outputs": [
    {
     "data": {
      "text/plain": [
       "array([1, 1], dtype=int8)"
      ]
     },
     "execution_count": 51,
     "metadata": {},
     "output_type": "execute_result"
    }
   ],
   "source": [
    "np.ones(2, dtype=np.int8)"
   ]
  },
  {
   "cell_type": "code",
   "execution_count": 648,
   "id": "1cfcb67d-06ac-4547-b6cb-71a0191c8542",
   "metadata": {},
   "outputs": [],
   "source": [
    "NUM_WORDS = 25\n",
    "NUM_HINT_STRATEGIES = 2\n",
    "NUM_EMBEDDING_TYPES = 1\n",
    "NUM_LABELS = 4\n",
    "CANDIDATE_LIMIT = 3\n",
    "\n",
    "DESIRED_GOAL = (np.int8(0), np.ones(2, dtype=np.int8))\n",
    "\n",
    "\n",
    "def goal_space():\n",
    "    return spaces.Tuple((\n",
    "        spaces.Box(low=0, high=9, shape=(), dtype=np.int8),\n",
    "        spaces.MultiBinary(2)\n",
    "    ))\n",
    "\n",
    "class CodenamesEnv(gym.GoalEnv):\n",
    "    \"\"\"Codenames environment for gym.\"\"\"\n",
    "\n",
    "    environment_name = \"Codenames v0.0.1\"\n",
    "    metadata = {\"render.modes\": [\"human\"]}\n",
    "\n",
    "    def __init__(\n",
    "        self, glove: Glove, wordlist: WordList, seed: tp.Optional[int] = None\n",
    "    ):\n",
    "        super().__init__()\n",
    "        self.action_space = spaces.Tuple(\n",
    "            (\n",
    "                spaces.MultiBinary(NUM_WORDS),\n",
    "                spaces.Discrete(CANDIDATE_LIMIT * NUM_HINT_STRATEGIES),  # noqa\n",
    "            )\n",
    "        )\n",
    "        observation_shape = (NUM_WORDS, NUM_WORDS, NUM_EMBEDDING_TYPES)\n",
    "        self.observation_space = spaces.Dict(\n",
    "            {\n",
    "                \"observation\": spaces.Tuple(\n",
    "                    (\n",
    "                        spaces.Box(\n",
    "                            low=-1, high=1, shape=observation_shape, dtype=np.float32\n",
    "                        ),\n",
    "                        spaces.MultiDiscrete([NUM_LABELS] * NUM_WORDS),\n",
    "                        spaces.MultiBinary(NUM_WORDS),\n",
    "                    )\n",
    "                ),\n",
    "                \"desired_goal\": goal_space(),\n",
    "                \"achieved_goal\": goal_space(),\n",
    "            }\n",
    "        )\n",
    "        self.glove = glove\n",
    "        self.wordlist = wordlist\n",
    "        self.step_reward_if_lose = -25\n",
    "        self.step_reward_if_win = 0\n",
    "        self.step_reward_if_not_end = -1\n",
    "        self.reward_range = (-float(\"inf\"), self.step_reward_if_not_end)\n",
    "        self.id = \"Codenames\"\n",
    "        self.seed(seed)\n",
    "        self.start_new_game()\n",
    "\n",
    "    def seed(self, seed: tp.Optional[int] = None) -> tp.List[int]:\n",
    "        \"\"\"Seed the environment.\n",
    "\n",
    "        Code adapted from a future version of gym.\n",
    "        \"\"\"\n",
    "        if seed is not None and not (isinstance(seed, int) and 0 <= seed):\n",
    "            raise gym.error.Error(\n",
    "                f\"Seed must be a non-negative integer or omitted, not {seed}\"\n",
    "            )\n",
    "\n",
    "        seed_seq = np.random.SeedSequence(seed)\n",
    "        seed_int = seed_seq.entropy\n",
    "        self.np_random = np.random.Generator(np.random.PCG64(seed_seq))\n",
    "        return [seed_int]\n",
    "\n",
    "    def current_observation(self):\n",
    "        chosen = self.board.chosen.astype(np.int8)\n",
    "        return self.self_similarity, self.team_indices, chosen\n",
    "\n",
    "    def achieved_goal(self):\n",
    "        bad_word_indicator = np.array(\n",
    "            [\n",
    "                self.board.remaining_words_for_team(self.opponent) != 0,\n",
    "                self.board.remaining_words_for_team(\"ASSASSIN\") != 0,\n",
    "            ],\n",
    "            dtype=np.int8,\n",
    "        )\n",
    "        return (\n",
    "            np.int8(self.board.remaining_words_for_team(self.team)),\n",
    "            bad_word_indicator,\n",
    "        )\n",
    "\n",
    "    def desired_goal(self):\n",
    "        return DESIRED_GOAL\n",
    "\n",
    "    def current_goal_observation(self):\n",
    "        return {\n",
    "            \"observation\": self.current_observation(),\n",
    "            \"desired_goal\": self.desired_goal(),\n",
    "            \"achieved_goal\": self.achieved_goal(),\n",
    "        }\n",
    "\n",
    "    def generate_candidates(self, targets: tp.Sequence[str], limit: int):\n",
    "        \"\"\"TODO: For the future, when we can pick among several candidates\"\"\"\n",
    "        mean_candidates = self.guesser.give_hint_candidates(targets, strategy=\"mean\")[0]\n",
    "        minimax_candidates = self.guesser.give_hint_candidates(\n",
    "            targets, strategy=\"minimax\"\n",
    "        )[0]\n",
    "        all_candidates = np.concatenate(\n",
    "            [\n",
    "                resize_token_vector(mean_candidates, limit),\n",
    "                resize_token_vector(minimax_candidates, limit),\n",
    "            ]\n",
    "        )\n",
    "        return all_candidates\n",
    "\n",
    "    def _is_done(self):\n",
    "        return (\n",
    "            self.board.remaining_words_for_team(self.team) == 0\n",
    "            or self.board.remaining_words_for_team(self.opponent) == 0\n",
    "            or self.board.remaining_words_for_team(\"ASSASSIN\") == 0\n",
    "        )\n",
    "\n",
    "    def is_done(self, achieved_goal):\n",
    "        return achieved_goal[0] == 0 or achieved_goal[1].sum() < 2\n",
    "\n",
    "    def _compute_reward(self):\n",
    "        if self.board.remaining_words_for_team(self.team) == 0:\n",
    "            return self.step_reward_if_win\n",
    "        if (\n",
    "            self.board.remaining_words_for_team(self.opponent) == 0\n",
    "            or self.board.remaining_words_for_team(\"ASSASSIN\") == 0\n",
    "        ):\n",
    "            return self.step_reward_if_lose\n",
    "        return self.step_reward_if_not_end\n",
    "\n",
    "    def compute_reward(self, achieved_goal, desired_goal, info: dict):\n",
    "        if achieved_goal[0] == 0:\n",
    "            return self.step_reward_if_win\n",
    "        if achieved_goal[1].sum() < 2:\n",
    "            return self.step_reward_if_lose\n",
    "        return self.step_reward_if_not_end\n",
    "\n",
    "    def step(self, action):\n",
    "        words_to_choose, candidate_index = action\n",
    "        targets = self.board.words[words_to_choose.astype(bool)]\n",
    "        candidate = self.generate_candidates(targets, CANDIDATE_LIMIT)[candidate_index]\n",
    "        hint = Hint(candidate, len(targets), self.team)\n",
    "        guesses, _ = self.guesser.guess(hint)\n",
    "        self.hints.append(hint)\n",
    "        self.guessed_words.append([])\n",
    "        for guess in guesses:\n",
    "            label = self.board.choose_word(guess)\n",
    "            hint.num_guessed += 1\n",
    "            self.guessed_words[-1].append((guess, label))\n",
    "            if label != self.team:\n",
    "                break\n",
    "            hint.num_guessed_correctly += 1\n",
    "        achieved_goal = self.achieved_goal()\n",
    "        return (\n",
    "            self.current_goal_observation(),\n",
    "            self.compute_reward(achieved_goal, self.desired_goal(), dict()),\n",
    "            self.is_done(achieved_goal),\n",
    "            self.debug_info(),\n",
    "        )\n",
    "\n",
    "    def start_new_game(self):\n",
    "        self.board = Board(self.wordlist, rng=self.np_random)\n",
    "        self.view = CliView(self.board)\n",
    "        self.guesser = GloveGuesser(self.glove, self.board)\n",
    "        self.self_similarity = batched_cosine_similarity(\n",
    "            self.guesser.board_vectors, self.guesser.board_vectors\n",
    "        ).clip(-1, 1)\n",
    "        self.team = self.np_random.choice([\"RED\", \"BLUE\"])\n",
    "        self.opponent = self.board.opponent_of(self.team)\n",
    "        if self.team == \"RED\":\n",
    "            self.board.end_turn()\n",
    "        self.team_labels = self.board.orient_labels_for_team(self.team)\n",
    "        self.team_indices = find_x_in_y(bot_labels, self.team_labels)\n",
    "        self.guessed_words = []\n",
    "        self.hints = []\n",
    "\n",
    "    def reset(self):\n",
    "        # Reset the state of the environment to an initial state\n",
    "        self.start_new_game()\n",
    "        return self.current_goal_observation()\n",
    "\n",
    "    def render(self, mode=\"human\", close=False):\n",
    "        # Render the environment to the screen\n",
    "        self.view.spymaster_view()\n",
    "        bag_state = self.board.bag_state()\n",
    "        bag_counts = {k: len(v) for k, v in bag_state.items()}\n",
    "        displayable_guessed_words = [\n",
    "            [f\"{word}_{label[:2]}\" for word, label in rnd] for rnd in self.guessed_words\n",
    "        ]\n",
    "        print(f\"The bot is on the {self.team} team.\")\n",
    "        print(\"Remaining words:\", bag_state)\n",
    "        print(\"Remaining word count:\", bag_counts)\n",
    "        print(\"Hint history:\", self.hints)\n",
    "        print(\"Guessed words\", displayable_guessed_words)\n",
    "        print()\n",
    "\n",
    "    def debug_info(self):\n",
    "        return dict(\n",
    "            board_state=self.view.spymaster_words_to_display(),\n",
    "            hints=self.hints,\n",
    "            guessed_words=self.guessed_words,\n",
    "            team=self.team,\n",
    "        )"
   ]
  },
  {
   "cell_type": "code",
   "execution_count": 290,
   "id": "94b50566-3e8e-4251-ae76-cc216388841f",
   "metadata": {
    "tags": []
   },
   "outputs": [],
   "source": [
    "codenames_env = CodenamesEnv(glove, wordlist)"
   ]
  },
  {
   "cell_type": "code",
   "execution_count": null,
   "id": "d1c3ea37-060f-4cdf-bd7b-736024960910",
   "metadata": {},
   "outputs": [],
   "source": [
    "class A:\n",
    "    def __init__(self, wordlist):\n",
    "        self.board = Board(wordlist)\n",
    "        self.view = CliView(self.board)"
   ]
  },
  {
   "cell_type": "code",
   "execution_count": 201,
   "id": "2b3b4b8b-184f-4c0a-91ac-9aafc6189675",
   "metadata": {},
   "outputs": [
    {
     "name": "stdout",
     "output_type": "stream",
     "text": [
      "[Hint(word=3, count=4, num_guessed=1)]\n"
     ]
    }
   ],
   "source": [
    "w = Hint(3, 4)\n",
    "u = [w]\n",
    "w.num_guessed += 1\n",
    "print(u)"
   ]
  },
  {
   "cell_type": "code",
   "execution_count": 157,
   "id": "8147b4b8-5e7b-4bf9-b6df-1d6b76c4aaf2",
   "metadata": {},
   "outputs": [
    {
     "name": "stdout",
     "output_type": "stream",
     "text": [
      "[['diamond_r' 'HOLE_B' 'BAR_A' 'saturn_b' 'BEAT_R']\n",
      " ['hospital_b' 'HIMALAYAS_B' 'disease_b' 'stick_b' 'PANTS_R']\n",
      " ['WASHER_R' 'CARD_B' 'alien_b' 'CRANE_R' 'PLATYPUS_R']\n",
      " ['LIFE_B' 'FILM_B' 'track_r' 'pan_b' 'MODEL_R']\n",
      " ['glass_b' 'switch_b' 'LION_B' 'drop_b' 'sound_b']]\n",
      "It is RED's turn.\n",
      "The bot is on the RED team.\n",
      "Remaining words: {'ASSASSIN': {'BAR'}, 'BLUE': {'HIMALAYAS', 'FILM', 'LIFE', 'HOLE'}, 'BYSTANDER': {'LION', 'CARD'}, 'RED': {'MODEL', 'WASHER', 'PLATYPUS', 'PANTS', 'BEAT', 'CRANE'}}\n",
      "Hint history: []\n",
      "Guessed words []\n",
      "\n"
     ]
    }
   ],
   "source": [
    "codenames_env.board.jump_to_random_state()\n",
    "codenames_env.render()"
   ]
  },
  {
   "cell_type": "code",
   "execution_count": 428,
   "id": "17d2c482-63d9-43f7-a610-7abfc84ac7e1",
   "metadata": {},
   "outputs": [
    {
     "data": {
      "text/plain": [
       "'RED'"
      ]
     },
     "execution_count": 428,
     "metadata": {},
     "output_type": "execute_result"
    }
   ],
   "source": [
    "codenames_env.view.board.which_team_guessing"
   ]
  },
  {
   "cell_type": "code",
   "execution_count": 576,
   "id": "0f6b68ad-f843-4c67-811b-684553a130d8",
   "metadata": {},
   "outputs": [
    {
     "data": {
      "text/plain": [
       "(array(['ICE', 'CREAM', 'CHOCOLATE', 'MELTED', 'CREAMS', 'VANILLA',\n",
       "        'FROZEN', 'BEER', 'CUPS', 'SALT'], dtype='<U68'),\n",
       " array([0.513287  , 0.513287  , 0.44951043, 0.4181115 , 0.38537604,\n",
       "        0.37372905, 0.37241524, 0.3611941 , 0.35331202, 0.35091132],\n",
       "       dtype=float32))"
      ]
     },
     "execution_count": 576,
     "metadata": {},
     "output_type": "execute_result"
    }
   ],
   "source": [
    "guesser.give_hint_candidates([\"ice\", \"cream\"])"
   ]
  },
  {
   "cell_type": "code",
   "execution_count": 569,
   "id": "d3880029-7422-4a10-b0d0-577a8331c974",
   "metadata": {},
   "outputs": [
    {
     "data": {
      "text/plain": [
       "['ICE CREAM', 'LOCH NESS', 'NEW YORK', 'SCUBA DIVER']"
      ]
     },
     "execution_count": 569,
     "metadata": {},
     "output_type": "execute_result"
    }
   ],
   "source": [
    "[w for w in wordlist.words if w not in glove.token2id]"
   ]
  },
  {
   "cell_type": "code",
   "execution_count": 598,
   "id": "48010b0e-a7e3-447b-9ce6-eedbfc4dd4f9",
   "metadata": {
    "tags": []
   },
   "outputs": [
    {
     "data": {
      "text/plain": [
       "6"
      ]
     },
     "execution_count": 598,
     "metadata": {},
     "output_type": "execute_result"
    }
   ],
   "source": [
    "np.lcm.reduce([len(i) for i in [[3], [4, 5], [7, 8, 9]]])"
   ]
  },
  {
   "cell_type": "code",
   "execution_count": 610,
   "id": "cb85bf54-8ff0-4632-a88c-4c8cbb253fc1",
   "metadata": {},
   "outputs": [
    {
     "data": {
      "text/plain": [
       "array([6, 3, 2])"
      ]
     },
     "execution_count": 610,
     "metadata": {},
     "output_type": "execute_result"
    }
   ],
   "source": [
    "6 // np.array([1, 2, 3])"
   ]
  },
  {
   "cell_type": "code",
   "execution_count": 57,
   "id": "a3fbdd71-a5c3-4baa-883f-9aca6b52008a",
   "metadata": {},
   "outputs": [],
   "source": [
    "def standardize_length(ragged_matrix):\n",
    "    lengths = [len(i) for i in ragged_matrix]\n",
    "    lcm = np.lcm.reduce(lengths)\n",
    "    duplication_count = lcm // lengths\n",
    "    return [row*n_rep for row, n_rep in zip(ragged_matrix, duplication_count)]"
   ]
  },
  {
   "cell_type": "code",
   "execution_count": 58,
   "id": "f972a8cd-81df-45b3-8219-7e7268b199a3",
   "metadata": {},
   "outputs": [
    {
     "data": {
      "text/plain": [
       "(3, 2, 300)"
      ]
     },
     "execution_count": 58,
     "metadata": {},
     "output_type": "execute_result"
    }
   ],
   "source": [
    "glove.vectors[np.array(standardize_length([[3], [4, 5], [7]]))].shape"
   ]
  },
  {
   "cell_type": "code",
   "execution_count": 73,
   "id": "55cd2587-3498-4e02-bd8d-65e6a9fb826d",
   "metadata": {},
   "outputs": [
    {
     "name": "stdout",
     "output_type": "stream",
     "text": [
      "[[428], [6794], [142], [21519], [5220], [637], [942], [5022], [1211], [202], [511], [6480], [3608], [2924], [1257], [2858], [1363], [7370], [1904], [9287], [774], [7774], [16528], [9248], [5577]]\n",
      "25\n"
     ]
    },
    {
     "data": {
      "text/plain": [
       "(25, 300)"
      ]
     },
     "execution_count": 73,
     "metadata": {},
     "output_type": "execute_result"
    }
   ],
   "source": [
    "x = Board(wordlist)\n",
    "assert len(x.words) == 25\n",
    "print(glove.tokenize(x.words))\n",
    "print(len(glove.tokenize(x.words)))\n",
    "glove.vectorize(x.words).shape"
   ]
  },
  {
   "cell_type": "code",
   "execution_count": 118,
   "id": "c22f976b-264b-456c-87e6-3a567010ec56",
   "metadata": {},
   "outputs": [
    {
     "data": {
      "text/plain": [
       "<codenames.GloveGuesser at 0x7f8140b8d390>"
      ]
     },
     "execution_count": 118,
     "metadata": {},
     "output_type": "execute_result"
    }
   ],
   "source": [
    "GloveGuesser(glove, Board(wordlist))"
   ]
  },
  {
   "cell_type": "code",
   "execution_count": null,
   "id": "b13b08ea-510d-427c-a75e-f9c23e63f704",
   "metadata": {},
   "outputs": [],
   "source": []
  },
  {
   "cell_type": "code",
   "execution_count": 308,
   "id": "81370f39-35af-4c3e-a422-830480b1dfb7",
   "metadata": {},
   "outputs": [
    {
     "name": "stdout",
     "output_type": "stream",
     "text": [
      "[['PITCH_BY' 'POISON_BY' 'DISEASE_BL' 'FALL_RE' 'STATE_BY']\n",
      " ['SERVER_RE' 'DWARF_BL' 'SUIT_BL' 'TELESCOPE_BL' 'VACUUM_RE']\n",
      " ['CAP_BL' 'MICROSCOPE_BY' 'PASTE_RE' 'FAN_RE' 'TEMPLE_BY']\n",
      " ['SPIDER_BL' 'SLIP_BY' 'DATE_BY' 'DROP_BL' 'CASINO_RE']\n",
      " ['MAIL_RE' 'THIEF_BL' 'BUFFALO_RE' 'GREEN_AS' 'SNOW_BL']]\n",
      "It is RED's turn.\n",
      "The bot is on the RED team.\n",
      "Remaining words: {'ASSASSIN': {'GREEN'}, 'BLUE': {'DISEASE', 'SPIDER', 'SNOW', 'SUIT', 'DWARF', 'DROP', 'THIEF', 'TELESCOPE', 'CAP'}, 'BYSTANDER': {'POISON', 'SLIP', 'MICROSCOPE', 'DATE', 'STATE', 'TEMPLE', 'PITCH'}, 'RED': {'BUFFALO', 'FALL', 'PASTE', 'CASINO', 'VACUUM', 'SERVER', 'MAIL', 'FAN'}}\n",
      "Remaining word count: {'ASSASSIN': 1, 'BLUE': 9, 'BYSTANDER': 7, 'RED': 8}\n",
      "Hint history: []\n",
      "Guessed words []\n",
      "\n"
     ]
    }
   ],
   "source": [
    "codenames_env.start_new_game()\n",
    "codenames_env.render()"
   ]
  },
  {
   "cell_type": "code",
   "execution_count": 319,
   "id": "1bbe6475-3ea3-4108-9a3c-997984ef247a",
   "metadata": {},
   "outputs": [
    {
     "name": "stdout",
     "output_type": "stream",
     "text": [
      "(-25, True)\n",
      "[['pitch_by' 'poison_by' 'disease_bl' 'fall_re' 'state_by']\n",
      " ['SERVER_RE' 'DWARF_BL' 'suit_bl' 'TELESCOPE_BL' 'vacuum_re']\n",
      " ['cap_bl' 'MICROSCOPE_BY' 'PASTE_RE' 'fan_re' 'temple_by']\n",
      " ['SPIDER_BL' 'slip_by' 'date_by' 'drop_bl' 'casino_re']\n",
      " ['mail_re' 'THIEF_BL' 'BUFFALO_RE' 'green_as' 'SNOW_BL']]\n",
      "It is RED's turn.\n",
      "The bot is on the RED team.\n",
      "Remaining words: {'ASSASSIN': set(), 'BLUE': {'SNOW', 'SPIDER', 'DWARF', 'THIEF', 'TELESCOPE'}, 'BYSTANDER': {'MICROSCOPE'}, 'RED': {'BUFFALO', 'SERVER', 'PASTE'}}\n",
      "Remaining word count: {'ASSASSIN': 0, 'BLUE': 5, 'BYSTANDER': 1, 'RED': 3}\n",
      "Hint history: [Hint(word='CAN', count=12, team='RED', num_guessed=1, num_guessed_correctly=0), Hint(word='SAME', count=11, team='RED', num_guessed=1, num_guessed_correctly=0), Hint(word='REALLY', count=15, team='RED', num_guessed=1, num_guessed_correctly=0), Hint(word='EVEN', count=9, team='RED', num_guessed=2, num_guessed_correctly=1), Hint(word='USED', count=13, team='RED', num_guessed=1, num_guessed_correctly=0), Hint(word='LARGE', count=8, team='RED', num_guessed=1, num_guessed_correctly=0), Hint(word='COULD', count=14, team='RED', num_guessed=3, num_guessed_correctly=2), Hint(word='ROOM', count=13, team='RED', num_guessed=1, num_guessed_correctly=0), Hint(word='LIKE', count=11, team='RED', num_guessed=1, num_guessed_correctly=0), Hint(word='SCREEN', count=12, team='RED', num_guessed=2, num_guessed_correctly=1), Hint(word='ACTUALLY', count=10, team='RED', num_guessed=2, num_guessed_correctly=1)]\n",
      "Guessed words [['DROP_BL'], ['DATE_BY'], ['PITCH_BY'], ['FALL_RE', 'STATE_BY'], ['TEMPLE_BY'], ['CAP_BL'], ['VACUUM_RE', 'CASINO_RE', 'SUIT_BL'], ['POISON_BY'], ['DISEASE_BL'], ['MAIL_RE', 'SLIP_BY'], ['FAN_RE', 'GREEN_AS']]\n",
      "\n"
     ]
    }
   ],
   "source": [
    "print(codenames_env.step(codenames_env.action_space.sample())[1:3])\n",
    "codenames_env.render()"
   ]
  },
  {
   "cell_type": "code",
   "execution_count": 236,
   "id": "d20df247-79af-4b30-894d-fd7d2a8f5b82",
   "metadata": {},
   "outputs": [
    {
     "data": {
      "text/plain": [
       "array(['SCHOOL', 'TRIANGLE', 'HELICOPTER', 'LASER', 'FLUTE', 'BEAR',\n",
       "       'CASINO', 'DRAGON', 'NOVEL', 'MAMMOTH', 'PLATE', 'KID', 'APPLE',\n",
       "       'FACE', 'SERVER', 'FENCE', 'DRILL', 'PIPE', 'HAND', 'AGENT',\n",
       "       'BACK', 'KANGAROO', 'BOTTLE', 'GAS', 'TORCH'], dtype='<U11')"
      ]
     },
     "execution_count": 236,
     "metadata": {},
     "output_type": "execute_result"
    }
   ],
   "source": [
    "board.words"
   ]
  },
  {
   "cell_type": "code",
   "execution_count": 234,
   "id": "c5eda403-5406-4049-bd80-fbb80a38ba17",
   "metadata": {},
   "outputs": [
    {
     "data": {
      "text/plain": [
       "(3, 300)"
      ]
     },
     "execution_count": 234,
     "metadata": {},
     "output_type": "execute_result"
    }
   ],
   "source": [
    "glove.vectorize([\"new york\", \"turkey\", \"ice cream\"]).shape"
   ]
  },
  {
   "cell_type": "code",
   "execution_count": 235,
   "id": "b95969df-d9b7-45c8-b699-4b0c21cf43a2",
   "metadata": {},
   "outputs": [
    {
     "data": {
      "text/plain": [
       "(array(['NEW', 'YORK', 'JERSEY', 'MANHATTAN', 'TIMES', 'N.Y.', 'CITY',\n",
       "        'WEEK', 'TUESDAY', 'RECENTLY'], dtype='<U68'),\n",
       " array([0.7641559 , 0.7641559 , 0.52657783, 0.4620642 , 0.45691156,\n",
       "        0.4502495 , 0.44192362, 0.42831877, 0.42148536, 0.41702822],\n",
       "       dtype=float32))"
      ]
     },
     "execution_count": 235,
     "metadata": {},
     "output_type": "execute_result"
    }
   ],
   "source": [
    "guesser.give_hint_candidates([\"New york\"])"
   ]
  },
  {
   "cell_type": "code",
   "execution_count": 227,
   "id": "00d9e8d7-bea1-461c-8931-d70eee2b4b53",
   "metadata": {},
   "outputs": [
    {
     "data": {
      "text/plain": [
       "(array(['CZECH', 'EYE', 'WASHINGTON', 'FLY', 'CAR'], dtype='<U11'),\n",
       " array([0.2946986 , 0.14151229, 0.28724465, 0.21150896, 0.12082187],\n",
       "       dtype=float32))"
      ]
     },
     "execution_count": 227,
     "metadata": {},
     "output_type": "execute_result"
    }
   ],
   "source": [
    "guesser.guess(Hint(\"Turkey\", 5))"
   ]
  },
  {
   "cell_type": "code",
   "execution_count": 72,
   "id": "15404164-8b91-45c5-ba1f-fa2d6c039c54",
   "metadata": {},
   "outputs": [
    {
     "ename": "AttributeError",
     "evalue": "'GloveGuesser' object has no attribute 'give_hints_for'",
     "output_type": "error",
     "traceback": [
      "\u001b[0;31m---------------------------------------------------------------------------\u001b[0m",
      "\u001b[0;31mAttributeError\u001b[0m                            Traceback (most recent call last)",
      "\u001b[0;32m<ipython-input-72-440f4a299307>\u001b[0m in \u001b[0;36m<module>\u001b[0;34m\u001b[0m\n\u001b[0;32m----> 1\u001b[0;31m \u001b[0mguesser\u001b[0m\u001b[0;34m.\u001b[0m\u001b[0mgive_hints_for\u001b[0m\u001b[0;34m(\u001b[0m\u001b[0;34m\"turkey plate\"\u001b[0m\u001b[0;34m)\u001b[0m\u001b[0;34m\u001b[0m\u001b[0;34m\u001b[0m\u001b[0m\n\u001b[0m",
      "\u001b[0;31mAttributeError\u001b[0m: 'GloveGuesser' object has no attribute 'give_hints_for'"
     ]
    }
   ],
   "source": [
    "guesser.give_hints_for(\"turkey plate\")"
   ]
  },
  {
   "cell_type": "code",
   "execution_count": 121,
   "id": "10626a79-02cf-495c-bce4-3812ec64948c",
   "metadata": {},
   "outputs": [
    {
     "data": {
      "text/plain": [
       "array(['MINT', 'PIANO', 'RING', 'DISEASE', 'WORM', 'PITCH', 'CZECH',\n",
       "       'DRILL', 'SUPERHERO', 'YARD', 'EYE', 'SLIP', 'AZTEC', 'FLY',\n",
       "       'BAND', 'OPERA', 'HELICOPTER'], dtype='<U11')"
      ]
     },
     "execution_count": 121,
     "metadata": {},
     "output_type": "execute_result"
    }
   ],
   "source": [
    "board.words[spaces.MultiBinary(25).sample().astype(bool)]"
   ]
  },
  {
   "cell_type": "code",
   "execution_count": 65,
   "id": "955b8f70-2f44-4886-b02f-2771ffd42441",
   "metadata": {},
   "outputs": [
    {
     "data": {
      "text/plain": [
       "array([0, 1, 1, 0, 0, 1, 3, 3, 0, 2, 2, 1, 3, 3, 0, 2, 3, 0, 1, 3, 1, 0,\n",
       "       3, 2, 0])"
      ]
     },
     "execution_count": 65,
     "metadata": {},
     "output_type": "execute_result"
    }
   ],
   "source": [
    "spaces.MultiDiscrete([4] * 25).sample()"
   ]
  },
  {
   "cell_type": "code",
   "execution_count": 202,
   "id": "623e24d8-2825-45bd-a5d7-da5c34f63f6c",
   "metadata": {},
   "outputs": [
    {
     "data": {
      "text/plain": [
       "5"
      ]
     },
     "execution_count": 202,
     "metadata": {},
     "output_type": "execute_result"
    }
   ],
   "source": [
    "spaces.Discrete(6).sample()"
   ]
  },
  {
   "cell_type": "code",
   "execution_count": 66,
   "id": "d56a25ec-9494-455c-80b1-7eca1b064c61",
   "metadata": {},
   "outputs": [],
   "source": [
    "team_labels = board.orient_labels_for_team(\"RED\")"
   ]
  },
  {
   "cell_type": "code",
   "execution_count": 67,
   "id": "1931ced2-a674-47a6-a7ab-ff3f68addd60",
   "metadata": {},
   "outputs": [],
   "source": [
    "team_indices = find_x_in_y(np.array([\"OURS\", \"THEIRS\", \"BYSTANDER\", \"ASSASSSIN\"]), team_labels)"
   ]
  },
  {
   "cell_type": "code",
   "execution_count": 64,
   "id": "617de67c-7907-47c1-a0ff-ce4746f1fb85",
   "metadata": {},
   "outputs": [
    {
     "data": {
      "text/plain": [
       "array([0, 1, 1, 1, 0], dtype=int8)"
      ]
     },
     "execution_count": 64,
     "metadata": {},
     "output_type": "execute_result"
    }
   ],
   "source": [
    "spaces.MultiBinary(5).sample()"
   ]
  },
  {
   "cell_type": "code",
   "execution_count": 68,
   "id": "748e769d-18b7-4fb6-bce2-8ce116c2ac6c",
   "metadata": {},
   "outputs": [
    {
     "data": {
      "text/plain": [
       "array([0, 1, 2, 0, 0, 0, 0, 2, 0, 1, 2, 0, 1, 2, 1, 0, 1, 1, 1, 1, 1, 2,\n",
       "       2, 2])"
      ]
     },
     "execution_count": 68,
     "metadata": {},
     "output_type": "execute_result"
    }
   ],
   "source": [
    "team_indices"
   ]
  },
  {
   "cell_type": "code",
   "execution_count": 69,
   "id": "b236a807-acbf-45fa-8f8c-d0b5b9eaff47",
   "metadata": {},
   "outputs": [
    {
     "data": {
      "text/plain": [
       "array(['ASSASSIN', 'OURS', 'THEIRS', 'BYSTANDER', 'OURS', 'OURS', 'OURS',\n",
       "       'OURS', 'BYSTANDER', 'OURS', 'THEIRS', 'BYSTANDER', 'OURS',\n",
       "       'THEIRS', 'BYSTANDER', 'THEIRS', 'OURS', 'THEIRS', 'THEIRS',\n",
       "       'THEIRS', 'THEIRS', 'THEIRS', 'BYSTANDER', 'BYSTANDER',\n",
       "       'BYSTANDER'], dtype='<U9')"
      ]
     },
     "execution_count": 69,
     "metadata": {},
     "output_type": "execute_result"
    }
   ],
   "source": [
    "team_labels"
   ]
  },
  {
   "cell_type": "code",
   "execution_count": 71,
   "id": "86c5ec9a-a116-4d66-b8d2-890026464ead",
   "metadata": {},
   "outputs": [
    {
     "data": {
      "text/plain": [
       "array([0, 0, 0, 0, 0, 0, 0, 0, 0, 0, 0, 0, 0, 0, 0, 0, 0, 0, 0, 0, 0, 0,\n",
       "       0, 0, 0], dtype=int8)"
      ]
     },
     "execution_count": 71,
     "metadata": {},
     "output_type": "execute_result"
    }
   ],
   "source": []
  },
  {
   "cell_type": "code",
   "execution_count": 156,
   "id": "348e82e5-337b-4647-b164-99afa815ce63",
   "metadata": {},
   "outputs": [
    {
     "data": {
      "text/plain": [
       "'BLUE'"
      ]
     },
     "execution_count": 156,
     "metadata": {},
     "output_type": "execute_result"
    }
   ],
   "source": [
    "np.random.choice([\"RED\", \"BLUE\"])"
   ]
  },
  {
   "cell_type": "code",
   "execution_count": 140,
   "id": "96c78be3-8305-480a-903c-a0656afc170f",
   "metadata": {},
   "outputs": [
    {
     "data": {
      "text/plain": [
       "(3,)"
      ]
     },
     "execution_count": 140,
     "metadata": {},
     "output_type": "execute_result"
    }
   ],
   "source": [
    "spaces.MultiBinary(3).shape"
   ]
  },
  {
   "cell_type": "code",
   "execution_count": 369,
   "id": "ce2a0a4b-d3c2-4bd7-b2d9-fe6c5f660e5d",
   "metadata": {},
   "outputs": [
    {
     "data": {
      "text/plain": [
       "4"
      ]
     },
     "execution_count": 369,
     "metadata": {},
     "output_type": "execute_result"
    }
   ],
   "source": [
    "spaces.Discrete(CANDIDATE_LIMIT * NUM_HINT_STRATEGIES).sample()"
   ]
  },
  {
   "cell_type": "code",
   "execution_count": 391,
   "id": "9d013ea6-ead0-438f-86af-3313ca5509ae",
   "metadata": {},
   "outputs": [],
   "source": [
    "assert CANDIDATE_LIMIT * NUM_HINT_STRATEGIES % 2 == 0"
   ]
  },
  {
   "cell_type": "code",
   "execution_count": 486,
   "id": "c4d053ac-ce9a-41ec-be9d-d25e9b0eac0c",
   "metadata": {},
   "outputs": [
    {
     "data": {
      "text/plain": [
       "5"
      ]
     },
     "execution_count": 486,
     "metadata": {},
     "output_type": "execute_result"
    }
   ],
   "source": [
    "spaces.Discrete(CANDIDATE_LIMIT * NUM_HINT_STRATEGIES).sample()"
   ]
  },
  {
   "cell_type": "code",
   "execution_count": 390,
   "id": "65663bb9-b799-4f9c-ae77-ed95aa2e7254",
   "metadata": {},
   "outputs": [
    {
     "data": {
      "text/plain": [
       "array([1, 0, 1, 1, 0, 0, 0, 1, 0, 0, 1, 0, 1, 1, 0, 1, 0, 0, 0, 0, 1, 1,\n",
       "       1, 1, 1], dtype=int8)"
      ]
     },
     "execution_count": 390,
     "metadata": {},
     "output_type": "execute_result"
    }
   ],
   "source": [
    "spaces.MultiBinary(NUM_WORDS).sample()"
   ]
  },
  {
   "cell_type": "code",
   "execution_count": 886,
   "id": "a7275c91-72dc-49da-ac87-eb175fb10cd2",
   "metadata": {},
   "outputs": [],
   "source": [
    "def hacked_action_space():\n",
    "    num_hint_candidates = CANDIDATE_LIMIT * NUM_HINT_STRATEGIES\n",
    "    assert num_hint_candidates % 2 == 0\n",
    "    height = NUM_WORDS + num_hint_candidates//2\n",
    "    width = 2\n",
    "    # int64 for compatibility with\n",
    "    # https://github.com/p-christ/Deep-Reinforcement-Learning-Algorithms-with-PyTorch/blob/master/agents/Base_Agent.py\n",
    "    return spaces.Box(low=0, high=1, shape=(height, width), dtype=np.float32)\n",
    "\n",
    "\n",
    "def decode_action(hacked_action):\n",
    "    words_to_choose = hacked_action[:NUM_WORDS].argmax(-1).astype(np.int8)\n",
    "    candidate_index = hacked_action[NUM_WORDS:].flatten().argmax()\n",
    "    return words_to_choose, candidate_index\n",
    "\n",
    "\n",
    "def hacked_observation_space():\n",
    "    height = NUM_WORDS * (NUM_EMBEDDING_TYPES + NUM_LABELS + 2)\n",
    "    width = NUM_WORDS\n",
    "    return spaces.Box(low=-1, high=1, shape=(height, width), dtype=np.float32)\n",
    "\n",
    "\n",
    "def one_hot_encode(indices, dim):\n",
    "    num_entries = indices.shape[0]\n",
    "    encoding = np.zeros((num_entries, dim), dtype=np.float32)\n",
    "    encoding[np.arange(num_entries), indices] = 1\n",
    "    return encoding\n",
    "\n",
    "\n",
    "def encode_observation(observation):\n",
    "    self_similarity = obs[0].reshape(-1, NUM_WORDS)\n",
    "    labels = one_hot_encode(obs[1], NUM_LABELS).T\n",
    "    chosen_mask = one_hot_encode(obs[2], 2).T\n",
    "    return np.vstack([self_similarity, labels, chosen_mask]).astype(np.float32)\n",
    "\n",
    "def hacked_goal_space():\n",
    "    return spaces.Box(low=0, high=9, shape=(1, NUM_WORDS), dtype=np.int8)\n",
    "\n",
    "\n",
    "def encode_goal(goal):\n",
    "    return resize_vector(\n",
    "        np.concatenate([[goal[0]], goal[1]]), NUM_WORDS\n",
    "    )[None, :]"
   ]
  },
  {
   "cell_type": "code",
   "execution_count": 506,
   "id": "28a955c2-7253-4443-9032-df0ecff1214e",
   "metadata": {},
   "outputs": [],
   "source": [
    "has = hacked_action_space()"
   ]
  },
  {
   "cell_type": "code",
   "execution_count": 507,
   "id": "ac03e731-2df5-42fb-8917-9a8a019fcfab",
   "metadata": {},
   "outputs": [],
   "source": [
    "ha = has.sample()"
   ]
  },
  {
   "cell_type": "code",
   "execution_count": 443,
   "id": "1ab7ebc3-82aa-4589-b5e5-3337489f7c27",
   "metadata": {},
   "outputs": [
    {
     "data": {
      "text/plain": [
       "(28, 2)"
      ]
     },
     "execution_count": 443,
     "metadata": {},
     "output_type": "execute_result"
    }
   ],
   "source": [
    "ha.shape"
   ]
  },
  {
   "cell_type": "code",
   "execution_count": null,
   "id": "c7bd7077-6978-4067-a885-e69a23e42c9f",
   "metadata": {},
   "outputs": [],
   "source": [
    "spaces.Box(low=0, high=1, , dtype=np.int64)"
   ]
  },
  {
   "cell_type": "code",
   "execution_count": 501,
   "id": "6d5da190-548b-43be-b7c3-aa7e21b66879",
   "metadata": {},
   "outputs": [
    {
     "data": {
      "text/plain": [
       "dtype('int64')"
      ]
     },
     "execution_count": 501,
     "metadata": {},
     "output_type": "execute_result"
    }
   ],
   "source": [
    "ha[NUM_WORDS:].flatten().argmax()"
   ]
  },
  {
   "cell_type": "code",
   "execution_count": 537,
   "id": "32ab4c3f-d92a-4759-9f2a-e1dec42de0af",
   "metadata": {},
   "outputs": [
    {
     "data": {
      "text/plain": [
       "array([3, 1, 0, 2, 1, 0, 1, 1, 1, 1, 1, 3, 1, 2, 3, 2, 1, 2, 2, 2, 2, 0,\n",
       "       3, 3, 2])"
      ]
     },
     "execution_count": 537,
     "metadata": {},
     "output_type": "execute_result"
    }
   ],
   "source": [
    "spaces.MultiDiscrete([4] * 25).sample()"
   ]
  },
  {
   "cell_type": "code",
   "execution_count": 541,
   "id": "44f7ce19-cf6e-46c6-a99a-95c8d84e4ab0",
   "metadata": {
    "tags": []
   },
   "outputs": [],
   "source": [
    "obs = spaces.Tuple(\n",
    "            (\n",
    "                spaces.Box(\n",
    "                    low=-1, high=1, shape=(25, 25, 1), dtype=np.float32\n",
    "                ),\n",
    "                spaces.MultiDiscrete([NUM_LABELS] * NUM_WORDS),\n",
    "                spaces.MultiBinary(NUM_WORDS),\n",
    "            )\n",
    ").sample()"
   ]
  },
  {
   "cell_type": "code",
   "execution_count": 568,
   "id": "9674cf8b-bebf-43fc-9b60-5970e8402590",
   "metadata": {},
   "outputs": [
    {
     "data": {
      "text/plain": [
       "array([[2, 1],\n",
       "       [5, 4]])"
      ]
     },
     "execution_count": 568,
     "metadata": {},
     "output_type": "execute_result"
    }
   ],
   "source": [
    "np.take_along_axis(np.arange(6).reshape((2,3)), np.array([2, 1])[None, :], 1)"
   ]
  },
  {
   "cell_type": "code",
   "execution_count": 573,
   "id": "b03981c7-9659-41f2-a909-607ff776bb35",
   "metadata": {
    "tags": []
   },
   "outputs": [],
   "source": [
    "lab = np.zeros((25, 4))"
   ]
  },
  {
   "cell_type": "code",
   "execution_count": 576,
   "id": "892cb855-3b94-4126-8782-99e521701fa2",
   "metadata": {},
   "outputs": [
    {
     "data": {
      "text/plain": [
       "array([0, 0, 2, 3, 3, 3, 3, 0, 1, 2, 1, 1, 2, 1, 1, 1, 3, 0, 2, 3, 0, 1,\n",
       "       1, 1, 2])"
      ]
     },
     "execution_count": 576,
     "metadata": {},
     "output_type": "execute_result"
    }
   ],
   "source": [
    "obs[1]"
   ]
  },
  {
   "cell_type": "code",
   "execution_count": 569,
   "id": "f899d2b0-2ffc-4b56-b04a-12102f427a11",
   "metadata": {},
   "outputs": [],
   "source": [
    "index = list(np.ix_(*[np.arange(i) for i in lab.shape]))\n"
   ]
  },
  {
   "cell_type": "code",
   "execution_count": 570,
   "id": "34bd01a6-e9f4-4b57-adc8-3aa5485fdfca",
   "metadata": {
    "collapsed": true,
    "jupyter": {
     "outputs_hidden": true
    },
    "tags": []
   },
   "outputs": [
    {
     "data": {
      "text/plain": [
       "[array([[ 0],\n",
       "        [ 1],\n",
       "        [ 2],\n",
       "        [ 3],\n",
       "        [ 4],\n",
       "        [ 5],\n",
       "        [ 6],\n",
       "        [ 7],\n",
       "        [ 8],\n",
       "        [ 9],\n",
       "        [10],\n",
       "        [11],\n",
       "        [12],\n",
       "        [13],\n",
       "        [14],\n",
       "        [15],\n",
       "        [16],\n",
       "        [17],\n",
       "        [18],\n",
       "        [19],\n",
       "        [20],\n",
       "        [21],\n",
       "        [22],\n",
       "        [23],\n",
       "        [24]]),\n",
       " array([[0, 1, 2, 3]])]"
      ]
     },
     "execution_count": 570,
     "metadata": {},
     "output_type": "execute_result"
    }
   ],
   "source": [
    "index"
   ]
  },
  {
   "cell_type": "code",
   "execution_count": 574,
   "id": "39e0819d-2ef5-461b-bef6-343294cf203b",
   "metadata": {},
   "outputs": [],
   "source": [
    "lab[np.arange(25), obs[1]] = 1"
   ]
  },
  {
   "cell_type": "code",
   "execution_count": 552,
   "id": "0028a49c-849d-4e74-94ee-c15c97f5ad5a",
   "metadata": {},
   "outputs": [
    {
     "data": {
      "text/plain": [
       "(25, 4)"
      ]
     },
     "execution_count": 552,
     "metadata": {},
     "output_type": "execute_result"
    }
   ],
   "source": [
    "lab[obs[1], :].shape"
   ]
  },
  {
   "cell_type": "code",
   "execution_count": 579,
   "id": "da4c582f-4dfa-4906-8ecd-c7b2c7e6a591",
   "metadata": {
    "tags": []
   },
   "outputs": [
    {
     "data": {
      "text/plain": [
       "array([1, 0, 1, 1, 1, 0, 1, 1, 1, 0, 0, 1, 1, 1, 1, 1, 0, 0, 0, 0, 1, 0,\n",
       "       0, 0, 1], dtype=int8)"
      ]
     },
     "execution_count": 579,
     "metadata": {},
     "output_type": "execute_result"
    }
   ],
   "source": [
    "obs[2]"
   ]
  },
  {
   "cell_type": "code",
   "execution_count": 617,
   "id": "67f6c8f9-5f62-499b-9820-3fa42bde82b1",
   "metadata": {},
   "outputs": [],
   "source": []
  },
  {
   "cell_type": "code",
   "execution_count": 598,
   "id": "c3421da4-3078-4905-b749-21f049410b36",
   "metadata": {},
   "outputs": [],
   "source": [
    "goal_test = spaces.Tuple((\n",
    "        spaces.Box(low=0, high=9, shape=(), dtype=np.int8),\n",
    "        spaces.MultiBinary(2)\n",
    "    )).sample()"
   ]
  },
  {
   "cell_type": "code",
   "execution_count": 620,
   "id": "0885408a-2ad6-423a-aff5-52e025fbd049",
   "metadata": {},
   "outputs": [],
   "source": []
  },
  {
   "cell_type": "code",
   "execution_count": 619,
   "id": "bda50608-e0a7-48c7-a26e-cff62c29bebe",
   "metadata": {},
   "outputs": [
    {
     "data": {
      "text/plain": [
       "array([3, 1, 1], dtype=int8)"
      ]
     },
     "execution_count": 619,
     "metadata": {},
     "output_type": "execute_result"
    }
   ],
   "source": []
  },
  {
   "cell_type": "code",
   "execution_count": 616,
   "id": "f6ace16a-c6ef-4644-9b9c-fa4722e78871",
   "metadata": {},
   "outputs": [
    {
     "data": {
      "text/plain": [
       "array([5, 2, 2], dtype=int8)"
      ]
     },
     "execution_count": 616,
     "metadata": {},
     "output_type": "execute_result"
    }
   ],
   "source": [
    "spaces.Box(low=0, high=9, shape=(3,), dtype=np.int8).sample()"
   ]
  },
  {
   "cell_type": "code",
   "execution_count": 600,
   "id": "6e44f12a-9f94-4088-9a6f-d2617e5e591e",
   "metadata": {},
   "outputs": [
    {
     "data": {
      "text/plain": [
       "array([0, 1], dtype=int8)"
      ]
     },
     "execution_count": 600,
     "metadata": {},
     "output_type": "execute_result"
    }
   ],
   "source": [
    "spaces.MultiBinary(2).sample()"
   ]
  },
  {
   "cell_type": "code",
   "execution_count": 599,
   "id": "7594c7fa-9ef2-4b7c-b1c1-afd031b19602",
   "metadata": {},
   "outputs": [
    {
     "data": {
      "text/plain": [
       "(3, array([1, 1], dtype=int8))"
      ]
     },
     "execution_count": 599,
     "metadata": {},
     "output_type": "execute_result"
    }
   ],
   "source": [
    "goal_test"
   ]
  },
  {
   "cell_type": "code",
   "execution_count": 899,
   "id": "2c8fb370-ca70-4140-b7fd-efbb402c25d4",
   "metadata": {},
   "outputs": [],
   "source": [
    "ENCODED_DESIRED_GOAL = encode_goal(DESIRED_GOAL)\n",
    "\n",
    "\n",
    "class CodenamesEnvHack(CodenamesEnv):\n",
    "    \"\"\"Codenames environment for gym.\n",
    "    \n",
    "    Hack the action and observation spaces to make more agents work with it.\n",
    "    \"\"\"\n",
    "\n",
    "    environment_name = \"Codenames v0.0.1\"\n",
    "    metadata = {\"render.modes\": [\"human\"]}\n",
    "\n",
    "    def __init__(\n",
    "        self, glove: Glove, wordlist: WordList, seed: tp.Optional[int] = None\n",
    "    ):\n",
    "        super().__init__(glove, wordlist, seed)\n",
    "        self.action_space = hacked_action_space()\n",
    "        self.observation_space = spaces.Dict({\n",
    "            \"observation\": hacked_observation_space(),\n",
    "            \"desired_goal\": hacked_goal_space(),\n",
    "            \"achieved_goal\": hacked_goal_space()\n",
    "        })\n",
    "\n",
    "    def current_observation(self):\n",
    "        return encode_observation(super().current_observation())\n",
    "\n",
    "    def achieved_goal(self):\n",
    "        return encode_goal(super().achieved_goal())\n",
    "\n",
    "    def desired_goal(self):\n",
    "        return ENCODED_DESIRED_GOAL\n",
    "\n",
    "    def is_done(self, achieved_goal):\n",
    "        return achieved_goal[0] == 0 or achieved_goal[1:].sum() < 2\n",
    "\n",
    "    def compute_reward(self, achieved_goal, desired_goal, info: dict):\n",
    "        if achieved_goal[0] == 0:\n",
    "            return self.step_reward_if_win\n",
    "        if achieved_goal[1:].sum() < 2:\n",
    "            return self.step_reward_if_lose\n",
    "        return self.step_reward_if_not_end\n",
    "\n",
    "    def step(self, action):\n",
    "        return super().step(decode_action(action))"
   ]
  },
  {
   "cell_type": "code",
   "execution_count": 650,
   "id": "f00c04da-e5af-4c64-bac5-79871aedc11a",
   "metadata": {
    "tags": []
   },
   "outputs": [],
   "source": [
    "codenames_hacked_env = CodenamesEnvHack(glove, wordlist)"
   ]
  },
  {
   "cell_type": "code",
   "execution_count": 838,
   "id": "7fa64ea9-4ea2-4073-bac6-7b6e9c9b13cf",
   "metadata": {},
   "outputs": [
    {
     "name": "stdout",
     "output_type": "stream",
     "text": [
      "[['POOL_AS' 'CLUB_BL' 'OPERA_BY' 'ATLANTIS_RE' 'SPRING_BL']\n",
      " ['MOUTH_BL' 'PLAY_BY' 'WALL_BY' 'HOOD_BL' 'POUND_BY']\n",
      " ['SCUBA DIVER_BY' 'GAME_RE' 'AMAZON_BL' 'CELL_RE' 'TRAIN_BL']\n",
      " ['BOND_RE' 'WIND_RE' 'ICE_BL' 'SOCK_RE' 'BED_BL']\n",
      " ['SWITCH_RE' 'PLATE_BL' 'TIE_BY' 'SCORPION_RE' 'CASINO_BY']]\n",
      "It is RED's turn.\n",
      "The bot is on the RED team.\n",
      "Remaining words: {'ASSASSIN': {'POOL'}, 'BLUE': {'MOUTH', 'BED', 'PLATE', 'CLUB', 'HOOD', 'SPRING', 'TRAIN', 'AMAZON', 'ICE'}, 'BYSTANDER': {'WALL', 'PLAY', 'TIE', 'CASINO', 'POUND', 'OPERA', 'SCUBA DIVER'}, 'RED': {'CELL', 'BOND', 'SCORPION', 'SWITCH', 'GAME', 'ATLANTIS', 'SOCK', 'WIND'}}\n",
      "Remaining word count: {'ASSASSIN': 1, 'BLUE': 9, 'BYSTANDER': 7, 'RED': 8}\n",
      "Hint history: []\n",
      "Guessed words []\n",
      "\n"
     ]
    },
    {
     "data": {
      "text/plain": [
       "numpy.ndarray"
      ]
     },
     "execution_count": 838,
     "metadata": {},
     "output_type": "execute_result"
    }
   ],
   "source": [
    "codenames_hacked_env.start_new_game()\n",
    "codenames_hacked_env.render()\n",
    "type(codenames_hacked_env.current_observation())"
   ]
  },
  {
   "cell_type": "raw",
   "id": "8c67d9d4-cc5b-49ac-8f57-953c8af48ca3",
   "metadata": {},
   "source": []
  },
  {
   "cell_type": "code",
   "execution_count": 664,
   "id": "62bcc50e-6c0d-4748-9c79-7866ab56204d",
   "metadata": {},
   "outputs": [
    {
     "name": "stdout",
     "output_type": "stream",
     "text": [
      "(0, True)\n",
      "[['mouth_bl' 'africa_bl' 'MAPLE_BY' 'NURSE_RE' 'PIANO_BY']\n",
      " ['queen_re' 'soul_bl' 'comic_bl' 'port_by' 'GLOVE_RE']\n",
      " ['HORN_BY' 'antarctica_as' 'compound_bl' 'tooth_re' 'conductor_by']\n",
      " ['palm_bl' 'germany_re' 'HONEY_RE' 'fair_bl' 'spring_by']\n",
      " ['cat_re' 'pirate_re' 'pass_bl' 'missile_by' 'lab_bl']]\n",
      "It is BLUE's turn.\n",
      "The bot is on the BLUE team.\n",
      "Remaining words: {'ASSASSIN': set(), 'BLUE': set(), 'BYSTANDER': {'PIANO', 'MAPLE', 'HORN'}, 'RED': {'GLOVE', 'HONEY', 'NURSE'}}\n",
      "Remaining word count: {'ASSASSIN': 0, 'BLUE': 0, 'BYSTANDER': 3, 'RED': 3}\n",
      "Hint history: [Hint(word='NAMED', count=14, team='BLUE', num_guessed=1, num_guessed_correctly=0), Hint(word='EVERY', count=13, team='BLUE', num_guessed=1, num_guessed_correctly=0), Hint(word='WHERE', count=15, team='BLUE', num_guessed=3, num_guessed_correctly=2), Hint(word='FIRST', count=15, team='BLUE', num_guessed=2, num_guessed_correctly=1), Hint(word='WELL', count=10, team='BLUE', num_guessed=3, num_guessed_correctly=2), Hint(word='SEA', count=11, team='BLUE', num_guessed=1, num_guessed_correctly=0), Hint(word='THE', count=13, team='BLUE', num_guessed=1, num_guessed_correctly=0), Hint(word='EVERY', count=15, team='BLUE', num_guessed=2, num_guessed_correctly=1), Hint(word='THE', count=17, team='BLUE', num_guessed=2, num_guessed_correctly=1), Hint(word='THE', count=11, team='BLUE', num_guessed=1, num_guessed_correctly=0), Hint(word='WHERE', count=11, team='BLUE', num_guessed=2, num_guessed_correctly=2), Hint(word='INSTEAD', count=11, team='BLUE', num_guessed=0, num_guessed_correctly=0)]\n",
      "Guessed words [['QUEEN_RE'], ['SPRING_BY'], ['FAIR_BL', 'AFRICA_BL', 'PORT_BY'], ['MOUTH_BL', 'CONDUCTOR_BY'], ['COMIC_BL', 'PASS_BL', 'GERMANY_RE'], ['ANTARCTICA_AS'], ['MISSILE_BY'], ['SOUL_BL', 'TOOTH_RE'], ['COMPOUND_BL', 'PIRATE_RE'], ['CAT_RE'], ['LAB_BL', 'PALM_BL'], []]\n",
      "\n"
     ]
    }
   ],
   "source": [
    "print(codenames_hacked_env.step(codenames_hacked_env.action_space.sample())[1:3])\n",
    "codenames_hacked_env.render()"
   ]
  },
  {
   "cell_type": "code",
   "execution_count": 844,
   "id": "30f005b1-6c41-473a-bef9-caef614337fd",
   "metadata": {},
   "outputs": [
    {
     "data": {
      "text/plain": [
       "array([0, 1, 2, 0, 0, 0, 0, 0, 0, 0, 0, 0, 0, 0, 0, 0, 0, 0, 0, 0, 0, 0,\n",
       "       0, 0, 0])"
      ]
     },
     "execution_count": 844,
     "metadata": {},
     "output_type": "execute_result"
    }
   ],
   "source": [
    "resize_token_vector(np.arange(3), 25)"
   ]
  },
  {
   "cell_type": "code",
   "execution_count": 879,
   "id": "de4890a8-e4f0-4757-a73c-7395d816c7d8",
   "metadata": {},
   "outputs": [],
   "source": [
    "WORDLIST_SIZE = len(wordlist.words)\n",
    "\n",
    "\n",
    "def hacked_observation_space_discrete():\n",
    "    assert WORDLIST_SIZE % NUM_WORDS == 0\n",
    "    height = WORDLIST_SIZE//NUM_WORDS*NUM_EMBEDDING_TYPES + NUM_LABELS + 2\n",
    "    width = NUM_WORDS\n",
    "    return spaces.Box(low=-1, high=1, shape=(height, width), dtype=np.float32)\n",
    "\n",
    "def one_hot_encode_1d(indices, dim):\n",
    "    embedding = np.zeros(dim)\n",
    "    embedding[indices] = 1\n",
    "    return embedding\n",
    "\n",
    "def encode_observation_discrete(observation, word_indices):\n",
    "    word_indices = word_indices.reshape(-1, NUM_WORDS)\n",
    "    labels = one_hot_encode(obs[1], NUM_LABELS).T\n",
    "    chosen_mask = one_hot_encode(obs[2], 2).T\n",
    "    return np.vstack([word_indices, labels, chosen_mask]).astype(np.float32)"
   ]
  },
  {
   "cell_type": "code",
   "execution_count": 865,
   "id": "712c3782-9cd9-4a40-a398-0c73b3fbf47c",
   "metadata": {
    "collapsed": true,
    "jupyter": {
     "outputs_hidden": true
    },
    "tags": []
   },
   "outputs": [
    {
     "data": {
      "text/plain": [
       "array([0., 1., 0., 0., 0., 0., 0., 0., 0., 0., 1., 0., 0., 0., 0., 1., 0.,\n",
       "       0., 0., 0., 0., 0., 0., 0., 1., 0., 0., 0., 0., 0., 0., 0., 0., 0.,\n",
       "       0., 0., 0., 0., 0., 0., 0., 1., 0., 0., 0., 0., 0., 0., 0., 0., 0.,\n",
       "       0., 0., 0., 0., 0., 0., 0., 1., 0., 0., 0., 0., 0., 0., 0., 0., 0.,\n",
       "       0., 0., 0., 0., 0., 0., 0., 0., 0., 0., 0., 0., 0., 0., 0., 0., 0.,\n",
       "       0., 0., 0., 0., 0., 0., 0., 0., 0., 0., 0., 0., 0., 0., 0., 0., 0.,\n",
       "       0., 0., 0., 0., 0., 0., 0., 1., 0., 1., 0., 0., 0., 0., 0., 0., 0.,\n",
       "       0., 0., 0., 1., 0., 0., 0., 1., 0., 0., 0., 0., 0., 0., 0., 1., 0.,\n",
       "       0., 0., 0., 0., 0., 0., 1., 0., 0., 0., 0., 0., 0., 0., 0., 0., 0.,\n",
       "       0., 0., 0., 1., 0., 0., 0., 1., 0., 0., 0., 0., 0., 0., 0., 0., 0.,\n",
       "       0., 0., 0., 0., 0., 0., 0., 0., 0., 0., 0., 1., 0., 0., 1., 0., 0.,\n",
       "       0., 0., 0., 0., 1., 0., 0., 0., 0., 0., 0., 0., 0., 0., 0., 0., 0.,\n",
       "       0., 0., 0., 0., 0., 1., 0., 0., 0., 0., 0., 0., 0., 0., 0., 0., 0.,\n",
       "       0., 0., 0., 0., 0., 0., 0., 0., 0., 0., 0., 0., 0., 0., 0., 0., 1.,\n",
       "       0., 0., 0., 0., 0., 0., 0., 0., 0., 0., 0., 0., 0., 0., 0., 0., 0.,\n",
       "       0., 0., 0., 0., 0., 0., 0., 1., 0., 0., 0., 0., 0., 0., 1., 0., 0.,\n",
       "       0., 0., 0., 0., 0., 0., 0., 0., 0., 0., 0., 0., 0., 0., 0., 0., 0.,\n",
       "       0., 0., 0., 0., 0., 0., 0., 0., 0., 0., 0., 0., 0., 0., 0., 0., 1.,\n",
       "       0., 0., 0., 0., 0., 1., 0., 0., 0., 0., 0., 0., 0., 0., 0., 0., 0.,\n",
       "       0., 0., 0., 0., 0., 0., 0., 0., 0., 0., 0., 0., 0., 0., 0., 0., 0.,\n",
       "       0., 0., 0., 0., 0., 0., 0., 0., 0., 0., 0., 0., 0., 0., 0., 0., 0.,\n",
       "       0., 0., 0., 0., 0., 0., 0., 0., 0., 0., 0., 0., 0., 1., 0., 0., 0.,\n",
       "       1., 0., 0., 0., 0., 0., 0., 0., 0., 0., 0., 0., 0., 0., 0., 0., 0.,\n",
       "       0., 0., 0., 0., 0., 0., 0., 0., 0.])"
      ]
     },
     "execution_count": 865,
     "metadata": {},
     "output_type": "execute_result"
    }
   ],
   "source": [
    "word_indices = np.zeros(400)\n",
    "word_indices[find_x_in_y(np.array(wordlist.words), board.words)] = 1\n",
    "word_indices"
   ]
  },
  {
   "cell_type": "code",
   "execution_count": 903,
   "id": "6b2ae5d8-0d3f-4aad-a9fc-aa63093d7e2a",
   "metadata": {},
   "outputs": [],
   "source": [
    "class CodenamesEnvHackDiscrete(CodenamesEnv):\n",
    "    \"\"\"Codenames environment for gym.\n",
    "    \n",
    "    Hack the action and observation spaces to make more agents work with it.\n",
    "    \"\"\"\n",
    "\n",
    "    environment_name = \"Codenames v0.0.1\"\n",
    "    metadata = {\"render.modes\": [\"human\"]}\n",
    "\n",
    "    def __init__(\n",
    "        self, glove: Glove, wordlist: WordList, seed: tp.Optional[int] = None\n",
    "    ):\n",
    "        super().__init__(glove, wordlist, seed)\n",
    "        self.action_space = hacked_action_space()\n",
    "        self.observation_space = spaces.Dict({\n",
    "            \"observation\": hacked_observation_space_discrete(),\n",
    "            \"desired_goal\": hacked_goal_space(),\n",
    "            \"achieved_goal\": hacked_goal_space()\n",
    "        })\n",
    "\n",
    "    def start_new_game(self):\n",
    "        super().start_new_game()\n",
    "        indices = find_x_in_y(self.wordlist.words, self.board.words)\n",
    "        self.word_indices = one_hot_encode_1d(indices, WORDLIST_SIZE)\n",
    "\n",
    "    def current_observation(self):\n",
    "        return encode_observation_discrete(super().current_observation(), self.word_indices)\n",
    "\n",
    "    def achieved_goal(self):\n",
    "        return encode_goal(super().achieved_goal())\n",
    "\n",
    "    def desired_goal(self):\n",
    "        return ENCODED_DESIRED_GOAL\n",
    "\n",
    "    def is_done(self, achieved_goal):\n",
    "        achieved_goal = achieved_goal[0][:3]\n",
    "        return (achieved_goal[0] == 0 or achieved_goal[1:].sum() < 2).item()\n",
    "\n",
    "    def compute_reward(self, achieved_goal, desired_goal, info: dict):\n",
    "        if len(achieved_goal.shape) == 3:\n",
    "            return np.array([self.compute_reward(a, desired_goal, info) for a in achieved_goal])\n",
    "        achieved_goal = achieved_goal[0, :3]\n",
    "        if achieved_goal[0] == 0:\n",
    "            return self.step_reward_if_win\n",
    "        if achieved_goal[1:].sum() < 2:\n",
    "            return self.step_reward_if_lose\n",
    "        return self.step_reward_if_not_end\n",
    "\n",
    "    def step(self, action):\n",
    "        return super().step(decode_action(action))"
   ]
  },
  {
   "cell_type": "code",
   "execution_count": 889,
   "id": "f6d973cf-7fcb-4e91-82ff-e1098347f0d3",
   "metadata": {},
   "outputs": [],
   "source": [
    "def resize_vector(vector, limit):\n",
    "    \"\"\"Resize a 1D vector to a given length, padding with \"0\" when necessary.\"\"\"\n",
    "    vector = vector[:limit]\n",
    "    return np.pad(vector, (0, limit - vector.shape[0]))"
   ]
  },
  {
   "cell_type": "code",
   "execution_count": 872,
   "id": "b5dc76e3-569c-4dda-92b1-1efe82271995",
   "metadata": {},
   "outputs": [],
   "source": [
    "from stable_baselines3.common import env_checker"
   ]
  },
  {
   "cell_type": "code",
   "execution_count": 897,
   "id": "5d648a55-ca0c-48a9-b6d8-8a6273b04880",
   "metadata": {},
   "outputs": [
    {
     "data": {
      "text/plain": [
       "(3,)"
      ]
     },
     "execution_count": 897,
     "metadata": {},
     "output_type": "execute_result"
    }
   ],
   "source": [
    "CodenamesEnvHackDiscrete(glove, wordlist).reset()[\"desired_goal\"].shape"
   ]
  },
  {
   "cell_type": "code",
   "execution_count": 898,
   "id": "f8844a69-ffd7-4b96-aba8-a33d14810ca3",
   "metadata": {},
   "outputs": [
    {
     "data": {
      "text/plain": [
       "(1, 25)"
      ]
     },
     "execution_count": 898,
     "metadata": {},
     "output_type": "execute_result"
    }
   ],
   "source": [
    "CodenamesEnvHackDiscrete(glove, wordlist).observation_space.spaces[\"desired_goal\"].shape"
   ]
  },
  {
   "cell_type": "code",
   "execution_count": 885,
   "id": "4f9c22f3-494f-4f5a-831c-9710f5edc918",
   "metadata": {},
   "outputs": [
    {
     "data": {
      "text/plain": [
       "(28, 2)"
      ]
     },
     "execution_count": 885,
     "metadata": {},
     "output_type": "execute_result"
    }
   ],
   "source": [
    "CodenamesEnvHackDiscrete(glove, wordlist).action_space.sample().shape"
   ]
  },
  {
   "cell_type": "code",
   "execution_count": 904,
   "id": "054720c2-a1ee-4806-a966-2d05734f2fa3",
   "metadata": {},
   "outputs": [],
   "source": [
    "env_checker.check_env(CodenamesEnvHackDiscrete(glove, wordlist))"
   ]
  },
  {
   "cell_type": "code",
   "execution_count": 905,
   "id": "f4fe6204-3741-41e2-a394-de3daf40d59c",
   "metadata": {},
   "outputs": [],
   "source": [
    "cehd = CodenamesEnvHackDiscrete(glove, wordlist)"
   ]
  },
  {
   "cell_type": "code",
   "execution_count": 906,
   "id": "afb25d5b-089b-4046-93da-fecc5e973f3a",
   "metadata": {},
   "outputs": [
    {
     "name": "stdout",
     "output_type": "stream",
     "text": [
      "[['ROBIN_BL' 'LIFE_RE' 'STREAM_RE' 'JUPITER_RE' 'PITCH_BY']\n",
      " ['MAPLE_BL' 'MICROSCOPE_BL' 'PRESS_RE' 'CONDUCTOR_BY' 'FIELD_RE']\n",
      " ['TABLET_BL' 'MOUNT_BY' 'MAMMOTH_BL' 'CANADA_BL' 'SCIENTIST_BY']\n",
      " ['PISTOL_BL' 'STAFF_RE' 'AMERICA_BL' 'CAPITAL_RE' 'SOCK_BY']\n",
      " ['JACK_BL' 'RING_BY' 'BOLT_BY' 'RAY_AS' 'EGYPT_RE']]\n",
      "It is RED's turn.\n",
      "The bot is on the RED team.\n",
      "Remaining words: {'ASSASSIN': {'RAY'}, 'BLUE': {'AMERICA', 'MAPLE', 'MICROSCOPE', 'MAMMOTH', 'CANADA', 'JACK', 'ROBIN', 'PISTOL', 'TABLET'}, 'BYSTANDER': {'MOUNT', 'CONDUCTOR', 'BOLT', 'SCIENTIST', 'RING', 'SOCK', 'PITCH'}, 'RED': {'LIFE', 'JUPITER', 'STREAM', 'FIELD', 'STAFF', 'CAPITAL', 'PRESS', 'EGYPT'}}\n",
      "Remaining word count: {'ASSASSIN': 1, 'BLUE': 9, 'BYSTANDER': 7, 'RED': 8}\n",
      "Hint history: []\n",
      "Guessed words []\n",
      "\n"
     ]
    },
    {
     "data": {
      "text/plain": [
       "numpy.ndarray"
      ]
     },
     "execution_count": 906,
     "metadata": {},
     "output_type": "execute_result"
    }
   ],
   "source": [
    "cehd.start_new_game()\n",
    "cehd.render()\n",
    "type(cehd.current_observation())"
   ]
  },
  {
   "cell_type": "code",
   "execution_count": 919,
   "id": "4b65041b-d80d-43b5-88a6-2120ad39f6a2",
   "metadata": {},
   "outputs": [
    {
     "name": "stdout",
     "output_type": "stream",
     "text": [
      "(-25, True)\n",
      "[['robin_bl' 'life_re' 'STREAM_RE' 'JUPITER_RE' 'pitch_by']\n",
      " ['MAPLE_BL' 'microscope_bl' 'press_re' 'CONDUCTOR_BY' 'field_re']\n",
      " ['tablet_bl' 'mount_by' 'mammoth_bl' 'canada_bl' 'SCIENTIST_BY']\n",
      " ['pistol_bl' 'STAFF_RE' 'america_bl' 'capital_re' 'SOCK_BY']\n",
      " ['jack_bl' 'ring_by' 'bolt_by' 'ray_as' 'egypt_re']]\n",
      "It is RED's turn.\n",
      "The bot is on the RED team.\n",
      "Remaining words: {'ASSASSIN': set(), 'BLUE': {'MAPLE'}, 'BYSTANDER': {'SCIENTIST', 'CONDUCTOR', 'SOCK'}, 'RED': {'JUPITER', 'STAFF', 'STREAM'}}\n",
      "Remaining word count: {'ASSASSIN': 0, 'BLUE': 1, 'BYSTANDER': 3, 'RED': 3}\n",
      "Hint history: [Hint(word='FIRST', count=12, team='RED', num_guessed=1, num_guessed_correctly=0), Hint(word='THEN', count=11, team='RED', num_guessed=2, num_guessed_correctly=1), Hint(word='ONE', count=16, team='RED', num_guessed=1, num_guessed_correctly=0), Hint(word='OUT', count=9, team='RED', num_guessed=2, num_guessed_correctly=1), Hint(word='WORLD', count=9, team='RED', num_guessed=1, num_guessed_correctly=0), Hint(word='WEAPON', count=9, team='RED', num_guessed=1, num_guessed_correctly=0), Hint(word='CHEST', count=11, team='RED', num_guessed=1, num_guessed_correctly=0), Hint(word='USING', count=13, team='RED', num_guessed=2, num_guessed_correctly=1), Hint(word='FIRST', count=13, team='RED', num_guessed=2, num_guessed_correctly=1), Hint(word='MYSTERIOUS', count=10, team='RED', num_guessed=2, num_guessed_correctly=1), Hint(word='HE', count=14, team='RED', num_guessed=1, num_guessed_correctly=0), Hint(word='BENEATH', count=12, team='RED', num_guessed=1, num_guessed_correctly=0), Hint(word='BENEATH', count=14, team='RED', num_guessed=1, num_guessed_correctly=0)]\n",
      "Guessed words [['PISTOL_BL'], ['LIFE_RE', 'RING_BY'], ['AMERICA_BL'], ['PRESS_RE', 'BOLT_BY'], ['MOUNT_BY'], ['PITCH_BY'], ['RAY_AS'], ['CAPITAL_RE', 'CANADA_BL'], ['FIELD_RE', 'TABLET_BL'], ['EGYPT_RE', 'ROBIN_BL'], ['JACK_BL'], ['MICROSCOPE_BL'], ['MAMMOTH_BL']]\n",
      "\n"
     ]
    }
   ],
   "source": [
    "print(cehd.step(cehd.action_space.sample())[1:3])\n",
    "cehd.render()"
   ]
  },
  {
   "cell_type": "code",
   "execution_count": 928,
   "id": "295930be-b6b3-4e78-be18-b0835b9acd30",
   "metadata": {},
   "outputs": [
    {
     "data": {
      "text/plain": [
       "2"
      ]
     },
     "execution_count": 928,
     "metadata": {},
     "output_type": "execute_result"
    }
   ],
   "source": [
    "spaces.Discrete(3).sample()"
   ]
  },
  {
   "cell_type": "code",
   "execution_count": 70,
   "id": "9b49c4cb-d2ab-4896-adfe-91f75b7d2a67",
   "metadata": {},
   "outputs": [],
   "source": [
    "class GridTestEnv(gym.Env):\n",
    "    \"\"\"Codenames environment for gym.\"\"\"\n",
    "\n",
    "    environment_name = \"GridTest v0.0.1\"\n",
    "    metadata = {\"render.modes\": [\"human\"]}\n",
    "\n",
    "    def __init__(\n",
    "        self, length: int = 5, seed: tp.Optional[int] = None\n",
    "    ):\n",
    "        super().__init__()\n",
    "        self.length = length\n",
    "        self.size = self.length*self.length\n",
    "        self.action_space = spaces.Discrete(self.size)\n",
    "        observation_shape = (self.length, self.length, 1)\n",
    "        self.observation_space = spaces.Box(\n",
    "            low=0, high=255, shape=observation_shape, dtype=np.uint8\n",
    "        )\n",
    "        self.step_reward_if_win = 0\n",
    "        self.step_reward_if_not_end = -1\n",
    "        self.reward_range = (-1, 0)\n",
    "        self.id = \"GridTest\"\n",
    "        self.seed(seed)\n",
    "        self.start_new_game()\n",
    "\n",
    "    def seed(self, seed: tp.Optional[int] = None) -> tp.List[int]:\n",
    "        \"\"\"Seed the environment.\n",
    "\n",
    "        Code adapted from a future version of gym.\n",
    "        \"\"\"\n",
    "        if seed is not None and not (isinstance(seed, int) and 0 <= seed):\n",
    "            raise gym.error.Error(\n",
    "                f\"Seed must be a non-negative integer or omitted, not {seed}\"\n",
    "            )\n",
    "\n",
    "        seed_seq = np.random.SeedSequence(seed)\n",
    "        seed_int = seed_seq.entropy\n",
    "        self.np_random = np.random.Generator(np.random.PCG64(seed_seq))\n",
    "        return [seed_int]\n",
    "\n",
    "    def start_new_game(self):\n",
    "        self.correct = self.np_random.integers(self.size)\n",
    "        self.board = np.zeros(self.size, dtype=np.int32)\n",
    "        self.board[self.correct] = 1\n",
    "\n",
    "    def reset(self):\n",
    "        # Reset the state of the environment to an initial state\n",
    "        self.start_new_game()\n",
    "        return self.current_observation()\n",
    "\n",
    "    def current_observation(self):\n",
    "        return np.clip(self.board.reshape(-1, self.length, 1)*128+128, 0, 255).astype(np.uint8)\n",
    "\n",
    "    def is_done(self):\n",
    "        return bool(self.board[self.correct] == 0)\n",
    "\n",
    "    def compute_reward(self):\n",
    "        if self.is_done():\n",
    "            return self.step_reward_if_win\n",
    "        return self.step_reward_if_not_end\n",
    "\n",
    "    def step(self, action):\n",
    "        if not self.is_done():\n",
    "            self.board[action] = max(self.board[action], 0) - 1\n",
    "        return (\n",
    "            self.current_observation(),\n",
    "            self.compute_reward(),\n",
    "            self.is_done(),\n",
    "            self.debug_info(),\n",
    "        )\n",
    "\n",
    "    def render(self, mode=\"human\", close=False):\n",
    "        # Render the environment to the screen\n",
    "        print(\"Correct:\", self.correct)\n",
    "        print(\"Board:\", self.current_observation())\n",
    "        print()\n",
    "\n",
    "    def debug_info(self):\n",
    "        return dict(\n",
    "            correct=self.correct,\n",
    "            board=self.board\n",
    "        )"
   ]
  },
  {
   "cell_type": "code",
   "execution_count": 72,
   "id": "51f92fb1-d7b3-4554-951c-8d9a80f5f300",
   "metadata": {},
   "outputs": [],
   "source": [
    "from stable_baselines3.common import env_checker"
   ]
  },
  {
   "cell_type": "code",
   "execution_count": 77,
   "id": "e8036160-ec89-449c-823e-bd0245c5c097",
   "metadata": {},
   "outputs": [],
   "source": [
    "env_checker.check_env(GridTestEnv(length=36))"
   ]
  },
  {
   "cell_type": "code",
   "execution_count": 84,
   "id": "111cc120-9883-4583-b8b6-1bb853505e99",
   "metadata": {},
   "outputs": [],
   "source": [
    "gte = GridTestEnv(length=2)"
   ]
  },
  {
   "cell_type": "code",
   "execution_count": 85,
   "id": "58da90ca-4ae1-4461-a5e0-9103143d2678",
   "metadata": {},
   "outputs": [
    {
     "data": {
      "text/plain": [
       "array([[[128],\n",
       "        [128]],\n",
       "\n",
       "       [[255],\n",
       "        [128]]], dtype=uint8)"
      ]
     },
     "execution_count": 85,
     "metadata": {},
     "output_type": "execute_result"
    }
   ],
   "source": [
    "gte.reset()"
   ]
  },
  {
   "cell_type": "code",
   "execution_count": 96,
   "id": "5965f05a-183e-4c15-845a-52d8d7025d4b",
   "metadata": {},
   "outputs": [
    {
     "name": "stdout",
     "output_type": "stream",
     "text": [
      "Correct: 2\n",
      "Board: [[[  0]\n",
      "  [  0]]\n",
      "\n",
      " [[128]\n",
      "  [128]]]\n",
      "\n"
     ]
    }
   ],
   "source": [
    "gte.step(3)\n",
    "gte.render()"
   ]
  },
  {
   "cell_type": "code",
   "execution_count": 97,
   "id": "4b5df0e7-0f27-485c-acfa-c559c118f06b",
   "metadata": {},
   "outputs": [],
   "source": [
    "class GridTestOneMoveEnv(GridTestEnv):\n",
    "    \n",
    "    def start_new_game(self):\n",
    "        super().start_new_game()\n",
    "        self.has_moved = False\n",
    "\n",
    "    def is_done(self):\n",
    "        return self.has_moved\n",
    "\n",
    "    def step(self, action):\n",
    "        self.has_moved = True\n",
    "        return super().step(action)"
   ]
  },
  {
   "cell_type": "code",
   "execution_count": 98,
   "id": "76dd9889-8bf8-429b-b166-50c77e61aeea",
   "metadata": {},
   "outputs": [],
   "source": [
    "env_checker.check_env(GridTestOneTryEnv(length=36))"
   ]
  },
  {
   "cell_type": "code",
   "execution_count": 99,
   "id": "0a0955a8-f4c1-4757-a63e-18216effe505",
   "metadata": {},
   "outputs": [],
   "source": [
    "gte1 = GridTestOneTryEnv(length=2)"
   ]
  },
  {
   "cell_type": "code",
   "execution_count": 105,
   "id": "a8de9dcc-8a0f-4aa9-84fd-f5abf450a94c",
   "metadata": {},
   "outputs": [
    {
     "data": {
      "text/plain": [
       "array([[[128],\n",
       "        [128]],\n",
       "\n",
       "       [[255],\n",
       "        [128]]], dtype=uint8)"
      ]
     },
     "execution_count": 105,
     "metadata": {},
     "output_type": "execute_result"
    }
   ],
   "source": [
    "gte1.reset()"
   ]
  },
  {
   "cell_type": "code",
   "execution_count": 107,
   "id": "3d73adcc-be7a-44fd-bf5e-ec90138896ad",
   "metadata": {},
   "outputs": [
    {
     "name": "stdout",
     "output_type": "stream",
     "text": [
      "Correct: 2\n",
      "Board: [[[128]\n",
      "  [128]]\n",
      "\n",
      " [[255]\n",
      "  [128]]]\n",
      "\n"
     ]
    }
   ],
   "source": [
    "gte1.step(2)\n",
    "gte1.render()"
   ]
  }
 ],
 "metadata": {
  "kernelspec": {
   "display_name": "Python 3.8 (fn_env)",
   "language": "python",
   "name": "fn_env"
  },
  "language_info": {
   "codemirror_mode": {
    "name": "ipython",
    "version": 3
   },
   "file_extension": ".py",
   "mimetype": "text/x-python",
   "name": "python",
   "nbconvert_exporter": "python",
   "pygments_lexer": "ipython3",
   "version": "3.8.13"
  }
 },
 "nbformat": 4,
 "nbformat_minor": 5
}
