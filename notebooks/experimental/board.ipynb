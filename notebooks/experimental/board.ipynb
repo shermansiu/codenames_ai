{
 "cells": [
  {
   "cell_type": "code",
   "execution_count": 486,
   "id": "f7e49a07-25d8-4399-b6e2-b8309803f9d7",
   "metadata": {},
   "outputs": [],
   "source": [
    "import numpy as np\n",
    "import pathlib\n",
    "import attr\n",
    "from typing import List, Sequence, Optional, Set, Tuple\n",
    "import typing as tp\n",
    "import nptyping as npt\n",
    "import abc"
   ]
  },
  {
   "cell_type": "code",
   "execution_count": 366,
   "id": "34a26177-489c-489b-a650-39b24cbf0d89",
   "metadata": {},
   "outputs": [
    {
     "name": "stdout",
     "output_type": "stream",
     "text": [
      "directional.txt\t\t\t    LICENSE    README.md  wiki-100k.txt\n",
      "google-10000-english-no-swears.txt  notebooks  src\t  wordlist-eng.txt\n"
     ]
    }
   ],
   "source": [
    "!ls ../../"
   ]
  },
  {
   "cell_type": "code",
   "execution_count": 354,
   "id": "a1f473f9-d923-4798-85f3-3c730715429d",
   "metadata": {},
   "outputs": [],
   "source": [
    "def regularize(list_of_tokens: List[str]) -> List[str]:\n",
    "    return [token.strip().upper() for token in list_of_tokens]"
   ]
  },
  {
   "cell_type": "code",
   "execution_count": 385,
   "id": "0845d186-2381-4440-8ffb-d41b36a95e51",
   "metadata": {},
   "outputs": [],
   "source": [
    "class WordList:\n",
    "    def __init__(\n",
    "            self,\n",
    "            wordlist_path: str,\n",
    "            illegals_paths: Optional[List[str]] = None,\n",
    "            allowed_paths: Optional[List[str]] = None\n",
    "    ):\n",
    "        path = pathlib.Path(wordlist_path)\n",
    "        with path.open() as f:\n",
    "            self.words = regularize(f.read().splitlines())\n",
    "        self.illegals = self.load_texts(illegals_paths) if illegals_paths else set()\n",
    "        self.allowed = self.load_texts(allowed_paths) if allowed_paths else set()\n",
    "        # If it is illegal for the board, it will be detected later on\n",
    "        self.allowed.update(self.words)\n",
    "\n",
    "    def load_texts(self, paths: List[str]) -> Set[str]:\n",
    "        texts = set()\n",
    "        for pth in paths:\n",
    "            path = pathlib.Path(pth)\n",
    "            with path.open() as f:\n",
    "                texts.update(f.read().splitlines())\n",
    "        return set(regularize(texts))"
   ]
  },
  {
   "cell_type": "code",
   "execution_count": 386,
   "id": "109eb7f1-7f16-44e1-aadb-5dc9c06645ee",
   "metadata": {},
   "outputs": [
    {
     "data": {
      "text/plain": [
       "True"
      ]
     },
     "execution_count": 386,
     "metadata": {},
     "output_type": "execute_result"
    }
   ],
   "source": [
    "pathlib.Path(\"../../wordlist-eng.txt\").exists()"
   ]
  },
  {
   "cell_type": "code",
   "execution_count": 579,
   "id": "312ae070-32b1-4ce5-aace-0fc936b3cfe5",
   "metadata": {},
   "outputs": [],
   "source": [
    "wordlist = WordList(\n",
    "    \"../../wordlist-eng.txt\",\n",
    "    [\"../../directional.txt\"],\n",
    "    [\"../../wiki-100k.txt\", \"../../google-10000-english-no-swears.txt\", \"../../custom_whitelist.txt\"]\n",
    ")"
   ]
  },
  {
   "cell_type": "code",
   "execution_count": 388,
   "id": "49388510-fb9b-4c8c-ae4c-2d6bc4674a69",
   "metadata": {
    "tags": []
   },
   "outputs": [
    {
     "data": {
      "text/plain": [
       "<__main__.WordList at 0x7fb6e58ce080>"
      ]
     },
     "execution_count": 388,
     "metadata": {},
     "output_type": "execute_result"
    }
   ],
   "source": [
    "wordlist"
   ]
  },
  {
   "cell_type": "code",
   "execution_count": 389,
   "id": "15dd6b9a-e4b2-4b76-98ae-3b7ea81f70ec",
   "metadata": {},
   "outputs": [],
   "source": [
    "from numpy.random import default_rng\n",
    "rng = default_rng()"
   ]
  },
  {
   "cell_type": "code",
   "execution_count": 390,
   "id": "175d2d1c-0b26-4d7a-9e2e-6841ce016b39",
   "metadata": {},
   "outputs": [
    {
     "data": {
      "text/plain": [
       "{'BOTTOM',\n",
       " 'DOWN',\n",
       " 'EAST',\n",
       " 'LEFT',\n",
       " 'NORTH',\n",
       " 'RIGHT',\n",
       " 'SOUTH',\n",
       " 'TOP',\n",
       " 'UP',\n",
       " 'WEST'}"
      ]
     },
     "execution_count": 390,
     "metadata": {},
     "output_type": "execute_result"
    }
   ],
   "source": [
    "wordlist.illegals"
   ]
  },
  {
   "cell_type": "code",
   "execution_count": 274,
   "id": "920ca30f-1344-4db2-847e-a146aaa6b7c1",
   "metadata": {},
   "outputs": [],
   "source": [
    "labels = [\"BLUE\"] * 9 + [\"RED\"] * 8 + [\"BYSTANDER\"] * 7 + [\"ASSASSIN\"]\n",
    "unique_labels = np.unique(labels).tolist()"
   ]
  },
  {
   "cell_type": "code",
   "execution_count": 218,
   "id": "ac0d500a-8ace-4bb9-ba5d-6f0e638b68ad",
   "metadata": {},
   "outputs": [
    {
     "data": {
      "text/plain": [
       "25"
      ]
     },
     "execution_count": 218,
     "metadata": {},
     "output_type": "execute_result"
    }
   ],
   "source": [
    "len(labels)"
   ]
  },
  {
   "cell_type": "code",
   "execution_count": 615,
   "id": "2cfea306-35c0-4dcb-9ae3-d1a3dfa2fa07",
   "metadata": {},
   "outputs": [],
   "source": [
    "def is_superstring_or_substring(word: str, target: str) -> bool:\n",
    "    return target in word or word in target\n",
    "\n",
    "\n",
    "class Board:\n",
    "    def __init__(self, wordlist: WordList) -> None:\n",
    "        self.wordlist = wordlist\n",
    "        self.words = rng.choice(wordlist.words, 25, replace=False)\n",
    "        self.word2index = {word: i for i, word in enumerate(self.words)}\n",
    "        self.labels = rng.permutation(labels)\n",
    "        self.reset_game()\n",
    "\n",
    "    def is_related_word(self, word: str) -> bool:\n",
    "        word = word.upper()\n",
    "        return any(is_superstring_or_substring(word, target) for target in self.words)\n",
    "\n",
    "    def is_illegal(self, word: str) -> bool:\n",
    "        word = word.upper()\n",
    "        return (\n",
    "            self.is_related_word(word) or\n",
    "            word in self.wordlist.illegals or\n",
    "            word not in self.wordlist.allowed\n",
    "        )\n",
    "\n",
    "    def batch_is_illegal(self, words: npt.NDArray[str]) -> npt.NDArray[bool]:\n",
    "        return np.array([self.is_illegal(w) for w in words])\n",
    "\n",
    "    def reset_game(self) -> None:\n",
    "        self.chosen = np.array([False]*25)\n",
    "        self.which_team_guessing = \"BLUE\"\n",
    "        # self.hint_history = []\n",
    "        # self.state_history = None\n",
    "\n",
    "    def choose_word(self, word: str) -> str:\n",
    "        if word.upper() not in self.words:\n",
    "            raise KeyError(f\"Word '{word}' is not on the board.\")\n",
    "        index = self.word2index[word]\n",
    "        if self.chosen[index]:\n",
    "            raise ValueError(f\"Word '{word}' has already been chosen!\")\n",
    "        self.chosen[index] = True\n",
    "        return self.labels[index]\n",
    "\n",
    "    def words_that_are_label(self, label):\n",
    "        return self.words[self.labels == label]\n",
    "\n",
    "    @property\n",
    "    def blue_words(self):\n",
    "        return words_that_are_label(\"BLUE\")\n",
    "\n",
    "    @property\n",
    "    def red_words(self):\n",
    "        return words_that_are_label(\"RED\")\n",
    "\n",
    "    @property\n",
    "    def bystander_words(self):\n",
    "        return words_that_are_label(\"BYSTANDER\")\n",
    "\n",
    "    @property\n",
    "    def assassin_words(self):\n",
    "        \"\"\"There is only one assassin in a regular game, but for the sake of generality, here we go!\"\"\"\n",
    "        return words_that_are_label(\"ASSASSIN\")\n",
    "\n",
    "    def indices_for_label(self, label):\n",
    "        return np.where(self.labels == label)[0]\n",
    "\n",
    "    @property\n",
    "    def blue_indices(self):\n",
    "        return self.indices_for_label(\"BLUE\")\n",
    "\n",
    "    @property\n",
    "    def red_indices(self):\n",
    "        return self.indices_for_label(\"RED\")\n",
    "\n",
    "    @property\n",
    "    def bystander_indices(self):\n",
    "        return self.indices_for_label(\"BYSTANDER\")\n",
    "\n",
    "    @property\n",
    "    def assassin_indices(self):\n",
    "        \"\"\"There is only one assassin in a regular game, but for the sake of generality, here we go!\"\"\"\n",
    "        return self.indices_for_label(\"ASSASSIN\")\n",
    "\n",
    "    def jump_to_random_state(self) -> None:\n",
    "        \"\"\"Jump to a valid random state before the end of the game.\n",
    "        \n",
    "        There must be 1 assassin, 1-9 blue words, 1-8 red words, and 0-7 bystanders.\n",
    "        Thus, 0-8 blue, 0-7 red and 1-6 bystander words are chosen.\n",
    "        \"\"\"\n",
    "        self.reset_game()\n",
    "        num_blue = rng.integers(0, 9)\n",
    "        num_red = rng.integers(0, 8)\n",
    "        num_bystanders = rng.integers(0, 7)\n",
    "        chosen_blue = rng.choice(self.blue_indices, num_blue, replace=False)\n",
    "        chosen_red = rng.choice(self.red_indices, num_red, replace=False)\n",
    "        chosen_bystanders = rng.choice(self.bystander_indices, num_bystanders, replace=False)\n",
    "        chosen_indices = np.concatenate([chosen_blue, chosen_red, chosen_bystanders])\n",
    "        self.chosen[chosen_indices] = True\n",
    "        self.which_team_guessing = rng.choice([\"BLUE\", \"RED\"])\n",
    "\n",
    "    def bag_state(self) -> tp.Dict[\"label\", tp.Set[\"words\"]]:\n",
    "        return {label: set(self.words[(self.labels == label) & ~self.chosen]) for label in unique_labels}\n",
    "\n",
    "    def remaining_words(self) -> npt.NDArray[str]:\n",
    "        return self.words[~self.chosen]"
   ]
  },
  {
   "cell_type": "code",
   "execution_count": 393,
   "id": "b69a5b7d-9477-4ba8-a27a-3ff3d07037e9",
   "metadata": {},
   "outputs": [
    {
     "data": {
      "text/plain": [
       "0"
      ]
     },
     "execution_count": 393,
     "metadata": {},
     "output_type": "execute_result"
    }
   ],
   "source": [
    "rng.choice([0, 1])"
   ]
  },
  {
   "cell_type": "code",
   "execution_count": 394,
   "id": "14e4c4e6-0675-48dc-9dfa-361a8955cdeb",
   "metadata": {},
   "outputs": [],
   "source": [
    "class CliView:\n",
    "    def __init__(self, board: Board):\n",
    "        self.board = board\n",
    "\n",
    "    def spymaster_words_to_display(self):\n",
    "        words = []\n",
    "        # Arguably more readable than the equivalent list comprehension\n",
    "        for w, l, c in zip(self.board.words, self.board.labels, self.board.chosen):\n",
    "            w += f\"_{l[0]}\"\n",
    "            if c:\n",
    "                w = w.lower()\n",
    "            words.append(w) \n",
    "        return words\n",
    "\n",
    "    def operative_words_to_display(self):\n",
    "        words = []\n",
    "        # Arguably more readable than the equivalent list comprehension\n",
    "        for w, l, c in zip(self.board.words, self.board.labels, self.board.chosen):\n",
    "            if c:\n",
    "                w += f\"_{l[0]}\"\n",
    "                w = w.lower()\n",
    "            words.append(w)\n",
    "        return words\n",
    "\n",
    "    def generic_view(self, words_to_display):\n",
    "        words = words_to_display()\n",
    "        print(np.array(words).reshape(5,5))\n",
    "        print(f\"It is {self.board.which_team_guessing}'s turn.\")\n",
    "\n",
    "    def spymaster_view(self):\n",
    "        self.generic_view(self.spymaster_words_to_display)\n",
    "\n",
    "    def operative_view(self):\n",
    "        self.generic_view(self.operative_words_to_display)"
   ]
  },
  {
   "cell_type": "code",
   "execution_count": 395,
   "id": "19ae662c-f986-48ac-840a-df12ce046c5f",
   "metadata": {},
   "outputs": [
    {
     "data": {
      "text/plain": [
       "array([0, 1, 2, 0, 1])"
      ]
     },
     "execution_count": 395,
     "metadata": {},
     "output_type": "execute_result"
    }
   ],
   "source": [
    "np.concatenate([np.arange(3), np.arange(2)])"
   ]
  },
  {
   "cell_type": "code",
   "execution_count": 616,
   "id": "3591dd77-6307-45e6-83d2-64c77c9f0293",
   "metadata": {},
   "outputs": [],
   "source": [
    "board = Board(wordlist)\n",
    "view = CliView(board)"
   ]
  },
  {
   "cell_type": "code",
   "execution_count": 489,
   "id": "e89990f0-c506-43eb-ad9c-33a980208f03",
   "metadata": {},
   "outputs": [
    {
     "name": "stdout",
     "output_type": "stream",
     "text": [
      "[['WASHER_R' 'CRASH_B' 'SOCK_B' 'BERMUDA_R' 'TUBE_B']\n",
      " ['CHURCH_B' 'GIANT_B' 'STADIUM_B' 'GAS_R' 'GENIUS_R']\n",
      " ['MATCH_B' 'BOTTLE_R' 'KIWI_B' 'BAT_A' 'PART_B']\n",
      " ['LINK_B' 'ANGEL_B' 'CAST_B' 'COOK_R' 'OCTOPUS_R']\n",
      " ['AMERICA_B' 'MILLIONAIRE_B' 'OLIVE_R' 'TOKYO_B' 'TRUNK_B']]\n",
      "It is BLUE's turn.\n"
     ]
    }
   ],
   "source": [
    "view.spymaster_view()"
   ]
  },
  {
   "cell_type": "code",
   "execution_count": 490,
   "id": "0c03d9db-0439-4bff-829e-314e4a2f9147",
   "metadata": {},
   "outputs": [
    {
     "data": {
      "text/plain": [
       "{'ASSASSIN': {'BAT'},\n",
       " 'BLUE': {'AMERICA',\n",
       "  'ANGEL',\n",
       "  'CRASH',\n",
       "  'GIANT',\n",
       "  'KIWI',\n",
       "  'MATCH',\n",
       "  'TOKYO',\n",
       "  'TRUNK',\n",
       "  'TUBE'},\n",
       " 'BYSTANDER': {'CAST',\n",
       "  'CHURCH',\n",
       "  'LINK',\n",
       "  'MILLIONAIRE',\n",
       "  'PART',\n",
       "  'SOCK',\n",
       "  'STADIUM'},\n",
       " 'RED': {'BERMUDA',\n",
       "  'BOTTLE',\n",
       "  'COOK',\n",
       "  'GAS',\n",
       "  'GENIUS',\n",
       "  'OCTOPUS',\n",
       "  'OLIVE',\n",
       "  'WASHER'}}"
      ]
     },
     "execution_count": 490,
     "metadata": {},
     "output_type": "execute_result"
    }
   ],
   "source": [
    "board.bag_state()"
   ]
  },
  {
   "cell_type": "code",
   "execution_count": 399,
   "id": "341fbaf8-c43b-4f46-b757-8243b18f1bf9",
   "metadata": {},
   "outputs": [
    {
     "data": {
      "text/plain": [
       "array([ 4,  8, 11, 12, 13, 14, 19, 21, 22])"
      ]
     },
     "execution_count": 399,
     "metadata": {},
     "output_type": "execute_result"
    }
   ],
   "source": [
    "board.blue_indices"
   ]
  },
  {
   "cell_type": "code",
   "execution_count": 400,
   "id": "030d89a5-e5a5-47b7-ba6a-97ed7166f399",
   "metadata": {},
   "outputs": [],
   "source": [
    "board.jump_to_random_state()"
   ]
  },
  {
   "cell_type": "code",
   "execution_count": 401,
   "id": "29ebd521-dae9-444d-9c39-e70dbb2545ff",
   "metadata": {},
   "outputs": [
    {
     "name": "stdout",
     "output_type": "stream",
     "text": [
      "[['NURSE' 'JET' 'WHALE' 'VAN' 'CYCLE']\n",
      " ['POST' 'draft_b' 'game_b' 'server_b' 'table_b']\n",
      " ['staff_b' 'SCHOOL' 'OCTOPUS' 'bermuda_b' 'AMAZON']\n",
      " ['cold_b' 'MARBLE' 'flute_r' 'CAT' 'mexico_b']\n",
      " ['SCUBA DIVER' 'MINE' 'STATE' 'hook_b' 'soldier_r']]\n",
      "It is RED's turn.\n"
     ]
    }
   ],
   "source": [
    "view.operative_view()"
   ]
  },
  {
   "cell_type": "code",
   "execution_count": 444,
   "id": "c96f9b7c-97b5-4e63-b28d-09687e646ca4",
   "metadata": {},
   "outputs": [],
   "source": [
    "@attr.s(frozen=True, auto_attribs=True)\n",
    "class Hint:\n",
    "    word: str\n",
    "    count: Optional[int]\n",
    "    remaining: int = attr.ib(default=0)"
   ]
  },
  {
   "cell_type": "code",
   "execution_count": 310,
   "id": "15119992-fad1-4d01-a173-84f037b661b4",
   "metadata": {},
   "outputs": [
    {
     "name": "stdout",
     "output_type": "stream",
     "text": [
      "ls: cannot access '../../../codenames/dataset/glove': No such file or directory\n"
     ]
    }
   ],
   "source": [
    "!ls ../../../codenames/dataset/glove"
   ]
  },
  {
   "cell_type": "code",
   "execution_count": 316,
   "id": "8b96e2b1-7d72-4bfa-8713-44ad2e4791fc",
   "metadata": {},
   "outputs": [],
   "source": [
    "glove_path = pathlib.Path(\"../../../codenames/dataset/glove.6B.300d.npy\")\n"
   ]
  },
  {
   "cell_type": "code",
   "execution_count": 319,
   "id": "473f62d9-1f9a-41c5-af3e-4d9845f81662",
   "metadata": {},
   "outputs": [],
   "source": [
    "with glove_path.open(\"rb\") as f:\n",
    "    glove_vectors = np.load(f)"
   ]
  },
  {
   "cell_type": "code",
   "execution_count": 437,
   "id": "e103351a-9cd5-4bb6-9a41-128813c4adc7",
   "metadata": {},
   "outputs": [],
   "source": [
    "class TextVectorEngine(metaclass=abc.ABCMeta):\n",
    "    # TODO: add self.vectors, self.tokens, self.token2id here too\n",
    "\n",
    "    @abc.abstractmethod\n",
    "    def is_valid_token(self, token):\n",
    "        pass\n",
    "\n",
    "    @abc.abstractmethod\n",
    "    def tokenize(self, phrase):\n",
    "        pass"
   ]
  },
  {
   "cell_type": "code",
   "execution_count": 622,
   "id": "bf6d0fcd-47f8-48be-b6d8-dd48f16ba41a",
   "metadata": {},
   "outputs": [],
   "source": [
    "class Glove(TextVectorEngine):\n",
    "    def __init__(self, glove_vector_path, glove_tokens_path):\n",
    "        gv_path = pathlib.Path(glove_vector_path)\n",
    "        gt_path = pathlib.Path(glove_tokens_path)\n",
    "        assert gv_path.exists()\n",
    "        assert gt_path.exists()\n",
    "        with gv_path.open(\"rb\") as f:\n",
    "            self.vectors = np.load(gv_path)\n",
    "        with gt_path.open() as f:\n",
    "            self.tokens = f.read().splitlines()\n",
    "            self.tokens = np.array(regularize(self.tokens))\n",
    "        self.token2id = {t: i for i, t in enumerate(self.tokens)}\n",
    "\n",
    "    def is_valid_token(self, token):\n",
    "        return token.strip().upper() in self.token2id\n",
    "        \n",
    "    def tokenize(self, phrase):\n",
    "        \"\"\"Simple one-word tokenization. Ignores punctuation.\"\"\"\n",
    "        if isinstance(phrase, str):\n",
    "            phrase = phrase.strip().upper().split()\n",
    "        else:\n",
    "            phrase = regularize(phrase)\n",
    "        return [self.token2id[x] if self.is_valid_token(x) else None for x in phrase]\n",
    "\n",
    "    def vectorize(self, phrase):\n",
    "        return self.vectors[self.tokenize(phrase)]"
   ]
  },
  {
   "cell_type": "code",
   "execution_count": 455,
   "id": "c8854256-b2c4-4eba-aed3-e4293f016f09",
   "metadata": {},
   "outputs": [
    {
     "data": {
      "text/plain": [
       "array([0.99999994, 0.99999994, 0.99999994, ..., 0.99999994, 1.        ,\n",
       "       1.        ], dtype=float32)"
      ]
     },
     "execution_count": 455,
     "metadata": {},
     "output_type": "execute_result"
    }
   ],
   "source": [
    "glove.vectors / np.linalg.norm(glove.vectors, axis=1)[:, None]"
   ]
  },
  {
   "cell_type": "code",
   "execution_count": 468,
   "id": "94f40307-2349-4f85-9837-c0d57404abc7",
   "metadata": {},
   "outputs": [],
   "source": [
    "def batched_norm(vec: np.ndarray) -> np.ndarray:\n",
    "    \"\"\"Normalize a batch of vectors\n",
    "    \n",
    "    Args:\n",
    "        vec: (batch, dim)\n",
    "    \"\"\"\n",
    "    return vec / np.linalg.norm(vec, axis=1)[:, None]"
   ]
  },
  {
   "cell_type": "code",
   "execution_count": 469,
   "id": "963b7f2c-4a99-4ff5-afc1-9906b10a598f",
   "metadata": {},
   "outputs": [],
   "source": [
    "def batched_cosine_similarity(a: np.ndarray, b: np.ndarray) -> float:\n",
    "    \"\"\"Take the batched cosine similarity.\"\"\"\n",
    "    a_norm = batched_norm(a)  # (batch1, dim)\n",
    "    b_norm = batched_norm(b)  # (batch2, dim)\n",
    "    return a_norm @ b_norm.T  # (batch1, batch2)"
   ]
  },
  {
   "cell_type": "code",
   "execution_count": 481,
   "id": "3aadce40-755c-4ead-80f6-5bf77fdfa659",
   "metadata": {},
   "outputs": [
    {
     "data": {
      "text/plain": [
       "\u001b[0;31mType:\u001b[0m        Board\n",
       "\u001b[0;31mString form:\u001b[0m <__main__.Board object at 0x7fb6e4f66160>\n",
       "\u001b[0;31mDocstring:\u001b[0m   <no docstring>\n"
      ]
     },
     "metadata": {},
     "output_type": "display_data"
    }
   ],
   "source": [
    "?board"
   ]
  },
  {
   "cell_type": "code",
   "execution_count": 520,
   "id": "6cbc833d-b137-4b6d-9350-1c9a664d1d60",
   "metadata": {},
   "outputs": [
    {
     "data": {
      "text/plain": [
       "list"
      ]
     },
     "execution_count": 520,
     "metadata": {},
     "output_type": "execute_result"
    }
   ],
   "source": [
    "type(glove.tokens)"
   ]
  },
  {
   "cell_type": "code",
   "execution_count": 636,
   "id": "4c5838c4-dd82-4c37-966b-c05fd8465d99",
   "metadata": {},
   "outputs": [],
   "source": [
    "class GloveGuesser:\n",
    "    \n",
    "    def __init__(self, glove: Glove, board: Board, limit: int = 10):\n",
    "        self.glove = glove\n",
    "        self.board = board\n",
    "        self.limit = limit\n",
    "        self.strategy_lookup = {\n",
    "            \"mean\": self.generate_word_suggestions_mean,\n",
    "            \"minimax\": self.generate_word_suggestions_minimax\n",
    "        }\n",
    "\n",
    "    def indices_illegal_words(self, chosen_words: npt.NDArray):\n",
    "        return self.board.batch_is_illegal(chosen_words)\n",
    "\n",
    "    def generate_word_suggestions_mean(self, words: List[str], limit: int = 10) -> Tuple[Sequence[str], Sequence[float]]:\n",
    "        for word in words:\n",
    "            if not self.glove.is_valid_token(word):\n",
    "                raise ValueError(f\"Hint {word} is not a valid hint word!\")\n",
    "        word_vector = self.glove.vectorize(\" \".join(words)).mean(0)[None, :]\n",
    "        similarity_scores = batched_cosine_similarity(word_vector, glove.vectors)[0]\n",
    "        indices = np.argpartition(-similarity_scores, limit)\n",
    "        chosen_words = glove.tokens[indices][:limit]\n",
    "        similarity_scores = similarity_scores[indices][:limit]\n",
    "        return chosen_words, similarity_scores\n",
    "\n",
    "    def generate_word_suggestions_minimax(self, words: List[str], limit: int = 10) -> Tuple[Sequence[str], Sequence[float]]:\n",
    "        for word in words:\n",
    "            if not self.glove.is_valid_token(word):\n",
    "                raise ValueError(f\"Hint {word} is not a valid hint word!\")\n",
    "        word_vector = self.glove.vectorize(\" \".join(words))\n",
    "        similarity_scores = batched_cosine_similarity(word_vector, glove.vectors).min(axis=0)\n",
    "        indices = np.argpartition(-similarity_scores, limit)\n",
    "        chosen_words = glove.tokens[indices][:limit]\n",
    "        similarity_scores = similarity_scores[indices][:limit]\n",
    "        return chosen_words, similarity_scores\n",
    "\n",
    "    def filter_words(self, chosen_words: npt.NDArray[str], similarity_scores: npt.NDArray[float], similarity_threshold=0.0):\n",
    "        words_to_filter = self.indices_illegal_words(chosen_words) | (similarity_scores < similarity_threshold)\n",
    "        return chosen_words[~words_to_filter], similarity_scores[~words_to_filter]\n",
    "\n",
    "    def re_rank(self, chosen_words: npt.NDArray[str], similarity_scores: npt.NDArray[float], limit: int):\n",
    "        indices = np.argsort(-similarity_scores)\n",
    "        chosen_words = chosen_words[indices][:limit]\n",
    "        similarity_scores = similarity_scores[indices][:limit]\n",
    "        return chosen_words, similarity_scores\n",
    "\n",
    "    def give_hint_candidates(self, targets: List[str], similarity_threshold=0.0, strategy: str = \"minimax\"):\n",
    "        generate_word_suggestions = self.strategy_lookup[strategy]\n",
    "        chosen_words, similarity_scores = generate_word_suggestions(targets, self.limit*2)\n",
    "\n",
    "        chosen_words, similarity_scores = self.filter_words(chosen_words, similarity_scores)\n",
    "\n",
    "        return self.re_rank(chosen_words, similarity_scores, self.limit)\n",
    "\n",
    "    def give_hint(self, targets: List[str], similarity_threshold=0.0, strategy: str = \"minimax\"):\n",
    "        \"\"\"Greedily choose the best hint.\"\"\"\n",
    "        chosen_words, _ = self.give_hint_candidates(targets, similarity_threshold, strategy)\n",
    "        return chosen_words[0]\n",
    "\n",
    "    def choose_hint_parameters(self, hint: Hint) -> tp.Tuple[str, int]:\n",
    "        \"\"\"TODO: Add strategy mixins\"\"\"\n",
    "        return hint.word, hint.count-hint.remaining\n",
    "\n",
    "    def guess(self, hint: Hint, strategy: str = \"greedy\") -> Sequence[str]:\n",
    "        word, limit = self.choose_hint_parameters(hint)\n",
    "        if not self.glove.is_valid_token(word):\n",
    "            raise ValueError(f\"Hint {word} is not a valid hint word!\")\n",
    "        word_vector = self.glove.vectorize(word)\n",
    "        remaining_words = self.board.remaining_words()\n",
    "        board_vectors = self.glove.vectorize(remaining_words)\n",
    "        similarity_scores = batched_cosine_similarity(word_vector, board_vectors)[0]\n",
    "        indices = np.argpartition(-similarity_scores, limit)\n",
    "        chosen_words = remaining_words[indices][:limit]\n",
    "        similarity_scores = similarity_scores[indices][:limit]\n",
    "        return chosen_words, similarity_scores"
   ]
  },
  {
   "cell_type": "code",
   "execution_count": 547,
   "id": "4ce4835d-f1b6-49df-a3e2-ddd8d2005550",
   "metadata": {},
   "outputs": [
    {
     "data": {
      "text/plain": [
       "0"
      ]
     },
     "execution_count": 547,
     "metadata": {},
     "output_type": "execute_result"
    }
   ],
   "source": [
    "np.arange(3).min()"
   ]
  },
  {
   "cell_type": "code",
   "execution_count": 623,
   "id": "ab08e197-50f7-4c90-90c8-9554f502b012",
   "metadata": {},
   "outputs": [],
   "source": [
    "glove = Glove(\"../../../codenames/dataset/glove.6B.300d.npy\", \"../../../codenames/dataset/words\")"
   ]
  },
  {
   "cell_type": "code",
   "execution_count": 516,
   "id": "1cb37b25-6e15-4f7f-bd4b-18e9db463f83",
   "metadata": {},
   "outputs": [
    {
     "data": {
      "text/plain": [
       "(1, 300)"
      ]
     },
     "execution_count": 516,
     "metadata": {},
     "output_type": "execute_result"
    }
   ],
   "source": [
    "glove.vectorize(\"Test\").shape"
   ]
  },
  {
   "cell_type": "code",
   "execution_count": 598,
   "id": "6664a291-a23b-49d4-9c61-189e76494d73",
   "metadata": {},
   "outputs": [
    {
     "data": {
      "text/plain": [
       "False"
      ]
     },
     "execution_count": 598,
     "metadata": {},
     "output_type": "execute_result"
    }
   ],
   "source": [
    "board.is_illegal(\"AMERICA\")"
   ]
  },
  {
   "cell_type": "code",
   "execution_count": 637,
   "id": "8bc9784c-b87d-462a-90dc-516ec2823369",
   "metadata": {},
   "outputs": [],
   "source": [
    "guesser = GloveGuesser(glove, board)"
   ]
  },
  {
   "cell_type": "code",
   "execution_count": 626,
   "id": "6d8e964b-3f97-47c7-8fae-1ec26d1bbcc8",
   "metadata": {},
   "outputs": [
    {
     "data": {
      "text/plain": [
       "[389,\n",
       " 2855,\n",
       " 2805,\n",
       " 13308,\n",
       " 603,\n",
       " 2858,\n",
       " 1866,\n",
       " 4249,\n",
       " 3845,\n",
       " 9248,\n",
       " 11738,\n",
       " 7370,\n",
       " 2061,\n",
       " 27940,\n",
       " 316,\n",
       " 3990,\n",
       " 17489,\n",
       " 9993,\n",
       " 1307,\n",
       " 20026,\n",
       " 13889,\n",
       " 4614,\n",
       " 10216,\n",
       " 17003,\n",
       " 638]"
      ]
     },
     "execution_count": 626,
     "metadata": {},
     "output_type": "execute_result"
    }
   ],
   "source": [
    "glove.tokenize(board.remaining_words())"
   ]
  },
  {
   "cell_type": "code",
   "execution_count": 631,
   "id": "6fca3668-d959-48f4-a706-795ecfdd41d0",
   "metadata": {},
   "outputs": [
    {
     "data": {
      "text/plain": [
       "{'ASSASSIN': {'COMIC'},\n",
       " 'BLUE': {'BRUSH',\n",
       "  'CHAIR',\n",
       "  'GRASS',\n",
       "  'MOLE',\n",
       "  'PAPER',\n",
       "  'SATELLITE',\n",
       "  'SCORPION',\n",
       "  'SHOP',\n",
       "  'SLUG'},\n",
       " 'BYSTANDER': {'CRANE', 'DINOSAUR', 'HAWK', 'LINK', 'PASTE', 'POINT', 'TUBE'},\n",
       " 'RED': {'AUSTRALIA',\n",
       "  'CHICK',\n",
       "  'COLD',\n",
       "  'COMPOUND',\n",
       "  'FOREST',\n",
       "  'JUPITER',\n",
       "  'KEY',\n",
       "  'OIL'}}"
      ]
     },
     "execution_count": 631,
     "metadata": {},
     "output_type": "execute_result"
    }
   ],
   "source": [
    "board.bag_state()"
   ]
  },
  {
   "cell_type": "code",
   "execution_count": 638,
   "id": "9ac11d7e-7c19-4cb9-a667-2bef38a8caad",
   "metadata": {},
   "outputs": [
    {
     "data": {
      "text/plain": [
       "(array(['DRY', 'COOL', 'HOT', 'WET', 'WARM', 'RAINY', 'RAIN', 'DESERT',\n",
       "        'HABITAT', 'WINTERS'], dtype='<U68'),\n",
       " array([0.5375424 , 0.5000939 , 0.49452868, 0.47711235, 0.45485127,\n",
       "        0.43468133, 0.4343574 , 0.43188688, 0.42913797, 0.41956434],\n",
       "       dtype=float32))"
      ]
     },
     "execution_count": 638,
     "metadata": {},
     "output_type": "execute_result"
    }
   ],
   "source": [
    "guesser.give_hint_candidates([\"chick\", \"forest\", \"cold\"], strategy=\"mean\")"
   ]
  },
  {
   "cell_type": "code",
   "execution_count": 639,
   "id": "faaeaae4-6cb4-4026-988a-4f3544d12254",
   "metadata": {},
   "outputs": [
    {
     "data": {
      "text/plain": [
       "(array(['BRUSH', 'COLD', 'GRASS'], dtype='<U11'),\n",
       " array([0.47539973, 0.5543054 , 0.32184032], dtype=float32))"
      ]
     },
     "execution_count": 639,
     "metadata": {},
     "output_type": "execute_result"
    }
   ],
   "source": [
    "guesser.guess(Hint(\"dry\", 3))"
   ]
  },
  {
   "cell_type": "code",
   "execution_count": 614,
   "id": "d7dc1740-4b8a-41ff-a308-43a55a77a9f0",
   "metadata": {},
   "outputs": [
    {
     "data": {
      "text/plain": [
       "True"
      ]
     },
     "execution_count": 614,
     "metadata": {},
     "output_type": "execute_result"
    }
   ],
   "source": [
    "board.is_related_word(\"moles\")"
   ]
  },
  {
   "cell_type": "code",
   "execution_count": 594,
   "id": "5326641f-e466-4ef3-82dc-d63992b7aff7",
   "metadata": {},
   "outputs": [
    {
     "data": {
      "text/plain": [
       "<bound method GloveGuesser.generate_word_suggestions_minimax of <__main__.GloveGuesser object at 0x7fb6e481a400>>"
      ]
     },
     "execution_count": 594,
     "metadata": {},
     "output_type": "execute_result"
    }
   ],
   "source": [
    "guesser.strategy_lookup[\"minimax\"]"
   ]
  },
  {
   "cell_type": "code",
   "execution_count": 478,
   "id": "786f8d45-7773-4436-b1bd-8ac23ed83c56",
   "metadata": {},
   "outputs": [
    {
     "data": {
      "text/plain": [
       "(1, 10)"
      ]
     },
     "execution_count": 478,
     "metadata": {},
     "output_type": "execute_result"
    }
   ],
   "source": [
    "batched_cosine_similarity(glove.vectors[:1], glove.vectors[:10]).shape"
   ]
  },
  {
   "cell_type": "code",
   "execution_count": 441,
   "id": "4809fa12-f4c9-4c19-b22b-7d9de9215be2",
   "metadata": {
    "collapsed": true,
    "jupyter": {
     "outputs_hidden": true
    },
    "tags": []
   },
   "outputs": [
    {
     "data": {
      "text/plain": [
       "[637,\n",
       " 1967,\n",
       " 325,\n",
       " 8334,\n",
       " 12038,\n",
       " 8427,\n",
       " 9214,\n",
       " 453,\n",
       " 5239,\n",
       " 12451,\n",
       " 3292,\n",
       " 2647,\n",
       " 12339,\n",
       " 603,\n",
       " 26900,\n",
       " 137,\n",
       " 1083,\n",
       " 775,\n",
       " 231,\n",
       " 2069,\n",
       " 14924,\n",
       " 4925,\n",
       " 5747,\n",
       " 1497,\n",
       " 3045,\n",
       " 960,\n",
       " 3827,\n",
       " 942,\n",
       " 2913,\n",
       " 5077,\n",
       " 2499,\n",
       " 11012,\n",
       " 9307,\n",
       " 480,\n",
       " 1963,\n",
       " 534,\n",
       " 11869,\n",
       " 1211,\n",
       " 1846,\n",
       " 4707,\n",
       " 10002,\n",
       " 6676,\n",
       " 7331,\n",
       " 1930,\n",
       " 1641,\n",
       " 9248,\n",
       " 8998,\n",
       " 4794,\n",
       " 11035,\n",
       " 41652,\n",
       " 6910,\n",
       " 14105,\n",
       " 774,\n",
       " 3539,\n",
       " 351,\n",
       " 569,\n",
       " 1904,\n",
       " 20786,\n",
       " 5391,\n",
       " 1784,\n",
       " 5450,\n",
       " 2114,\n",
       " 46995,\n",
       " 313,\n",
       " 3845,\n",
       " 511,\n",
       " 1090,\n",
       " 2375,\n",
       " 5778,\n",
       " 17489,\n",
       " 132,\n",
       " 6242,\n",
       " 512,\n",
       " 4012,\n",
       " 8525,\n",
       " 23755,\n",
       " 449,\n",
       " 2280,\n",
       " 1866,\n",
       " 4249,\n",
       " 3990,\n",
       " 3031,\n",
       " 8475,\n",
       " 953,\n",
       " 3387,\n",
       " 5139,\n",
       " 5223,\n",
       " 202,\n",
       " 1333,\n",
       " 10216,\n",
       " 2005,\n",
       " 2162,\n",
       " 1007,\n",
       " 3120,\n",
       " 4124,\n",
       " 2312,\n",
       " 2261,\n",
       " 1257,\n",
       " 122,\n",
       " 336,\n",
       " 6744,\n",
       " 1714,\n",
       " 5188,\n",
       " 14621,\n",
       " 13308,\n",
       " 1289,\n",
       " 2082,\n",
       " 2926,\n",
       " 1737,\n",
       " 7394,\n",
       " 4635,\n",
       " 8416,\n",
       " 1560,\n",
       " 7774,\n",
       " 15389,\n",
       " 5838,\n",
       " 1598,\n",
       " 1847,\n",
       " 2100,\n",
       " 563,\n",
       " 525,\n",
       " 2090,\n",
       " 621,\n",
       " 1791,\n",
       " 807,\n",
       " 3267,\n",
       " 6043,\n",
       " 307263,\n",
       " 3510,\n",
       " 1265,\n",
       " 2854,\n",
       " 319,\n",
       " 484,\n",
       " 2120,\n",
       " 16677,\n",
       " 2361,\n",
       " 2149,\n",
       " 352,\n",
       " 2061,\n",
       " 11532,\n",
       " 387,\n",
       " 186,\n",
       " 851,\n",
       " 9780,\n",
       " 509,\n",
       " 7431,\n",
       " 1752,\n",
       " 2847,\n",
       " 10922,\n",
       " 764,\n",
       " 5049,\n",
       " 4614,\n",
       " 2107,\n",
       " 989,\n",
       " 817,\n",
       " 7174,\n",
       " 823,\n",
       " 9993,\n",
       " 362,\n",
       " 1058,\n",
       " 3134,\n",
       " 22574,\n",
       " 2924,\n",
       " 2290,\n",
       " 9812,\n",
       " 7721,\n",
       " 7913,\n",
       " 6832,\n",
       " 2867,\n",
       " 25145,\n",
       " 726,\n",
       " 1228,\n",
       " 1718,\n",
       " 1718,\n",
       " 5161,\n",
       " 474,\n",
       " 2906,\n",
       " 5117,\n",
       " 2180,\n",
       " 8202,\n",
       " 3423,\n",
       " 11738,\n",
       " 22184,\n",
       " 31156,\n",
       " 638,\n",
       " 4313,\n",
       " 691,\n",
       " 22500,\n",
       " 7209,\n",
       " 4848,\n",
       " 5577,\n",
       " 5452,\n",
       " 8013,\n",
       " 1387,\n",
       " 410,\n",
       " 9311,\n",
       " 78868,\n",
       " 214,\n",
       " 897,\n",
       " 18634,\n",
       " 331,\n",
       " 2858,\n",
       " 6657,\n",
       " 18990,\n",
       " 18045,\n",
       " 24160,\n",
       " 6296,\n",
       " 9000,\n",
       " 516,\n",
       " 5556,\n",
       " 1339,\n",
       " 14420,\n",
       " 9765,\n",
       " 9342,\n",
       " 304,\n",
       " 1329,\n",
       " 550,\n",
       " 6903,\n",
       " 856,\n",
       " 21519,\n",
       " 10233,\n",
       " 2398,\n",
       " 12165,\n",
       " 2079,\n",
       " 1423,\n",
       " 20026,\n",
       " 3377,\n",
       " 1341,\n",
       " 2787,\n",
       " 7571,\n",
       " 4166,\n",
       " 26869,\n",
       " 12109,\n",
       " 14164,\n",
       " 1050,\n",
       " 50,\n",
       " 196,\n",
       " 364,\n",
       " 22107,\n",
       " 1812,\n",
       " 1999,\n",
       " 6794,\n",
       " 16849,\n",
       " 27547,\n",
       " 316,\n",
       " 6952,\n",
       " 29640,\n",
       " 2832,\n",
       " 3200,\n",
       " 6480,\n",
       " 3214,\n",
       " 3670,\n",
       " 8176,\n",
       " 1307,\n",
       " 13992,\n",
       " 625,\n",
       " 153,\n",
       " 1280,\n",
       " 17003,\n",
       " 15534,\n",
       " 3608,\n",
       " 4809,\n",
       " 9246,\n",
       " 2498,\n",
       " 8426,\n",
       " 7643,\n",
       " 10881,\n",
       " 9459,\n",
       " 6576,\n",
       " 3098,\n",
       " 1313,\n",
       " 3754,\n",
       " 4364,\n",
       " 68860,\n",
       " 282,\n",
       " 2219,\n",
       " 389,\n",
       " 9373,\n",
       " 4924,\n",
       " 142,\n",
       " 3216,\n",
       " 1414,\n",
       " 658,\n",
       " 3605,\n",
       " 428,\n",
       " 4242,\n",
       " 17943,\n",
       " 12898,\n",
       " 11673,\n",
       " 2060,\n",
       " 12425,\n",
       " 17676,\n",
       " 3014,\n",
       " 2525,\n",
       " 2930,\n",
       " 4972,\n",
       " 9247,\n",
       " 1137,\n",
       " 2618,\n",
       " 5440,\n",
       " 486,\n",
       " 33476,\n",
       " 469,\n",
       " 2307,\n",
       " 7154,\n",
       " 2805,\n",
       " 12609,\n",
       " 2121,\n",
       " 164,\n",
       " 4756,\n",
       " 27940,\n",
       " 2491,\n",
       " 23603,\n",
       " 18849,\n",
       " 5874,\n",
       " 8069,\n",
       " 5675,\n",
       " 7477,\n",
       " 9861,\n",
       " 1370,\n",
       " 8597,\n",
       " 2855,\n",
       " 635,\n",
       " 9241,\n",
       " 19634,\n",
       " 6201,\n",
       " 13889,\n",
       " 27898,\n",
       " 2642,\n",
       " 48146,\n",
       " 27696,\n",
       " 2481,\n",
       " 4184,\n",
       " 1507,\n",
       " 863,\n",
       " 6252,\n",
       " 11539,\n",
       " 8789,\n",
       " 15252,\n",
       " 1845,\n",
       " 1509,\n",
       " 5028,\n",
       " 1249,\n",
       " 1352,\n",
       " 821,\n",
       " 753,\n",
       " 92,\n",
       " 4403,\n",
       " 452,\n",
       " 7397,\n",
       " 5220,\n",
       " 1134,\n",
       " 3758,\n",
       " 5520,\n",
       " 2536,\n",
       " 18561,\n",
       " 4923,\n",
       " 5022,\n",
       " 1801,\n",
       " 18493,\n",
       " 6647,\n",
       " 6780,\n",
       " 7053,\n",
       " 2513,\n",
       " 10944,\n",
       " 2610,\n",
       " 2248,\n",
       " 14402,\n",
       " 10686,\n",
       " 20571,\n",
       " 2668,\n",
       " 79,\n",
       " 1363,\n",
       " 13326,\n",
       " 8638,\n",
       " 2935,\n",
       " 1008,\n",
       " 1470,\n",
       " 9464,\n",
       " 1305,\n",
       " 10032,\n",
       " 7370,\n",
       " 1130,\n",
       " 36538,\n",
       " 36200,\n",
       " 9316,\n",
       " 1461,\n",
       " 22387,\n",
       " 3050,\n",
       " 1015,\n",
       " 136,\n",
       " 38479,\n",
       " 289,\n",
       " 1716,\n",
       " 430,\n",
       " 2686,\n",
       " 1170,\n",
       " 143,\n",
       " 9287,\n",
       " 9933,\n",
       " 2486,\n",
       " 10825,\n",
       " 16528,\n",
       " 4758]"
      ]
     },
     "execution_count": 441,
     "metadata": {},
     "output_type": "execute_result"
    }
   ],
   "source": [
    "glove.tokenize(\" \".join(wordlist.words))"
   ]
  },
  {
   "cell_type": "code",
   "execution_count": 320,
   "id": "003eb92d-0b04-4e2b-adee-1a75061f1b44",
   "metadata": {},
   "outputs": [
    {
     "data": {
      "text/plain": [
       "array([[ 0.04656  ,  0.21318  , -0.0074364, ...,  0.0090611, -0.20989  ,\n",
       "         0.053913 ],\n",
       "       [-0.25539  , -0.25723  ,  0.13169  , ..., -0.2329   , -0.12226  ,\n",
       "         0.35499  ],\n",
       "       [-0.12559  ,  0.01363  ,  0.10306  , ..., -0.34224  , -0.022394 ,\n",
       "         0.13684  ],\n",
       "       ...,\n",
       "       [ 0.075713 , -0.040502 ,  0.18345  , ...,  0.21838  ,  0.30967  ,\n",
       "         0.43761  ],\n",
       "       [ 0.81451  , -0.36221  ,  0.31186  , ...,  0.075486 ,  0.28408  ,\n",
       "        -0.17559  ],\n",
       "       [ 0.429191 , -0.296897 ,  0.15011  , ...,  0.28975  ,  0.32618  ,\n",
       "        -0.0590532]], dtype=float32)"
      ]
     },
     "execution_count": 320,
     "metadata": {},
     "output_type": "execute_result"
    }
   ],
   "source": [
    "glove_vectors"
   ]
  }
 ],
 "metadata": {
  "kernelspec": {
   "display_name": "Python 3.6 (fn_env)",
   "language": "python",
   "name": "fn_env"
  },
  "language_info": {
   "codemirror_mode": {
    "name": "ipython",
    "version": 3
   },
   "file_extension": ".py",
   "mimetype": "text/x-python",
   "name": "python",
   "nbconvert_exporter": "python",
   "pygments_lexer": "ipython3",
   "version": "3.6.13"
  }
 },
 "nbformat": 4,
 "nbformat_minor": 5
}
