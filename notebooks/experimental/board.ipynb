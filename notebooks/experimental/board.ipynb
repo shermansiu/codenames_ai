{
 "cells": [
  {
   "cell_type": "code",
   "execution_count": 347,
   "id": "f7e49a07-25d8-4399-b6e2-b8309803f9d7",
   "metadata": {},
   "outputs": [],
   "source": [
    "import numpy as np\n",
    "import pathlib\n",
    "import attr\n",
    "from typing import List, Sequence, Optional"
   ]
  },
  {
   "cell_type": "code",
   "execution_count": 4,
   "id": "34a26177-489c-489b-a650-39b24cbf0d89",
   "metadata": {},
   "outputs": [
    {
     "name": "stdout",
     "output_type": "stream",
     "text": [
      "directional.txt\t\t\t    LICENSE    src\n",
      "google-10000-english-no-swears.txt  notebooks  wiki-100k.txt\n",
      "inappropriate.txt\t\t    README.md  wordlist-eng.txt\n"
     ]
    }
   ],
   "source": [
    "!ls ../../"
   ]
  },
  {
   "cell_type": "code",
   "execution_count": 349,
   "id": "0845d186-2381-4440-8ffb-d41b36a95e51",
   "metadata": {},
   "outputs": [],
   "source": [
    "class WordList:\n",
    "    def __init__(\n",
    "            self,\n",
    "            wordlist_path: str,\n",
    "            illegals_paths: Optional[List[str]] = None,\n",
    "            allowed_paths: Optional[List[str]] = None\n",
    "    ):\n",
    "        path = pathlib.Path(wordlist_path)\n",
    "        self.illegals = self.load_texts(illegals_paths) if illegals_paths else []\n",
    "        self.allowed = self.load_texts(allowed_paths) if allowed_paths else []\n",
    "\n",
    "    def load_texts(self, paths: List[str]):\n",
    "        texts = []\n",
    "        for pth in paths:\n",
    "            path = pathlib.Path(pth)\n",
    "            with path.open() as f:\n",
    "                texts.extend(f.read().splitlines())\n",
    "        return [term.strip().upper() for term in texts]"
   ]
  },
  {
   "cell_type": "code",
   "execution_count": 350,
   "id": "109eb7f1-7f16-44e1-aadb-5dc9c06645ee",
   "metadata": {},
   "outputs": [
    {
     "data": {
      "text/plain": [
       "True"
      ]
     },
     "execution_count": 350,
     "metadata": {},
     "output_type": "execute_result"
    }
   ],
   "source": [
    "pathlib.Path(\"../../wordlist-eng.txt\").exists()"
   ]
  },
  {
   "cell_type": "code",
   "execution_count": 352,
   "id": "312ae070-32b1-4ce5-aace-0fc936b3cfe5",
   "metadata": {},
   "outputs": [],
   "source": [
    "wordlist = WordList(\n",
    "    \"../../wordlist-eng.txt\",\n",
    "    [\"../../directional.txt\"],\n",
    "    [\"../../wiki-100k.txt\"]\n",
    ")"
   ]
  },
  {
   "cell_type": "code",
   "execution_count": 115,
   "id": "49388510-fb9b-4c8c-ae4c-2d6bc4674a69",
   "metadata": {
    "tags": []
   },
   "outputs": [
    {
     "data": {
      "text/plain": [
       "<__main__.WordList at 0x7fb74d4395f8>"
      ]
     },
     "execution_count": 115,
     "metadata": {},
     "output_type": "execute_result"
    }
   ],
   "source": [
    "wordlist"
   ]
  },
  {
   "cell_type": "code",
   "execution_count": 16,
   "id": "15dd6b9a-e4b2-4b76-98ae-3b7ea81f70ec",
   "metadata": {},
   "outputs": [],
   "source": [
    "from numpy.random import default_rng\n",
    "rng = default_rng()"
   ]
  },
  {
   "cell_type": "code",
   "execution_count": 107,
   "id": "c9047928-2d9b-44b2-ae95-3e9541eca8bd",
   "metadata": {},
   "outputs": [
    {
     "data": {
      "text/plain": [
       "array(['blue', 'bystander', 'blue', 'red', 'blue', 'red', 'blue', 'blue',\n",
       "       'bystander', 'red', 'red', 'assassin', 'blue', 'bystander',\n",
       "       'bystander', 'red', 'bystander', 'red', 'blue', 'red', 'blue',\n",
       "       'bystander', 'bystander', 'red', 'blue'], dtype='<U9')"
      ]
     },
     "execution_count": 107,
     "metadata": {},
     "output_type": "execute_result"
    }
   ],
   "source": []
  },
  {
   "cell_type": "code",
   "execution_count": 274,
   "id": "920ca30f-1344-4db2-847e-a146aaa6b7c1",
   "metadata": {},
   "outputs": [],
   "source": [
    "labels = [\"BLUE\"] * 9 + [\"RED\"] * 8 + [\"BYSTANDER\"] * 7 + [\"ASSASSIN\"]\n",
    "unique_labels = np.unique(labels).tolist()"
   ]
  },
  {
   "cell_type": "code",
   "execution_count": 218,
   "id": "ac0d500a-8ace-4bb9-ba5d-6f0e638b68ad",
   "metadata": {},
   "outputs": [
    {
     "data": {
      "text/plain": [
       "25"
      ]
     },
     "execution_count": 218,
     "metadata": {},
     "output_type": "execute_result"
    }
   ],
   "source": [
    "len(labels)"
   ]
  },
  {
   "cell_type": "code",
   "execution_count": 281,
   "id": "2cfea306-35c0-4dcb-9ae3-d1a3dfa2fa07",
   "metadata": {},
   "outputs": [],
   "source": [
    "def is_superstring_or_substring(word: str, target: str) -> bool:\n",
    "    return target in word or word in target\n",
    "\n",
    "\n",
    "class Board:\n",
    "    def __init__(self, wordlist: WordList) -> None:\n",
    "        self.wordlist = wordlist\n",
    "        self.words = rng.choice(wordlist.words, 25, replace=False)\n",
    "        self.word2index = {word: i for i, word in enumerate(self.words)}\n",
    "        self.labels = rng.permutation(labels)\n",
    "        self.reset_game()\n",
    "\n",
    "    def is_illegal(self, word: str) -> bool:\n",
    "        word = word.upper()\n",
    "        return (\n",
    "            any(is_superstring_or_substring(word, target) for target in self.words) or\n",
    "            word in self.wordlist.illegals\n",
    "        )\n",
    "\n",
    "    def reset_game(self) -> None:\n",
    "        self.chosen = np.array([False]*25)\n",
    "        self.which_team_guessing = \"BLUE\"\n",
    "        # self.hint_history = []\n",
    "        # self.state_history = None\n",
    "\n",
    "    def choose_word(self, word: str) -> str:\n",
    "        if word.upper() not in self.words:\n",
    "            raise KeyError(f\"Word '{word}' is not on the board.\")\n",
    "        index = self.word2index[word]\n",
    "        if self.chosen[index]:\n",
    "            raise ValueError(f\"Word '{word}' has already been chosen!\")\n",
    "        self.chosen[index] = True\n",
    "        return self.labels[index]\n",
    "\n",
    "    def words_that_are_label(self, label):\n",
    "        return self.words[self.labels == label]\n",
    "\n",
    "    @property\n",
    "    def blue_words(self):\n",
    "        return words_that_are_label(\"BLUE\")\n",
    "\n",
    "    @property\n",
    "    def red_words(self):\n",
    "        return words_that_are_label(\"RED\")\n",
    "\n",
    "    @property\n",
    "    def bystander_words(self):\n",
    "        return words_that_are_label(\"BYSTANDER\")\n",
    "\n",
    "    @property\n",
    "    def assassin_words(self):\n",
    "        \"\"\"There is only one assassin in a regular game, but for the sake of generality, here we go!\"\"\"\n",
    "        return words_that_are_label(\"ASSASSIN\")\n",
    "\n",
    "    def indices_for_label(self, label):\n",
    "        return np.where(self.labels == label)[0]\n",
    "\n",
    "    @property\n",
    "    def blue_indices(self):\n",
    "        return self.indices_for_label(\"BLUE\")\n",
    "\n",
    "    @property\n",
    "    def red_indices(self):\n",
    "        return self.indices_for_label(\"RED\")\n",
    "\n",
    "    @property\n",
    "    def bystander_indices(self):\n",
    "        return self.indices_for_label(\"BYSTANDER\")\n",
    "\n",
    "    @property\n",
    "    def assassin_indices(self):\n",
    "        \"\"\"There is only one assassin in a regular game, but for the sake of generality, here we go!\"\"\"\n",
    "        return self.indices_for_label(\"ASSASSIN\")\n",
    "\n",
    "    def jump_to_random_state(self) -> None:\n",
    "        \"\"\"Jump to a valid random state before the end of the game.\n",
    "        \n",
    "        There must be 1 assassin, 1-9 blue words, 1-8 red words, and 0-7 bystanders.\n",
    "        Thus, 0-8 blue, 0-7 red and 1-6 bystander words are chosen.\n",
    "        \"\"\"\n",
    "        self.reset_game()\n",
    "        num_blue = rng.integers(0, 9)\n",
    "        num_red = rng.integers(0, 8)\n",
    "        num_bystanders = rng.integers(0, 7)\n",
    "        chosen_blue = rng.choice(self.blue_indices, num_blue, replace=False)\n",
    "        chosen_red = rng.choice(self.red_indices, num_red, replace=False)\n",
    "        chosen_bystanders = rng.choice(self.bystander_indices, num_bystanders, replace=False)\n",
    "        chosen_indices = np.concatenate([chosen_blue, chosen_red, chosen_bystanders])\n",
    "        self.chosen[chosen_indices] = True\n",
    "        self.which_team_guessing = rng.choice([\"BLUE\", \"RED\"])\n",
    "\n",
    "    def bag_state(self):\n",
    "        return {label: set(self.words[(self.labels == label) & ~self.chosen]) for label in unique_labels}"
   ]
  },
  {
   "cell_type": "code",
   "execution_count": 282,
   "id": "b69a5b7d-9477-4ba8-a27a-3ff3d07037e9",
   "metadata": {},
   "outputs": [
    {
     "data": {
      "text/plain": [
       "0"
      ]
     },
     "execution_count": 282,
     "metadata": {},
     "output_type": "execute_result"
    }
   ],
   "source": [
    "rng.choice([0, 1])"
   ]
  },
  {
   "cell_type": "code",
   "execution_count": 283,
   "id": "14e4c4e6-0675-48dc-9dfa-361a8955cdeb",
   "metadata": {},
   "outputs": [],
   "source": [
    "class CliView:\n",
    "    def __init__(self, board: Board):\n",
    "        self.board = board\n",
    "\n",
    "    def spymaster_words_to_display(self):\n",
    "        words = []\n",
    "        # Arguably more readable than the equivalent list comprehension\n",
    "        for w, l, c in zip(self.board.words, self.board.labels, self.board.chosen):\n",
    "            w += f\"_{l[0]}\"\n",
    "            if c:\n",
    "                w = w.lower()\n",
    "            words.append(w) \n",
    "        return words\n",
    "\n",
    "    def operative_words_to_display(self):\n",
    "        words = []\n",
    "        # Arguably more readable than the equivalent list comprehension\n",
    "        for w, l, c in zip(self.board.words, self.board.labels, self.board.chosen):\n",
    "            if c:\n",
    "                w += f\"_{l[0]}\"\n",
    "                w = w.lower()\n",
    "            words.append(w)\n",
    "        return words\n",
    "\n",
    "    def generic_view(self, words_to_display):\n",
    "        words = words_to_display()\n",
    "        print(np.array(words).reshape(5,5))\n",
    "        print(f\"It is {self.board.which_team_guessing}'s turn.\")\n",
    "\n",
    "    def spymaster_view(self):\n",
    "        self.generic_view(self.spymaster_words_to_display)\n",
    "\n",
    "    def operative_view(self):\n",
    "        self.generic_view(self.operative_words_to_display)"
   ]
  },
  {
   "cell_type": "code",
   "execution_count": 284,
   "id": "19ae662c-f986-48ac-840a-df12ce046c5f",
   "metadata": {},
   "outputs": [
    {
     "data": {
      "text/plain": [
       "array([0, 1, 2, 0, 1])"
      ]
     },
     "execution_count": 284,
     "metadata": {},
     "output_type": "execute_result"
    }
   ],
   "source": [
    "np.concatenate([np.arange(3), np.arange(2)])"
   ]
  },
  {
   "cell_type": "code",
   "execution_count": 285,
   "id": "3591dd77-6307-45e6-83d2-64c77c9f0293",
   "metadata": {},
   "outputs": [],
   "source": [
    "board = Board(wordlist)\n",
    "view = CliView(board)"
   ]
  },
  {
   "cell_type": "code",
   "execution_count": 286,
   "id": "e89990f0-c506-43eb-ad9c-33a980208f03",
   "metadata": {},
   "outputs": [
    {
     "name": "stdout",
     "output_type": "stream",
     "text": [
      "[['LINE_B' 'CONTRACT_A' 'PANTS_B' 'SPELL_R' 'PASTE_R']\n",
      " ['BUFFALO_B' 'HORSE_B' 'SPINE_R' 'BERRY_B' 'INDIA_B']\n",
      " ['BOLT_B' 'STOCK_B' 'GRASS_B' 'SHOT_B' 'MOON_B']\n",
      " ['PIPE_B' 'MILLIONAIRE_R' 'SPY_B' 'CAST_R' 'AMAZON_B']\n",
      " ['FORCE_R' 'YARD_R' 'VET_R' 'PRESS_B' 'EUROPE_B']]\n",
      "It is BLUE's turn.\n"
     ]
    }
   ],
   "source": [
    "view.spymaster_view()"
   ]
  },
  {
   "cell_type": "code",
   "execution_count": 291,
   "id": "0c03d9db-0439-4bff-829e-314e4a2f9147",
   "metadata": {},
   "outputs": [
    {
     "data": {
      "text/plain": [
       "{'ASSASSIN': {'CONTRACT'},\n",
       " 'BLUE': {'AMAZON', 'BUFFALO', 'EUROPE', 'LINE', 'PIPE', 'STOCK'},\n",
       " 'BYSTANDER': {'BERRY', 'GRASS', 'INDIA', 'PANTS', 'SHOT'},\n",
       " 'RED': {'VET'}}"
      ]
     },
     "execution_count": 291,
     "metadata": {},
     "output_type": "execute_result"
    }
   ],
   "source": [
    "board.bag_state()"
   ]
  },
  {
   "cell_type": "code",
   "execution_count": 288,
   "id": "341fbaf8-c43b-4f46-b757-8243b18f1bf9",
   "metadata": {},
   "outputs": [
    {
     "data": {
      "text/plain": [
       "array([ 0,  5, 10, 11, 15, 17, 19, 23, 24])"
      ]
     },
     "execution_count": 288,
     "metadata": {},
     "output_type": "execute_result"
    }
   ],
   "source": [
    "board.blue_indices"
   ]
  },
  {
   "cell_type": "code",
   "execution_count": 289,
   "id": "030d89a5-e5a5-47b7-ba6a-97ed7166f399",
   "metadata": {},
   "outputs": [],
   "source": [
    "board.jump_to_random_state()"
   ]
  },
  {
   "cell_type": "code",
   "execution_count": 290,
   "id": "29ebd521-dae9-444d-9c39-e70dbb2545ff",
   "metadata": {},
   "outputs": [
    {
     "name": "stdout",
     "output_type": "stream",
     "text": [
      "[['LINE' 'CONTRACT' 'PANTS' 'spell_r' 'paste_r']\n",
      " ['BUFFALO' 'horse_b' 'spine_r' 'BERRY' 'INDIA']\n",
      " ['bolt_b' 'STOCK' 'GRASS' 'SHOT' 'moon_b']\n",
      " ['PIPE' 'millionaire_r' 'spy_b' 'cast_r' 'AMAZON']\n",
      " ['force_r' 'yard_r' 'VET' 'press_b' 'EUROPE']]\n",
      "It is BLUE's turn.\n"
     ]
    }
   ],
   "source": [
    "view.operative_view()"
   ]
  },
  {
   "cell_type": "code",
   "execution_count": 300,
   "id": "c96f9b7c-97b5-4e63-b28d-09687e646ca4",
   "metadata": {},
   "outputs": [],
   "source": [
    "@attr.s(frozen=True, auto_attribs=True)\n",
    "class Hint:\n",
    "    word: str\n",
    "    count: str"
   ]
  },
  {
   "cell_type": "code",
   "execution_count": 303,
   "id": "4c5838c4-dd82-4c37-966b-c05fd8465d99",
   "metadata": {},
   "outputs": [],
   "source": [
    "class GloveGuesser:\n",
    "    def __init__(self, glove_path):\n",
    "        self.glove_path = glove_path\n",
    "\n",
    "    def guess(self, board: Board, hint: Hint) -> Sequence[str]:\n",
    "        pass"
   ]
  },
  {
   "cell_type": "code",
   "execution_count": 310,
   "id": "15119992-fad1-4d01-a173-84f037b661b4",
   "metadata": {},
   "outputs": [
    {
     "name": "stdout",
     "output_type": "stream",
     "text": [
      "ls: cannot access '../../../codenames/dataset/glove': No such file or directory\n"
     ]
    }
   ],
   "source": [
    "!ls ../../../codenames/dataset/glove"
   ]
  },
  {
   "cell_type": "code",
   "execution_count": 316,
   "id": "8b96e2b1-7d72-4bfa-8713-44ad2e4791fc",
   "metadata": {},
   "outputs": [],
   "source": [
    "glove_path = pathlib.Path(\"../../../codenames/dataset/glove.6B.300d.npy\")\n"
   ]
  },
  {
   "cell_type": "code",
   "execution_count": 319,
   "id": "473f62d9-1f9a-41c5-af3e-4d9845f81662",
   "metadata": {},
   "outputs": [],
   "source": [
    "with glove_path.open(\"rb\") as f:\n",
    "    glove_vectors = np.load(f)"
   ]
  },
  {
   "cell_type": "code",
   "execution_count": 339,
   "id": "bf6d0fcd-47f8-48be-b6d8-dd48f16ba41a",
   "metadata": {},
   "outputs": [],
   "source": [
    "class Glove:\n",
    "    def __init__(self, glove_vector_path, glove_tokens_path):\n",
    "        gv_path = pathlib.Path(glove_vector_path)\n",
    "        gt_path = pathlib.Path(glove_tokens_path)\n",
    "        assert gv_path.exists()\n",
    "        assert gt_path.exists()\n",
    "        with gv_path.open(\"rb\") as f:\n",
    "            self.vectors = np.load(gv_path)\n",
    "        with gt_path.open() as f:\n",
    "            self.tokens = f.read().splitlines()\n",
    "            self.tokens = [x.strip().upper() for x in self.tokens]\n",
    "        self.token2id = {t: i for i, t in enumerate(self.tokens)}\n",
    "    def tokenize(self, phrase):\n",
    "        \"\"\"Simple one-word tokenization. Ignores punctuation.\"\"\"\n",
    "        phrase = phrase.strip().upper()\n",
    "        return [self.token2id[x] if x in self.token2id else None for x in phrase.split()]"
   ]
  },
  {
   "cell_type": "code",
   "execution_count": 340,
   "id": "ab08e197-50f7-4c90-90c8-9554f502b012",
   "metadata": {},
   "outputs": [],
   "source": [
    "glove = Glove(\"../../../codenames/dataset/glove.6B.300d.npy\", \"../../../codenames/dataset/words\")"
   ]
  },
  {
   "cell_type": "code",
   "execution_count": 346,
   "id": "4809fa12-f4c9-4c19-b22b-7d9de9215be2",
   "metadata": {},
   "outputs": [
    {
     "data": {
      "text/plain": [
       "[637,\n",
       " 1967,\n",
       " 325,\n",
       " 8334,\n",
       " 12038,\n",
       " 8427,\n",
       " 9214,\n",
       " 453,\n",
       " 5239,\n",
       " 12451,\n",
       " 3292,\n",
       " 2647,\n",
       " 12339,\n",
       " 603,\n",
       " 26900,\n",
       " 137,\n",
       " 1083,\n",
       " 775,\n",
       " 231,\n",
       " 2069,\n",
       " 14924,\n",
       " 4925,\n",
       " 5747,\n",
       " 1497,\n",
       " 3045,\n",
       " 960,\n",
       " 3827,\n",
       " 942,\n",
       " 2913,\n",
       " 5077,\n",
       " 2499,\n",
       " 11012,\n",
       " 9307,\n",
       " 480,\n",
       " 1963,\n",
       " 534,\n",
       " 11869,\n",
       " 1211,\n",
       " 1846,\n",
       " 4707,\n",
       " 10002,\n",
       " 6676,\n",
       " 7331,\n",
       " 1930,\n",
       " 1641,\n",
       " 9248,\n",
       " 8998,\n",
       " 4794,\n",
       " 11035,\n",
       " 41652,\n",
       " 6910,\n",
       " 14105,\n",
       " 774,\n",
       " 3539,\n",
       " 351,\n",
       " 569,\n",
       " 1904,\n",
       " 20786,\n",
       " 5391,\n",
       " 1784,\n",
       " 5450,\n",
       " 2114,\n",
       " 46995,\n",
       " 313,\n",
       " 3845,\n",
       " 511,\n",
       " 1090,\n",
       " 2375,\n",
       " 5778,\n",
       " 17489,\n",
       " 132,\n",
       " 6242,\n",
       " 512,\n",
       " 4012,\n",
       " 8525,\n",
       " 23755,\n",
       " 449,\n",
       " 2280,\n",
       " 1866,\n",
       " 4249,\n",
       " 3990,\n",
       " 3031,\n",
       " 8475,\n",
       " 953,\n",
       " 3387,\n",
       " 5139,\n",
       " 5223,\n",
       " 202,\n",
       " 1333,\n",
       " 10216,\n",
       " 2005,\n",
       " 2162,\n",
       " 1007,\n",
       " 3120,\n",
       " 4124,\n",
       " 2312,\n",
       " 2261,\n",
       " 1257,\n",
       " 122,\n",
       " 336,\n",
       " 6744,\n",
       " 1714,\n",
       " 5188,\n",
       " 14621,\n",
       " 13308,\n",
       " 1289,\n",
       " 2082,\n",
       " 2926,\n",
       " 1737,\n",
       " 7394,\n",
       " 4635,\n",
       " 8416,\n",
       " 1560,\n",
       " 7774,\n",
       " 15389,\n",
       " 5838,\n",
       " 1598,\n",
       " 1847,\n",
       " 2100,\n",
       " 563,\n",
       " 525,\n",
       " 2090,\n",
       " 621,\n",
       " 1791,\n",
       " 807,\n",
       " 3267,\n",
       " 6043,\n",
       " 307263,\n",
       " 3510,\n",
       " 1265,\n",
       " 2854,\n",
       " 319,\n",
       " 484,\n",
       " 2120,\n",
       " 16677,\n",
       " 2361,\n",
       " 2149,\n",
       " 352,\n",
       " 2061,\n",
       " 11532,\n",
       " 387,\n",
       " 186,\n",
       " 851,\n",
       " 9780,\n",
       " 509,\n",
       " 7431,\n",
       " 1752,\n",
       " 2847,\n",
       " 10922,\n",
       " 764,\n",
       " 5049,\n",
       " 4614,\n",
       " 2107,\n",
       " 989,\n",
       " 817,\n",
       " 7174,\n",
       " 823,\n",
       " 9993,\n",
       " 362,\n",
       " 1058,\n",
       " 3134,\n",
       " 22574,\n",
       " 2924,\n",
       " 2290,\n",
       " 9812,\n",
       " 7721,\n",
       " 7913,\n",
       " 6832,\n",
       " 2867,\n",
       " 25145,\n",
       " 726,\n",
       " 1228,\n",
       " 1718,\n",
       " 1718,\n",
       " 5161,\n",
       " 474,\n",
       " 2906,\n",
       " 5117,\n",
       " 2180,\n",
       " 8202,\n",
       " 3423,\n",
       " 11738,\n",
       " 22184,\n",
       " 31156,\n",
       " 638,\n",
       " 4313,\n",
       " 691,\n",
       " 22500,\n",
       " 7209,\n",
       " 4848,\n",
       " 5577,\n",
       " 5452,\n",
       " 8013,\n",
       " 1387,\n",
       " 410,\n",
       " 9311,\n",
       " 78868,\n",
       " 214,\n",
       " 897,\n",
       " 18634,\n",
       " 331,\n",
       " 2858,\n",
       " 6657,\n",
       " 18990,\n",
       " 18045,\n",
       " 24160,\n",
       " 6296,\n",
       " 9000,\n",
       " 516,\n",
       " 5556,\n",
       " 1339,\n",
       " 14420,\n",
       " 9765,\n",
       " 9342,\n",
       " 304,\n",
       " 1329,\n",
       " 550,\n",
       " 6903,\n",
       " 856,\n",
       " 21519,\n",
       " 10233,\n",
       " 2398,\n",
       " 12165,\n",
       " 2079,\n",
       " 1423,\n",
       " 20026,\n",
       " 3377,\n",
       " 1341,\n",
       " 2787,\n",
       " 7571,\n",
       " 4166,\n",
       " 26869,\n",
       " 12109,\n",
       " 14164,\n",
       " 1050,\n",
       " 50,\n",
       " 196,\n",
       " 364,\n",
       " 22107,\n",
       " 1812,\n",
       " 1999,\n",
       " 6794,\n",
       " 16849,\n",
       " 27547,\n",
       " 316,\n",
       " 6952,\n",
       " 29640,\n",
       " 2832,\n",
       " 3200,\n",
       " 6480,\n",
       " 3214,\n",
       " 3670,\n",
       " 8176,\n",
       " 1307,\n",
       " 13992,\n",
       " 625,\n",
       " 153,\n",
       " 1280,\n",
       " 17003,\n",
       " 15534,\n",
       " 3608,\n",
       " 4809,\n",
       " 9246,\n",
       " 2498,\n",
       " 8426,\n",
       " 7643,\n",
       " 10881,\n",
       " 9459,\n",
       " 6576,\n",
       " 3098,\n",
       " 1313,\n",
       " 3754,\n",
       " 4364,\n",
       " 68860,\n",
       " 282,\n",
       " 2219,\n",
       " 389,\n",
       " 9373,\n",
       " 4924,\n",
       " 142,\n",
       " 3216,\n",
       " 1414,\n",
       " 658,\n",
       " 3605,\n",
       " 428,\n",
       " 4242,\n",
       " 17943,\n",
       " 12898,\n",
       " 11673,\n",
       " 2060,\n",
       " 12425,\n",
       " 17676,\n",
       " 3014,\n",
       " 2525,\n",
       " 2930,\n",
       " 4972,\n",
       " 9247,\n",
       " 1137,\n",
       " 2618,\n",
       " 5440,\n",
       " 486,\n",
       " 33476,\n",
       " 469,\n",
       " 2307,\n",
       " 7154,\n",
       " 2805,\n",
       " 12609,\n",
       " 2121,\n",
       " 164,\n",
       " 4756,\n",
       " 27940,\n",
       " 2491,\n",
       " 23603,\n",
       " 18849,\n",
       " 5874,\n",
       " 8069,\n",
       " 5675,\n",
       " 7477,\n",
       " 9861,\n",
       " 1370,\n",
       " 8597,\n",
       " 2855,\n",
       " 635,\n",
       " 9241,\n",
       " 19634,\n",
       " 6201,\n",
       " 13889,\n",
       " 27898,\n",
       " 2642,\n",
       " 48146,\n",
       " 27696,\n",
       " 2481,\n",
       " 4184,\n",
       " 1507,\n",
       " 863,\n",
       " 6252,\n",
       " 11539,\n",
       " 8789,\n",
       " 15252,\n",
       " 1845,\n",
       " 1509,\n",
       " 5028,\n",
       " 1249,\n",
       " 1352,\n",
       " 821,\n",
       " 753,\n",
       " 92,\n",
       " 4403,\n",
       " 452,\n",
       " 7397,\n",
       " 5220,\n",
       " 1134,\n",
       " 3758,\n",
       " 5520,\n",
       " 2536,\n",
       " 18561,\n",
       " 4923,\n",
       " 5022,\n",
       " 1801,\n",
       " 18493,\n",
       " 6647,\n",
       " 6780,\n",
       " 7053,\n",
       " 2513,\n",
       " 10944,\n",
       " 2610,\n",
       " 2248,\n",
       " 14402,\n",
       " 10686,\n",
       " 20571,\n",
       " 2668,\n",
       " 79,\n",
       " 1363,\n",
       " 13326,\n",
       " 8638,\n",
       " 2935,\n",
       " 1008,\n",
       " 1470,\n",
       " 9464,\n",
       " 1305,\n",
       " 10032,\n",
       " 7370,\n",
       " 1130,\n",
       " 36538,\n",
       " 36200,\n",
       " 9316,\n",
       " 1461,\n",
       " 22387,\n",
       " 3050,\n",
       " 1015,\n",
       " 136,\n",
       " 38479,\n",
       " 289,\n",
       " 1716,\n",
       " 430,\n",
       " 2686,\n",
       " 1170,\n",
       " 143,\n",
       " 9287,\n",
       " 9933,\n",
       " 2486,\n",
       " 10825,\n",
       " 16528,\n",
       " 4758]"
      ]
     },
     "execution_count": 346,
     "metadata": {},
     "output_type": "execute_result"
    }
   ],
   "source": [
    "glove.tokenize(\" \".join(wordlist.words))"
   ]
  },
  {
   "cell_type": "code",
   "execution_count": 320,
   "id": "003eb92d-0b04-4e2b-adee-1a75061f1b44",
   "metadata": {},
   "outputs": [
    {
     "data": {
      "text/plain": [
       "array([[ 0.04656  ,  0.21318  , -0.0074364, ...,  0.0090611, -0.20989  ,\n",
       "         0.053913 ],\n",
       "       [-0.25539  , -0.25723  ,  0.13169  , ..., -0.2329   , -0.12226  ,\n",
       "         0.35499  ],\n",
       "       [-0.12559  ,  0.01363  ,  0.10306  , ..., -0.34224  , -0.022394 ,\n",
       "         0.13684  ],\n",
       "       ...,\n",
       "       [ 0.075713 , -0.040502 ,  0.18345  , ...,  0.21838  ,  0.30967  ,\n",
       "         0.43761  ],\n",
       "       [ 0.81451  , -0.36221  ,  0.31186  , ...,  0.075486 ,  0.28408  ,\n",
       "        -0.17559  ],\n",
       "       [ 0.429191 , -0.296897 ,  0.15011  , ...,  0.28975  ,  0.32618  ,\n",
       "        -0.0590532]], dtype=float32)"
      ]
     },
     "execution_count": 320,
     "metadata": {},
     "output_type": "execute_result"
    }
   ],
   "source": [
    "glove_vectors"
   ]
  }
 ],
 "metadata": {
  "kernelspec": {
   "display_name": "Python 3.6 (fn_env)",
   "language": "python",
   "name": "fn_env"
  },
  "language_info": {
   "codemirror_mode": {
    "name": "ipython",
    "version": 3
   },
   "file_extension": ".py",
   "mimetype": "text/x-python",
   "name": "python",
   "nbconvert_exporter": "python",
   "pygments_lexer": "ipython3",
   "version": "3.6.13"
  }
 },
 "nbformat": 4,
 "nbformat_minor": 5
}
