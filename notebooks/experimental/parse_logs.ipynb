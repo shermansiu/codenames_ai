{
 "cells": [
  {
   "cell_type": "code",
   "execution_count": 1,
   "id": "0c361ae6-fae7-4e03-b713-4689f955a122",
   "metadata": {},
   "outputs": [],
   "source": [
    "logs = \"\"\"---------------------------------\n",
    "| rollout/           |          |\n",
    "|    ep_len_mean     | 7.52     |\n",
    "|    ep_rew_mean     | -30.7    |\n",
    "| time/              |          |\n",
    "|    episodes        | 88       |\n",
    "|    fps             | 1        |\n",
    "|    time_elapsed    | 410      |\n",
    "|    total_timesteps | 662      |\n",
    "| train/             |          |\n",
    "|    actor_loss      | -205     |\n",
    "|    critic_loss     | 58.5     |\n",
    "|    ent_coef        | 0.292    |\n",
    "|    ent_coef_loss   | -75.5    |\n",
    "|    learning_rate   | 0.0003   |\n",
    "|    n_updates       | 4361     |\n",
    "---------------------------------\"\"\""
   ]
  },
  {
   "cell_type": "code",
   "execution_count": 2,
   "id": "34c15594-fc8c-4dc7-bc3d-958e3f87ac32",
   "metadata": {},
   "outputs": [],
   "source": [
    "def is_valid_log(log):\n",
    "    return log.startswith(\"\"\"---------------------------------\n",
    "| \"\"\")"
   ]
  },
  {
   "cell_type": "code",
   "execution_count": 22,
   "id": "bb19a9fa-a11a-4473-8aec-605cc220da18",
   "metadata": {},
   "outputs": [],
   "source": [
    "def parse_log(log):\n",
    "    assert is_valid_log(log)\n",
    "    assert log[-1] == \"-\"\n",
    "    curr_section = None\n",
    "    table = dict()\n",
    "    for q in log.splitlines()[1:-1]:\n",
    "        key, value = q.split(\"|\")[1:-1]\n",
    "        key = key.strip().rstrip(\"/\")\n",
    "        value = value.strip()\n",
    "        if not value:\n",
    "            curr_section = table[key] = dict()\n",
    "        else:\n",
    "            curr_section[key] = eval(value)\n",
    "    return table"
   ]
  },
  {
   "cell_type": "code",
   "execution_count": 23,
   "id": "e2e1e1cd-f3ca-423e-9a59-f698eb91f7ab",
   "metadata": {},
   "outputs": [
    {
     "data": {
      "text/plain": [
       "{'rollout': {'ep_len_mean': 7.52, 'ep_rew_mean': -30.7},\n",
       " 'time': {'episodes': 88,\n",
       "  'fps': 1,\n",
       "  'time_elapsed': 410,\n",
       "  'total_timesteps': 662},\n",
       " 'train': {'actor_loss': -205,\n",
       "  'critic_loss': 58.5,\n",
       "  'ent_coef': 0.292,\n",
       "  'ent_coef_loss': -75.5,\n",
       "  'learning_rate': 0.0003,\n",
       "  'n_updates': 4361}}"
      ]
     },
     "execution_count": 23,
     "metadata": {},
     "output_type": "execute_result"
    }
   ],
   "source": [
    "parse_log(logs)"
   ]
  }
 ],
 "metadata": {
  "kernelspec": {
   "display_name": "Python 3.8 (fn_env)",
   "language": "python",
   "name": "fn_env"
  },
  "language_info": {
   "codemirror_mode": {
    "name": "ipython",
    "version": 3
   },
   "file_extension": ".py",
   "mimetype": "text/x-python",
   "name": "python",
   "nbconvert_exporter": "python",
   "pygments_lexer": "ipython3",
   "version": "3.8.13"
  }
 },
 "nbformat": 4,
 "nbformat_minor": 5
}
