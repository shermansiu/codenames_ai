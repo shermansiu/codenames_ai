{
 "cells": [
  {
   "cell_type": "code",
   "execution_count": 1,
   "id": "613bfef2-8377-48c2-9336-0b25bb631175",
   "metadata": {},
   "outputs": [],
   "source": [
    "import flyvec\n",
    "import pandas as pd\n",
    "import numpy as np\n",
    "import seaborn as sns"
   ]
  },
  {
   "cell_type": "code",
   "execution_count": null,
   "id": "8325f253-c862-4599-8350-1ee694cf4ad0",
   "metadata": {},
   "outputs": [],
   "source": [
    "x = flyvec.FlyVec.load()"
   ]
  },
  {
   "cell_type": "code",
   "execution_count": 2,
   "id": "2222e833-e9ea-4bf3-ae64-ecab50bc4445",
   "metadata": {},
   "outputs": [
    {
     "name": "stderr",
     "output_type": "stream",
     "text": [
      "  0% |                                                                                      |\r"
     ]
    },
    {
     "name": "stdout",
     "output_type": "stream",
     "text": [
      "Downloading flyvec data:\n"
     ]
    },
    {
     "name": "stderr",
     "output_type": "stream",
     "text": [
      "100% |######################################################################################|\n"
     ]
    }
   ],
   "source": [
    "# x = flyvec.FlyVec.load(force_redownload=True)"
   ]
  },
  {
   "cell_type": "code",
   "execution_count": 15,
   "id": "dbc2ae17-03f5-4575-b559-24ae43f78032",
   "metadata": {
    "collapsed": true,
    "jupyter": {
     "outputs_hidden": true
    },
    "tags": []
   },
   "outputs": [
    {
     "data": {
      "text/plain": [
       "\u001b[0;31mSignature:\u001b[0m\n",
       "\u001b[0mflyvec\u001b[0m\u001b[0;34m.\u001b[0m\u001b[0mFlyVec\u001b[0m\u001b[0;34m.\u001b[0m\u001b[0msimple_word_vectors\u001b[0m\u001b[0;34m(\u001b[0m\u001b[0;34m\u001b[0m\n",
       "\u001b[0;34m\u001b[0m    \u001b[0mself\u001b[0m\u001b[0;34m,\u001b[0m\u001b[0;34m\u001b[0m\n",
       "\u001b[0;34m\u001b[0m    \u001b[0mk\u001b[0m\u001b[0;34m:\u001b[0m \u001b[0mint\u001b[0m \u001b[0;34m=\u001b[0m \u001b[0;36m50\u001b[0m\u001b[0;34m,\u001b[0m\u001b[0;34m\u001b[0m\n",
       "\u001b[0;34m\u001b[0m    \u001b[0mexclude_stop_words\u001b[0m\u001b[0;34m=\u001b[0m\u001b[0;32mFalse\u001b[0m\u001b[0;34m,\u001b[0m\u001b[0;34m\u001b[0m\n",
       "\u001b[0;34m\u001b[0m    \u001b[0moutput_list\u001b[0m\u001b[0;34m=\u001b[0m\u001b[0;32mFalse\u001b[0m\u001b[0;34m,\u001b[0m\u001b[0;34m\u001b[0m\n",
       "\u001b[0;34m\u001b[0m\u001b[0;34m)\u001b[0m \u001b[0;34m->\u001b[0m \u001b[0mDict\u001b[0m\u001b[0;34m[\u001b[0m\u001b[0mstr\u001b[0m\u001b[0;34m,\u001b[0m \u001b[0;34m<\u001b[0m\u001b[0mbuilt\u001b[0m\u001b[0;34m-\u001b[0m\u001b[0;32min\u001b[0m \u001b[0mfunction\u001b[0m \u001b[0marray\u001b[0m\u001b[0;34m>\u001b[0m\u001b[0;34m]\u001b[0m\u001b[0;34m\u001b[0m\u001b[0;34m\u001b[0m\u001b[0m\n",
       "\u001b[0;31mSource:\u001b[0m   \n",
       "    \u001b[0;32mdef\u001b[0m \u001b[0msimple_word_vectors\u001b[0m\u001b[0;34m(\u001b[0m\u001b[0mself\u001b[0m\u001b[0;34m,\u001b[0m \u001b[0mk\u001b[0m\u001b[0;34m:\u001b[0m\u001b[0mint\u001b[0m\u001b[0;34m=\u001b[0m\u001b[0;36m50\u001b[0m\u001b[0;34m,\u001b[0m \u001b[0mexclude_stop_words\u001b[0m\u001b[0;34m=\u001b[0m\u001b[0;32mFalse\u001b[0m\u001b[0;34m,\u001b[0m \u001b[0moutput_list\u001b[0m\u001b[0;34m=\u001b[0m\u001b[0;32mFalse\u001b[0m\u001b[0;34m)\u001b[0m\u001b[0;34m->\u001b[0m\u001b[0mDict\u001b[0m\u001b[0;34m[\u001b[0m\u001b[0mstr\u001b[0m\u001b[0;34m,\u001b[0m \u001b[0mnp\u001b[0m\u001b[0;34m.\u001b[0m\u001b[0marray\u001b[0m\u001b[0;34m]\u001b[0m\u001b[0;34m:\u001b[0m\u001b[0;34m\u001b[0m\n",
       "\u001b[0;34m\u001b[0m        \u001b[0;34m\"\"\"Collect all the context-independent word embeddings for an arbitrary `k` hash length\u001b[0m\n",
       "\u001b[0;34m\u001b[0m\n",
       "\u001b[0;34m        Args:\u001b[0m\n",
       "\u001b[0;34m            k: Desired hash length\u001b[0m\n",
       "\u001b[0;34m            exclude_stop_words: If True, exclude from the output dictionary the word vectors for stop words in the vocab\u001b[0m\n",
       "\u001b[0;34m\u001b[0m\n",
       "\u001b[0;34m        Returns:\u001b[0m\n",
       "\u001b[0;34m            Dictionary of token -> word embedding\u001b[0m\n",
       "\u001b[0;34m        \"\"\"\u001b[0m\u001b[0;34m\u001b[0m\n",
       "\u001b[0;34m\u001b[0m\u001b[0;34m\u001b[0m\n",
       "\u001b[0;34m\u001b[0m        \u001b[0;32mdef\u001b[0m \u001b[0mparse_vector\u001b[0m\u001b[0;34m(\u001b[0m\u001b[0ma\u001b[0m\u001b[0;34m)\u001b[0m\u001b[0;34m:\u001b[0m\u001b[0;34m\u001b[0m\n",
       "\u001b[0;34m\u001b[0m            \u001b[0;34m\"\"\"Turn into list or no?\"\"\"\u001b[0m\u001b[0;34m\u001b[0m\n",
       "\u001b[0;34m\u001b[0m            \u001b[0;32mif\u001b[0m \u001b[0moutput_list\u001b[0m\u001b[0;34m:\u001b[0m \u001b[0;32mreturn\u001b[0m \u001b[0mlist\u001b[0m\u001b[0;34m(\u001b[0m\u001b[0ma\u001b[0m\u001b[0;34m)\u001b[0m\u001b[0;34m\u001b[0m\n",
       "\u001b[0;34m\u001b[0m            \u001b[0;32mreturn\u001b[0m \u001b[0ma\u001b[0m\u001b[0;34m\u001b[0m\n",
       "\u001b[0;34m\u001b[0m\u001b[0;34m\u001b[0m\n",
       "\u001b[0;34m\u001b[0m        \u001b[0mout\u001b[0m \u001b[0;34m=\u001b[0m \u001b[0;34m{\u001b[0m\u001b[0;34m}\u001b[0m\u001b[0;34m\u001b[0m\n",
       "\u001b[0;34m\u001b[0m        \u001b[0;32mfor\u001b[0m \u001b[0mt\u001b[0m \u001b[0;32min\u001b[0m \u001b[0mself\u001b[0m\u001b[0;34m.\u001b[0m\u001b[0mtoken_vocab\u001b[0m\u001b[0;34m:\u001b[0m\u001b[0;34m\u001b[0m\n",
       "\u001b[0;34m\u001b[0m            \u001b[0;32mif\u001b[0m \u001b[0mexclude_stop_words\u001b[0m \u001b[0;32mand\u001b[0m \u001b[0;34m(\u001b[0m\u001b[0mt\u001b[0m \u001b[0;32min\u001b[0m \u001b[0mself\u001b[0m\u001b[0;34m.\u001b[0m\u001b[0mstop_words\u001b[0m\u001b[0;34m)\u001b[0m\u001b[0;34m:\u001b[0m\u001b[0;34m\u001b[0m\n",
       "\u001b[0;34m\u001b[0m                \u001b[0;32mcontinue\u001b[0m\u001b[0;34m\u001b[0m\n",
       "\u001b[0;34m\u001b[0m            \u001b[0;32mtry\u001b[0m\u001b[0;34m:\u001b[0m\u001b[0;34m\u001b[0m\n",
       "\u001b[0;34m\u001b[0m                \u001b[0mout\u001b[0m\u001b[0;34m[\u001b[0m\u001b[0mt\u001b[0m\u001b[0;34m]\u001b[0m \u001b[0;34m=\u001b[0m \u001b[0mparse_vector\u001b[0m\u001b[0;34m(\u001b[0m\u001b[0mself\u001b[0m\u001b[0;34m.\u001b[0m\u001b[0mget_sparse_embedding\u001b[0m\u001b[0;34m(\u001b[0m\u001b[0mt\u001b[0m\u001b[0;34m,\u001b[0m \u001b[0mhash_length\u001b[0m\u001b[0;34m=\u001b[0m\u001b[0mk\u001b[0m\u001b[0;34m)\u001b[0m\u001b[0;34m[\u001b[0m\u001b[0;34m'embedding'\u001b[0m\u001b[0;34m]\u001b[0m\u001b[0;34m)\u001b[0m\u001b[0;34m\u001b[0m\n",
       "\u001b[0;34m\u001b[0m            \u001b[0;32mexcept\u001b[0m \u001b[0mException\u001b[0m \u001b[0;32mas\u001b[0m \u001b[0me\u001b[0m\u001b[0;34m:\u001b[0m\u001b[0;34m\u001b[0m\n",
       "\u001b[0;34m\u001b[0m                \u001b[0mprint\u001b[0m\u001b[0;34m(\u001b[0m\u001b[0;34mf\"Invalid token: `{t}`. Continuing.\\nOriginal Error:\\n\\n {e}\"\u001b[0m\u001b[0;34m)\u001b[0m\u001b[0;34m\u001b[0m\n",
       "\u001b[0;34m\u001b[0m        \u001b[0;32mreturn\u001b[0m \u001b[0mout\u001b[0m\u001b[0;34m\u001b[0m\u001b[0;34m\u001b[0m\u001b[0m\n",
       "\u001b[0;31mFile:\u001b[0m      ~/miniconda3/envs/merlin_env/lib/python3.8/site-packages/flyvec/core.py\n",
       "\u001b[0;31mType:\u001b[0m      function\n"
      ]
     },
     "metadata": {},
     "output_type": "display_data"
    }
   ],
   "source": [
    "??flyvec.FlyVec.simple_word_vectors"
   ]
  },
  {
   "cell_type": "code",
   "execution_count": 3,
   "id": "e4d901c3-4009-43d8-bc54-83677682a9f1",
   "metadata": {
    "collapsed": true,
    "jupyter": {
     "outputs_hidden": true
    },
    "tags": []
   },
   "outputs": [
    {
     "name": "stdout",
     "output_type": "stream",
     "text": [
      "Invalid token: `–`. Continuing.\n",
      "Original Error:\n",
      "\n",
      " list index out of range\n",
      "Invalid token: `…`. Continuing.\n",
      "Original Error:\n",
      "\n",
      " list index out of range\n",
      "Invalid token: `—`. Continuing.\n",
      "Original Error:\n",
      "\n",
      " list index out of range\n",
      "Invalid token: `•`. Continuing.\n",
      "Original Error:\n",
      "\n",
      " list index out of range\n",
      "Invalid token: `”`. Continuing.\n",
      "Original Error:\n",
      "\n",
      " list index out of range\n",
      "Invalid token: ``. Continuing.\n",
      "Original Error:\n",
      "\n",
      " list index out of range\n",
      "Invalid token: `​`. Continuing.\n",
      "Original Error:\n",
      "\n",
      " list index out of range\n",
      "Invalid token: `×`. Continuing.\n",
      "Original Error:\n",
      "\n",
      " list index out of range\n",
      "Invalid token: `±`. Continuing.\n",
      "Original Error:\n",
      "\n",
      " list index out of range\n",
      "Invalid token: `−`. Continuing.\n",
      "Original Error:\n",
      "\n",
      " list index out of range\n",
      "Invalid token: `»`. Continuing.\n",
      "Original Error:\n",
      "\n",
      " list index out of range\n",
      "Invalid token: `«`. Continuing.\n",
      "Original Error:\n",
      "\n",
      " list index out of range\n",
      "Invalid token: `…”`. Continuing.\n",
      "Original Error:\n",
      "\n",
      " list index out of range\n",
      "Invalid token: `©`. Continuing.\n",
      "Original Error:\n",
      "\n",
      " list index out of range\n",
      "Invalid token: `→`. Continuing.\n",
      "Original Error:\n",
      "\n",
      " list index out of range\n",
      "Invalid token: `à`. Continuing.\n",
      "Original Error:\n",
      "\n",
      " list index out of range\n",
      "Invalid token: `🙂`. Continuing.\n",
      "Original Error:\n",
      "\n",
      " list index out of range\n",
      "Invalid token: `“`. Continuing.\n",
      "Original Error:\n",
      "\n",
      " list index out of range\n",
      "Invalid token: ``. Continuing.\n",
      "Original Error:\n",
      "\n",
      " list index out of range\n",
      "Invalid token: `на`. Continuing.\n",
      "Original Error:\n",
      "\n",
      " list index out of range\n",
      "Invalid token: `и`. Continuing.\n",
      "Original Error:\n",
      "\n",
      " list index out of range\n",
      "Invalid token: `в`. Continuing.\n",
      "Original Error:\n",
      "\n",
      " list index out of range\n",
      "Invalid token: `―`. Continuing.\n",
      "Original Error:\n",
      "\n",
      " list index out of range\n",
      "Invalid token: `●`. Continuing.\n",
      "Original Error:\n",
      "\n",
      " list index out of range\n",
      "Invalid token: `·`. Continuing.\n",
      "Original Error:\n",
      "\n",
      " list index out of range\n",
      "Invalid token: ``. Continuing.\n",
      "Original Error:\n",
      "\n",
      " list index out of range\n",
      "Invalid token: `½`. Continuing.\n",
      "Original Error:\n",
      "\n",
      " list index out of range\n",
      "Invalid token: `è`. Continuing.\n",
      "Original Error:\n",
      "\n",
      " list index out of range\n",
      "Invalid token: `§`. Continuing.\n",
      "Original Error:\n",
      "\n",
      " list index out of range\n"
     ]
    }
   ],
   "source": [
    "# vects = x.simple_word_vectors()"
   ]
  },
  {
   "cell_type": "code",
   "execution_count": 5,
   "id": "315b2596-a167-4646-8f03-6deea531ab9b",
   "metadata": {},
   "outputs": [],
   "source": [
    "import math"
   ]
  },
  {
   "cell_type": "code",
   "execution_count": 47,
   "id": "7d1fbc7b-cbf9-4ba7-8066-caaa1c13ed93",
   "metadata": {},
   "outputs": [
    {
     "data": {
      "text/plain": [
       "'/home/sherman/.cache/flyvec/data/tokenizer/gensim1_patched.dict'"
      ]
     },
     "execution_count": 47,
     "metadata": {},
     "output_type": "execute_result"
    }
   ],
   "source": [
    "x.tokenizer_file"
   ]
  },
  {
   "cell_type": "code",
   "execution_count": 42,
   "id": "88fe6336-9d9b-4a58-ac39-3820e12cad09",
   "metadata": {},
   "outputs": [
    {
     "data": {
      "text/plain": [
       "213.3719762621861"
      ]
     },
     "execution_count": 42,
     "metadata": {},
     "output_type": "execute_result"
    }
   ],
   "source": [
    "math.log2(math.comb(400, 50))"
   ]
  },
  {
   "cell_type": "code",
   "execution_count": 39,
   "id": "4ef52500-950f-4552-adeb-a3febe3f1242",
   "metadata": {},
   "outputs": [
    {
     "data": {
      "text/plain": [
       "2582249878086908589655919172003011874329705792829223512830659356540647622016841194629645353280137831435903171972747493376"
      ]
     },
     "execution_count": 39,
     "metadata": {},
     "output_type": "execute_result"
    }
   ],
   "source": [
    "2**400"
   ]
  },
  {
   "cell_type": "code",
   "execution_count": 33,
   "id": "315ebd2a-0a7a-4a10-8a07-e131f22e491f",
   "metadata": {
    "collapsed": true,
    "jupyter": {
     "outputs_hidden": true
    },
    "tags": []
   },
   "outputs": [
    {
     "data": {
      "text/plain": [
       "[('nsa’s', 0),\n",
       " ('toronto’s', 0),\n",
       " ('pokémon', 0),\n",
       " ('françois', 0),\n",
       " ('anyone’s', 0),\n",
       " ('ryan’s', 0),\n",
       " ('naïve', 0),\n",
       " ('life’s', 0),\n",
       " ('o’malley', 0),\n",
       " ('body’s', 0),\n",
       " ('society’s', 0),\n",
       " ('gop’s', 0),\n",
       " ('mexico’s', 0),\n",
       " ('military’s', 0),\n",
       " ('africa’s', 0),\n",
       " ('community’s', 0),\n",
       " ('café', 0),\n",
       " ('ireland’s', 0),\n",
       " ('could’ve', 0),\n",
       " ('cliché', 0),\n",
       " ('lee’s', 0),\n",
       " ('seattle’s', 0),\n",
       " ('cia’s', 0),\n",
       " ('media’s', 0),\n",
       " ('study’s', 0),\n",
       " ('o’clock', 0),\n",
       " ('assad’s', 0),\n",
       " ('o’neill', 0),\n",
       " ('comey’s', 0),\n",
       " ('nbc’s', 0),\n",
       " ('everybody’s', 0),\n",
       " ('harper’s', 0),\n",
       " ('florida’s', 0),\n",
       " ('that’ll', 0),\n",
       " ('josé', 0),\n",
       " ('ford’s', 0),\n",
       " ('disney’s', 0),\n",
       " ('cruz’s', 0),\n",
       " ('niño', 0),\n",
       " ('yesterday’s', 0),\n",
       " ('hillary’s', 0),\n",
       " ('marvel’s', 0),\n",
       " ('o’connor', 0),\n",
       " ('<UNK>', 0),\n",
       " ('<NUM>', 0)]"
      ]
     },
     "execution_count": 33,
     "metadata": {},
     "output_type": "execute_result"
    }
   ],
   "source": [
    "[(k, v.sum()) for k, v in vects.items() if v.sum() != 50]"
   ]
  },
  {
   "cell_type": "code",
   "execution_count": 25,
   "id": "f13aa903-0752-43cb-9123-bec65599a03f",
   "metadata": {},
   "outputs": [
    {
     "data": {
      "text/plain": [
       "<AxesSubplot:>"
      ]
     },
     "execution_count": 25,
     "metadata": {},
     "output_type": "execute_result"
    },
    {
     "data": {
      "image/png": "[encoded data removed]",
      "text/plain": [
       "<Figure size 432x288 with 1 Axes>"
      ]
     },
     "metadata": {
      "needs_background": "light"
     },
     "output_type": "display_data"
    }
   ],
   "source": [
    "pd.Series(vects.keys()).apply(len).hist()"
   ]
  },
  {
   "cell_type": "code",
   "execution_count": 49,
   "id": "33e8bdd7-f146-4256-ab07-c75d826424ce",
   "metadata": {},
   "outputs": [
    {
     "data": {
      "text/plain": [
       "['hello', 'world', 'for', 'all']"
      ]
     },
     "execution_count": 49,
     "metadata": {},
     "output_type": "execute_result"
    }
   ],
   "source": [
    "x.tokenizer.tokenize(\"hello world for all\")"
   ]
  },
  {
   "cell_type": "code",
   "execution_count": null,
   "id": "161403f3-1e36-4502-b3ab-c062f78e58fa",
   "metadata": {},
   "outputs": [],
   "source": []
  },
  {
   "cell_type": "code",
   "execution_count": 6,
   "id": "944ab09e-ad6a-406e-8f4c-f86af071f99a",
   "metadata": {},
   "outputs": [],
   "source": [
    "def get_dense_context_word_embedding(phrase):\n",
    "    self = x\n",
    "    if self.is_unknown_token(phrase): return self.unknown_embedding_info\n",
    "\n",
    "    tokens = self.tokenizer.tokenize(phrase)\n",
    "    assert len(tokens) % 2\n",
    "    tok_ids = [self.tokenizer.token2id(token) for token in tokens]\n",
    "    target_index = len(tokens)//2\n",
    "    tok_ids[target_index] += self.n_vocab\n",
    "    activation_scores = self.synapses[:, tok_ids].sum(1)\n",
    "    return activation_scores\n",
    "    #     activation_scores = self.synapses[:, self.n_vocab + tok_id] # Target word embedding is stored in second compartment of matrix\n"
   ]
  },
  {
   "cell_type": "code",
   "execution_count": 7,
   "id": "ec101c17-95c5-4493-8650-e8249ea66de6",
   "metadata": {},
   "outputs": [
    {
     "data": {
      "text/plain": [
       "0"
      ]
     },
     "execution_count": 7,
     "metadata": {},
     "output_type": "execute_result"
    }
   ],
   "source": [
    "x.tokenizer.token2id(\"wok\")"
   ]
  },
  {
   "cell_type": "code",
   "execution_count": 8,
   "id": "6108ea89-dc81-4207-a2e3-9f14bf649849",
   "metadata": {},
   "outputs": [],
   "source": [
    "def get_dense_context_word_embedding_v2(phrase):\n",
    "    self = x\n",
    "    if self.is_unknown_token(phrase): return self.unknown_embedding_info\n",
    "\n",
    "    tokens = self.tokenizer.tokenize(phrase)\n",
    "    tok_ids = [self.tokenizer.token2id(token)+self.n_vocab for token in tokens if token not in self.stop_words]\n",
    "    activation_scores = self.synapses[:, tok_ids].sum(1)\n",
    "    return activation_scores\n",
    "    #     activation_scores = self.synapses[:, self.n_vocab + tok_id] # Target word embedding is stored in second compartment of matrix\n"
   ]
  },
  {
   "cell_type": "code",
   "execution_count": 9,
   "id": "52d77498-ddc3-4bd3-829d-d85da87ce3fa",
   "metadata": {},
   "outputs": [],
   "source": [
    "def get_dense_context_word_embeddings(phrase):\n",
    "    self = x\n",
    "    if self.is_unknown_token(phrase): return self.unknown_embedding_info\n",
    "\n",
    "    tokens = self.tokenizer.tokenize(phrase)\n",
    "    assert len(tokens) % 2\n",
    "    tok_ids = [self.tokenizer.token2id(token) for token in tokens]\n",
    "    target_index = len(tokens)//2\n",
    "    tok_ids[target_index] += self.n_vocab\n",
    "    activation_scores = self.synapses[:, tok_ids]\n",
    "    return activation_scores\n",
    "    #     activation_scores = self.synapses[:, self.n_vocab + tok_id] # Target word embedding is stored in second compartment of matrix\n"
   ]
  },
  {
   "cell_type": "code",
   "execution_count": 10,
   "id": "09b24e9c-8428-4c36-b07c-3e8ab313ae01",
   "metadata": {},
   "outputs": [],
   "source": [
    "def sparsify(embedding, hash_length=50):\n",
    "    i_sorted = np.argsort(-embedding)\n",
    "    embedding_sort = embedding[i_sorted]\n",
    "    thr = (embedding_sort[hash_length - 1] + embedding_sort[hash_length]) / 2.0\n",
    "    binary = (embedding > thr).astype(np.int8)\n",
    "    return binary"
   ]
  },
  {
   "cell_type": "code",
   "execution_count": 11,
   "id": "46dd2e7b-f1c6-40d4-831b-dd724c8bf0e4",
   "metadata": {},
   "outputs": [],
   "source": [
    "def batch_sparsify(embeddings, hash_length=50):\n",
    "    i_sorted = np.argsort(-embeddings, 0)  # (dim, batch_size)\n",
    "    embeddings_sort = np.take_along_axis(embeddings, i_sorted, 0)  # (dim, batch_size)\n",
    "    thr = (embeddings_sort[hash_length - 1, :] + embeddings_sort[hash_length, :]) / 2.0  # (batch_size)\n",
    "    binary = (embeddings > thr).astype(np.int8)\n",
    "    return binary"
   ]
  },
  {
   "cell_type": "code",
   "execution_count": 12,
   "id": "51223c05-2dc5-4f85-a2e8-6865b0db30c7",
   "metadata": {},
   "outputs": [],
   "source": [
    "def get_all_target_embeddings(hash_length=50):\n",
    "    embeddings = x.synapses[:, x.n_vocab:]  # (dim, batch_size)\n",
    "    return batch_sparsify(embeddings, hash_length)"
   ]
  },
  {
   "cell_type": "code",
   "execution_count": 13,
   "id": "5fe0bbbe-1825-4a91-adbe-550954d7238f",
   "metadata": {
    "jupyter": {
     "source_hidden": true
    },
    "tags": []
   },
   "outputs": [],
   "source": [
    "words = \"\"\"AFRICA\n",
    "AGENT\n",
    "AIR\n",
    "ALIEN\n",
    "ALPS\n",
    "AMAZON\n",
    "AMBULANCE\n",
    "AMERICA\n",
    "ANGEL\n",
    "ANTARCTICA\n",
    "APPLE\n",
    "ARM\n",
    "ATLANTIS\n",
    "AUSTRALIA\n",
    "AZTEC\n",
    "BACK\n",
    "BALL\n",
    "BAND\n",
    "BANK\n",
    "BAR\n",
    "BARK\n",
    "BAT\n",
    "BATTERY\n",
    "BEACH\n",
    "BEAR\n",
    "BEAT\n",
    "BED\n",
    "BEIJING\n",
    "BELL\n",
    "BELT\n",
    "BERLIN\n",
    "BERMUDA\n",
    "BERRY\n",
    "BILL\n",
    "BLOCK\n",
    "BOARD\n",
    "BOLT\n",
    "BOMB\n",
    "BOND\n",
    "BOOM\n",
    "BOOT\n",
    "BOTTLE\n",
    "BOW\n",
    "BOX\n",
    "BRIDGE\n",
    "BRUSH\n",
    "BUCK\n",
    "BUFFALO\n",
    "BUG\n",
    "BUGLE\n",
    "BUTTON\n",
    "CALF\n",
    "CANADA\n",
    "CAP\n",
    "CAPITAL\n",
    "CAR\n",
    "CARD\n",
    "CARROT\n",
    "CASINO\n",
    "CAST\n",
    "CAT\n",
    "CELL\n",
    "CENTAUR\n",
    "CENTER\n",
    "CHAIR\n",
    "CHANGE\n",
    "CHARGE\n",
    "CHECK\n",
    "CHEST\n",
    "CHICK\n",
    "CHINA\n",
    "CHOCOLATE\n",
    "CHURCH\n",
    "CIRCLE\n",
    "CLIFF\n",
    "CLOAK\n",
    "CLUB\n",
    "CODE\n",
    "COLD\n",
    "COMIC\n",
    "COMPOUND\n",
    "CONCERT\n",
    "CONDUCTOR\n",
    "CONTRACT\n",
    "COOK\n",
    "COPPER\n",
    "COTTON\n",
    "COURT\n",
    "COVER\n",
    "CRANE\n",
    "CRASH\n",
    "CRICKET\n",
    "CROSS\n",
    "CROWN\n",
    "CYCLE\n",
    "CZECH\n",
    "DANCE\n",
    "DATE\n",
    "DAY\n",
    "DEATH\n",
    "DECK\n",
    "DEGREE\n",
    "DIAMOND\n",
    "DICE\n",
    "DINOSAUR\n",
    "DISEASE\n",
    "DOCTOR\n",
    "DOG\n",
    "DRAFT\n",
    "DRAGON\n",
    "DRESS\n",
    "DRILL\n",
    "DROP\n",
    "DUCK\n",
    "DWARF\n",
    "EAGLE\n",
    "EGYPT\n",
    "EMBASSY\n",
    "ENGINE\n",
    "ENGLAND\n",
    "EUROPE\n",
    "EYE\n",
    "FACE\n",
    "FAIR\n",
    "FALL\n",
    "FAN\n",
    "FENCE\n",
    "FIELD\n",
    "FIGHTER\n",
    "FIGURE\n",
    "FILE\n",
    "FILM\n",
    "FIRE\n",
    "FISH\n",
    "FLUTE\n",
    "FLY\n",
    "FOOT\n",
    "FORCE\n",
    "FOREST\n",
    "FORK\n",
    "FRANCE\n",
    "GAME\n",
    "GAS\n",
    "GENIUS\n",
    "GERMANY\n",
    "GHOST\n",
    "GIANT\n",
    "GLASS\n",
    "GLOVE\n",
    "GOLD\n",
    "GRACE\n",
    "GRASS\n",
    "GREECE\n",
    "GREEN\n",
    "GROUND\n",
    "HAM\n",
    "HAND\n",
    "HAWK\n",
    "HEAD\n",
    "HEART\n",
    "HELICOPTER\n",
    "HIMALAYAS\n",
    "HOLE\n",
    "HOLLYWOOD\n",
    "HONEY\n",
    "HOOD\n",
    "HOOK\n",
    "HORN\n",
    "HORSE\n",
    "HORSESHOE\n",
    "HOSPITAL\n",
    "HOTEL\n",
    "ICE\n",
    "ICE CREAM\n",
    "INDIA\n",
    "IRON\n",
    "IVORY\n",
    "JACK\n",
    "JAM\n",
    "JET\n",
    "JUPITER\n",
    "KANGAROO\n",
    "KETCHUP\n",
    "KEY\n",
    "KID\n",
    "KING\n",
    "KIWI\n",
    "KNIFE\n",
    "KNIGHT\n",
    "LAB\n",
    "LAP\n",
    "LASER\n",
    "LAWYER\n",
    "LEAD\n",
    "LEMON\n",
    "LEPRECHAUN\n",
    "LIFE\n",
    "LIGHT\n",
    "LIMOUSINE\n",
    "LINE\n",
    "LINK\n",
    "LION\n",
    "LITTER\n",
    "LOCH NESS\n",
    "LOCK\n",
    "LOG\n",
    "LONDON\n",
    "LUCK\n",
    "MAIL\n",
    "MAMMOTH\n",
    "MAPLE\n",
    "MARBLE\n",
    "MARCH\n",
    "MASS\n",
    "MATCH\n",
    "MERCURY\n",
    "MEXICO\n",
    "MICROSCOPE\n",
    "MILLIONAIRE\n",
    "MINE\n",
    "MINT\n",
    "MISSILE\n",
    "MODEL\n",
    "MOLE\n",
    "MOON\n",
    "MOSCOW\n",
    "MOUNT\n",
    "MOUSE\n",
    "MOUTH\n",
    "MUG\n",
    "NAIL\n",
    "NEEDLE\n",
    "NET\n",
    "NEW YORK\n",
    "NIGHT\n",
    "NINJA\n",
    "NOTE\n",
    "NOVEL\n",
    "NURSE\n",
    "NUT\n",
    "OCTOPUS\n",
    "OIL\n",
    "OLIVE\n",
    "OLYMPUS\n",
    "OPERA\n",
    "ORANGE\n",
    "ORGAN\n",
    "PALM\n",
    "PAN\n",
    "PANTS\n",
    "PAPER\n",
    "PARACHUTE\n",
    "PARK\n",
    "PART\n",
    "PASS\n",
    "PASTE\n",
    "PENGUIN\n",
    "PHOENIX\n",
    "PIANO\n",
    "PIE\n",
    "PILOT\n",
    "PIN\n",
    "PIPE\n",
    "PIRATE\n",
    "PISTOL\n",
    "PIT\n",
    "PITCH\n",
    "PLANE\n",
    "PLASTIC\n",
    "PLATE\n",
    "PLATYPUS\n",
    "PLAY\n",
    "PLOT\n",
    "POINT\n",
    "POISON\n",
    "POLE\n",
    "POLICE\n",
    "POOL\n",
    "PORT\n",
    "POST\n",
    "POUND\n",
    "PRESS\n",
    "PRINCESS\n",
    "PUMPKIN\n",
    "PUPIL\n",
    "PYRAMID\n",
    "QUEEN\n",
    "RABBIT\n",
    "RACKET\n",
    "RAY\n",
    "REVOLUTION\n",
    "RING\n",
    "ROBIN\n",
    "ROBOT\n",
    "ROCK\n",
    "ROME\n",
    "ROOT\n",
    "ROSE\n",
    "ROULETTE\n",
    "ROUND\n",
    "ROW\n",
    "RULER\n",
    "SATELLITE\n",
    "SATURN\n",
    "SCALE\n",
    "SCHOOL\n",
    "SCIENTIST\n",
    "SCORPION\n",
    "SCREEN\n",
    "SCUBA DIVER\n",
    "SEAL\n",
    "SERVER\n",
    "SHADOW\n",
    "SHAKESPEARE\n",
    "SHARK\n",
    "SHIP\n",
    "SHOE\n",
    "SHOP\n",
    "SHOT\n",
    "SINK\n",
    "SKYSCRAPER\n",
    "SLIP\n",
    "SLUG\n",
    "SMUGGLER\n",
    "SNOW\n",
    "SNOWMAN\n",
    "SOCK\n",
    "SOLDIER\n",
    "SOUL\n",
    "SOUND\n",
    "SPACE\n",
    "SPELL\n",
    "SPIDER\n",
    "SPIKE\n",
    "SPINE\n",
    "SPOT\n",
    "SPRING\n",
    "SPY\n",
    "SQUARE\n",
    "STADIUM\n",
    "STAFF\n",
    "STAR\n",
    "STATE\n",
    "STICK\n",
    "STOCK\n",
    "STRAW\n",
    "STREAM\n",
    "STRIKE\n",
    "STRING\n",
    "SUB\n",
    "SUIT\n",
    "SUPERHERO\n",
    "SWING\n",
    "SWITCH\n",
    "TABLE\n",
    "TABLET\n",
    "TAG\n",
    "TAIL\n",
    "TAP\n",
    "TEACHER\n",
    "TELESCOPE\n",
    "TEMPLE\n",
    "THEATER\n",
    "THIEF\n",
    "THUMB\n",
    "TICK\n",
    "TIE\n",
    "TIME\n",
    "TOKYO\n",
    "TOOTH\n",
    "TORCH\n",
    "TOWER\n",
    "TRACK\n",
    "TRAIN\n",
    "TRIANGLE\n",
    "TRIP\n",
    "TRUNK\n",
    "TUBE\n",
    "TURKEY\n",
    "UNDERTAKER\n",
    "UNICORN\n",
    "VACUUM\n",
    "VAN\n",
    "VET\n",
    "WAKE\n",
    "WALL\n",
    "WAR\n",
    "WASHER\n",
    "WASHINGTON\n",
    "WATCH\n",
    "WATER\n",
    "WAVE\n",
    "WEB\n",
    "WELL\n",
    "WHALE\n",
    "WHIP\n",
    "WIND\n",
    "WITCH\n",
    "WORM\n",
    "YARD\"\"\""
   ]
  },
  {
   "cell_type": "code",
   "execution_count": 14,
   "id": "3ca8804e-1cc9-4042-81df-0d8189728ba0",
   "metadata": {},
   "outputs": [
    {
     "data": {
      "text/plain": [
       "['ALPS',\n",
       " 'AZTEC',\n",
       " 'BERMUDA',\n",
       " 'BUGLE',\n",
       " 'CENTAUR',\n",
       " 'FLUTE',\n",
       " 'HIMALAYAS',\n",
       " 'HORSESHOE',\n",
       " 'KANGAROO',\n",
       " 'KETCHUP',\n",
       " 'KIWI',\n",
       " 'LEPRECHAUN',\n",
       " 'LIMOUSINE',\n",
       " 'LOCH NESS',\n",
       " 'MOLE',\n",
       " 'OLYMPUS',\n",
       " 'PLATYPUS',\n",
       " 'ROULETTE',\n",
       " 'SCORPION',\n",
       " 'SCUBA DIVER',\n",
       " 'SKYSCRAPER',\n",
       " 'SLUG',\n",
       " 'SMUGGLER',\n",
       " 'SNOWMAN',\n",
       " 'SOCK',\n",
       " 'UNDERTAKER',\n",
       " 'WASHER']"
      ]
     },
     "execution_count": 14,
     "metadata": {},
     "output_type": "execute_result"
    }
   ],
   "source": [
    "[i for i in words.splitlines() if x.is_unknown_token(i)]"
   ]
  },
  {
   "cell_type": "code",
   "execution_count": null,
   "id": "c5b38a9a-aafd-4819-8618-92ef5e8a5b2f",
   "metadata": {},
   "outputs": [],
   "source": []
  },
  {
   "cell_type": "code",
   "execution_count": null,
   "id": "de3788f8-035b-4a9f-9514-c53929e5c3a6",
   "metadata": {},
   "outputs": [],
   "source": []
  },
  {
   "cell_type": "code",
   "execution_count": null,
   "id": "a676c222-fcae-4cfa-a620-fe2a945a4e14",
   "metadata": {},
   "outputs": [],
   "source": []
  },
  {
   "cell_type": "code",
   "execution_count": null,
   "id": "62a2aab4-01f8-47bb-9f0b-d65f3e618297",
   "metadata": {},
   "outputs": [],
   "source": []
  },
  {
   "cell_type": "code",
   "execution_count": 15,
   "id": "c4230d41-a1ba-4a48-86c9-57d670abcab9",
   "metadata": {},
   "outputs": [],
   "source": [
    "target_embeddings = get_all_target_embeddings()"
   ]
  },
  {
   "cell_type": "code",
   "execution_count": 44,
   "id": "454c01c2-6366-4462-a5c9-fb3f1dce4385",
   "metadata": {},
   "outputs": [
    {
     "ename": "NameError",
     "evalue": "name 'apple_sweet' is not defined",
     "output_type": "error",
     "traceback": [
      "\u001b[0;31m---------------------------------------------------------------------------\u001b[0m",
      "\u001b[0;31mNameError\u001b[0m                                 Traceback (most recent call last)",
      "\u001b[0;32m/tmp/ipykernel_71225/1789505768.py\u001b[0m in \u001b[0;36m<module>\u001b[0;34m\u001b[0m\n\u001b[0;32m----> 1\u001b[0;31m \u001b[0mnp\u001b[0m\u001b[0;34m.\u001b[0m\u001b[0mabs\u001b[0m\u001b[0;34m(\u001b[0m\u001b[0mapple_sweet\u001b[0m\u001b[0;34m-\u001b[0m\u001b[0mx\u001b[0m\u001b[0;34m.\u001b[0m\u001b[0mget_sparse_embedding\u001b[0m\u001b[0;34m(\u001b[0m\u001b[0;34m\"cinnamon\"\u001b[0m\u001b[0;34m)\u001b[0m\u001b[0;34m[\u001b[0m\u001b[0;34m\"embedding\"\u001b[0m\u001b[0;34m]\u001b[0m\u001b[0;34m)\u001b[0m\u001b[0;34m.\u001b[0m\u001b[0msum\u001b[0m\u001b[0;34m(\u001b[0m\u001b[0;34m)\u001b[0m\u001b[0;34m\u001b[0m\u001b[0;34m\u001b[0m\u001b[0m\n\u001b[0m",
      "\u001b[0;31mNameError\u001b[0m: name 'apple_sweet' is not defined"
     ]
    }
   ],
   "source": [
    "np.abs(apple_sweet-x.get_sparse_embedding(\"cinnamon\")[\"embedding\"]).sum()"
   ]
  },
  {
   "cell_type": "code",
   "execution_count": 43,
   "id": "d4265a13-8327-4096-bd87-d8c17ee48a67",
   "metadata": {},
   "outputs": [],
   "source": [
    "def get_mean_sparse_context_word_embedding(phrase):\n",
    "    return np.mean([x.get_sparse_embedding(token)[\"embedding\"] if token not in x.stop_words else np.zeros(400) for token in x.tokenizer.tokenize(phrase)], 0)"
   ]
  },
  {
   "cell_type": "code",
   "execution_count": 17,
   "id": "3ec439b8-16aa-4270-91b4-7921d35510df",
   "metadata": {},
   "outputs": [],
   "source": [
    "def get_mean_sparse_context_word_embedding_v2(phrase):\n",
    "    sparse_embeddings = batch_sparsify(get_dense_context_word_embeddings(phrase))\n",
    "    return np.mean(sparse_embeddings, 1)"
   ]
  },
  {
   "cell_type": "code",
   "execution_count": 18,
   "id": "d9fe7389-3198-4382-bf9d-5323177b4c64",
   "metadata": {},
   "outputs": [],
   "source": [
    "def get_sparse_context_word_embedding(phrase):\n",
    "    return sparsify(get_dense_context_word_embedding(phrase))"
   ]
  },
  {
   "cell_type": "code",
   "execution_count": 19,
   "id": "f0d00cf8-efa4-4f4b-988e-0d38a430668b",
   "metadata": {},
   "outputs": [],
   "source": [
    "def get_sparse_context_word_embedding_v2(phrase):\n",
    "    return sparsify(get_dense_context_word_embedding_v2(phrase))"
   ]
  },
  {
   "cell_type": "code",
   "execution_count": 20,
   "id": "ae1e106a-ee45-4226-82a4-6aa202525583",
   "metadata": {},
   "outputs": [],
   "source": [
    "def get_k_closest_words(phrase, k=10):\n",
    "    embedding = get_sparse_context_word_embedding(phrase)\n",
    "    distances = np.abs(target_embeddings-embedding[:, None]).sum(0)\n",
    "    dist_tokens = np.argsort(distances)[:k]\n",
    "    distances = distances[dist_tokens]\n",
    "    tokens = [x.tokenizer.id2token(i) for i in dist_tokens]\n",
    "    return tokens, distances"
   ]
  },
  {
   "cell_type": "code",
   "execution_count": 21,
   "id": "9938cb4e-db0f-4766-8324-7f5f0b7b7c4a",
   "metadata": {},
   "outputs": [],
   "source": [
    "def get_k_closest_words_mean(phrase, k=10):\n",
    "    embedding = get_mean_sparse_context_word_embedding(phrase)\n",
    "    distances = np.square(target_embeddings-embedding[:, None]).sum(0)\n",
    "    dist_tokens = np.argsort(distances)[:k]\n",
    "    distances = distances[dist_tokens]\n",
    "    tokens = [x.tokenizer.id2token(i) for i in dist_tokens]\n",
    "    return tokens, distances"
   ]
  },
  {
   "cell_type": "code",
   "execution_count": 22,
   "id": "e4e96f44-df99-4f7b-843f-87aacfc42dee",
   "metadata": {},
   "outputs": [],
   "source": [
    "def get_k_closest_words_mean_v2(phrase, k=10):\n",
    "    embedding = get_mean_sparse_context_word_embedding_v2(phrase)\n",
    "    distances = np.square(target_embeddings-embedding[:, None]).sum(0)\n",
    "    dist_tokens = np.argsort(distances)[:k]\n",
    "    distances = distances[dist_tokens]\n",
    "    tokens = [x.tokenizer.id2token(i) for i in dist_tokens]\n",
    "    return tokens, distances"
   ]
  },
  {
   "cell_type": "code",
   "execution_count": 23,
   "id": "bbeab38f-2a0a-4730-8f94-828cfe75c6d3",
   "metadata": {},
   "outputs": [],
   "source": [
    "def get_k_closest_words_mean_v3(phrase, k=10):\n",
    "    embedding = get_sparse_context_word_embedding_v2(phrase)\n",
    "    distances = np.square(target_embeddings-embedding[:, None]).sum(0)\n",
    "    dist_tokens = np.argsort(distances)[:k]\n",
    "    distances = distances[dist_tokens]\n",
    "    tokens = [x.tokenizer.id2token(i) for i in dist_tokens]\n",
    "    return tokens, distances"
   ]
  },
  {
   "cell_type": "code",
   "execution_count": 24,
   "id": "2557182a-6c23-499c-b38b-a4cb2918f7b7",
   "metadata": {},
   "outputs": [
    {
     "data": {
      "text/plain": [
       "50"
      ]
     },
     "execution_count": 24,
     "metadata": {},
     "output_type": "execute_result"
    }
   ],
   "source": [
    "get_sparse_context_word_embedding_v2(\"money in bank checking account\").sum()"
   ]
  },
  {
   "cell_type": "code",
   "execution_count": 25,
   "id": "30b252f7-d2b5-466f-bc12-bb50899e5731",
   "metadata": {},
   "outputs": [
    {
     "data": {
      "text/plain": [
       "(['caramel',\n",
       "  'sweet',\n",
       "  'pie',\n",
       "  'cookie',\n",
       "  'pineapple',\n",
       "  'chocolate',\n",
       "  'cake',\n",
       "  'chicken',\n",
       "  'pumpkin',\n",
       "  'crispy',\n",
       "  'pasta',\n",
       "  'carrot',\n",
       "  'banana',\n",
       "  'fluffy',\n",
       "  'jelly',\n",
       "  'spicy',\n",
       "  'vanilla',\n",
       "  'hops',\n",
       "  'boxes',\n",
       "  'juice',\n",
       "  'bits',\n",
       "  'pink',\n",
       "  'soup',\n",
       "  'bacon',\n",
       "  'ink',\n",
       "  'broccoli',\n",
       "  'apples',\n",
       "  'colours',\n",
       "  'lime',\n",
       "  'bread',\n",
       "  'egg',\n",
       "  'tomato',\n",
       "  'potatoes',\n",
       "  'soft',\n",
       "  'cheese',\n",
       "  'almond',\n",
       "  'cakes',\n",
       "  'potato',\n",
       "  'strips',\n",
       "  'ginger',\n",
       "  'gin',\n",
       "  'scotch',\n",
       "  'baked',\n",
       "  'slices',\n",
       "  'peach',\n",
       "  'yarn',\n",
       "  'whiskey',\n",
       "  'juicy',\n",
       "  'sausage',\n",
       "  'sticky'],\n",
       " array([32, 32, 32, 34, 36, 36, 36, 36, 36, 38, 38, 38, 38, 38, 38, 38, 38,\n",
       "        38, 40, 40, 40, 40, 40, 40, 40, 40, 40, 40, 40, 40, 40, 40, 40, 40,\n",
       "        40, 40, 40, 40, 40, 40, 40, 40, 40, 40, 40, 42, 42, 42, 42, 42]))"
      ]
     },
     "execution_count": 25,
     "metadata": {},
     "output_type": "execute_result"
    }
   ],
   "source": [
    "get_k_closest_words_mean_v3(\"filling sweet apple pie recipe\", 50)"
   ]
  },
  {
   "cell_type": "code",
   "execution_count": 26,
   "id": "4886196e-c111-480e-8c13-9642e04658d5",
   "metadata": {},
   "outputs": [
    {
     "data": {
      "text/plain": [
       "(['iron',\n",
       "  'wood',\n",
       "  'pots',\n",
       "  'dried',\n",
       "  'rubber',\n",
       "  'rods',\n",
       "  'steel',\n",
       "  'wax',\n",
       "  'honey',\n",
       "  'bamboo',\n",
       "  'fruit',\n",
       "  'juice',\n",
       "  'charcoal',\n",
       "  'clay',\n",
       "  'pig',\n",
       "  'cane',\n",
       "  'wire',\n",
       "  'leaf',\n",
       "  'pulp',\n",
       "  'stones',\n",
       "  'powder',\n",
       "  'pipe',\n",
       "  'aluminum',\n",
       "  'thick',\n",
       "  'pipes',\n",
       "  'beads',\n",
       "  'mixture',\n",
       "  'liquid',\n",
       "  'mask',\n",
       "  'diamonds',\n",
       "  'copper',\n",
       "  'gum',\n",
       "  'ceramic',\n",
       "  'feathers',\n",
       "  'potato',\n",
       "  'jelly',\n",
       "  'metal',\n",
       "  'bark',\n",
       "  'foam',\n",
       "  'flame',\n",
       "  'yeast',\n",
       "  'sand',\n",
       "  'trees',\n",
       "  'scent',\n",
       "  'tomato',\n",
       "  'shells',\n",
       "  'needles',\n",
       "  'rocks',\n",
       "  'snake',\n",
       "  'plastic'],\n",
       " array([20, 24, 30, 30, 32, 32, 32, 32, 32, 32, 32, 34, 34, 34, 34, 34, 34,\n",
       "        34, 34, 34, 36, 36, 36, 36, 36, 36, 36, 36, 36, 36, 36, 36, 38, 38,\n",
       "        38, 38, 38, 38, 38, 38, 38, 38, 38, 38, 38, 38, 38, 38, 38, 38]))"
      ]
     },
     "execution_count": 26,
     "metadata": {},
     "output_type": "execute_result"
    }
   ],
   "source": [
    "get_k_closest_words_mean_v3(\"pig honey iron\", 50)"
   ]
  },
  {
   "cell_type": "code",
   "execution_count": 27,
   "id": "be88688e-9c8f-417f-99fa-a2aed35544f9",
   "metadata": {},
   "outputs": [
    {
     "data": {
      "text/plain": [
       "(['pie',\n",
       "  'sweet',\n",
       "  'caramel',\n",
       "  'hops',\n",
       "  'chocolate',\n",
       "  'spicy',\n",
       "  'pumpkin',\n",
       "  'cake',\n",
       "  'soft',\n",
       "  'salad'],\n",
       " array([28, 30, 32, 34, 34, 34, 34, 34, 36, 38]))"
      ]
     },
     "execution_count": 27,
     "metadata": {},
     "output_type": "execute_result"
    }
   ],
   "source": [
    "get_k_closest_words(\"filling sweet apple pie recipe\")"
   ]
  },
  {
   "cell_type": "code",
   "execution_count": null,
   "id": "eeeadd01-40e2-4bf9-aaa7-ae459be68a06",
   "metadata": {},
   "outputs": [],
   "source": [
    "get_k_closest_words(\"fall_graduate\")"
   ]
  },
  {
   "cell_type": "code",
   "execution_count": 45,
   "id": "5faf639f-566c-458c-acaf-b293af2cbc46",
   "metadata": {},
   "outputs": [
    {
     "data": {
      "text/plain": [
       "(['pie',\n",
       "  'sweet',\n",
       "  'recipe',\n",
       "  'pumpkin',\n",
       "  'soup',\n",
       "  'chocolate',\n",
       "  'caramel',\n",
       "  'crispy',\n",
       "  'pineapple',\n",
       "  'pasta'],\n",
       " array([17.52, 19.92, 21.92, 21.92, 23.92, 24.32, 24.72, 25.12, 25.52,\n",
       "        25.52]))"
      ]
     },
     "execution_count": 45,
     "metadata": {},
     "output_type": "execute_result"
    }
   ],
   "source": [
    "get_k_closest_words_mean(\"filling sweet apple pie recipe\")"
   ]
  },
  {
   "cell_type": "code",
   "execution_count": 46,
   "id": "ace016b3-53ee-4ae4-be31-1d6cdaf8a4ba",
   "metadata": {},
   "outputs": [
    {
     "data": {
      "text/plain": [
       "(['smartphone',\n",
       "  'apples',\n",
       "  'latest',\n",
       "  'phones',\n",
       "  'mac',\n",
       "  'apple',\n",
       "  'iphone',\n",
       "  'samsung',\n",
       "  'product',\n",
       "  'tags'],\n",
       " array([34, 38, 38, 40, 40, 40, 40, 40, 42, 42]))"
      ]
     },
     "execution_count": 46,
     "metadata": {},
     "output_type": "execute_result"
    }
   ],
   "source": [
    "get_k_closest_words_mean_v3(\"design of apple latest iphone\")"
   ]
  },
  {
   "cell_type": "code",
   "execution_count": 47,
   "id": "827b110b-5063-4470-a98c-4c76965fe271",
   "metadata": {},
   "outputs": [
    {
     "data": {
      "text/plain": [
       "(['account',\n",
       "  'money',\n",
       "  'cash',\n",
       "  'checking',\n",
       "  'accounts',\n",
       "  'bank',\n",
       "  'transactions',\n",
       "  'receipts',\n",
       "  'credit',\n",
       "  'lenders'],\n",
       " array([26.32, 26.72, 29.12, 29.12, 29.52, 29.52, 31.52, 31.92, 31.92,\n",
       "        32.32]))"
      ]
     },
     "execution_count": 47,
     "metadata": {},
     "output_type": "execute_result"
    }
   ],
   "source": [
    "get_k_closest_words_mean(\"money in bank checking account\")"
   ]
  },
  {
   "cell_type": "code",
   "execution_count": 48,
   "id": "841b8028-e546-4cbe-9b3a-bedee929d436",
   "metadata": {},
   "outputs": [
    {
     "data": {
      "text/plain": [
       "(['river',\n",
       "  'lake',\n",
       "  'mountains',\n",
       "  'mountain',\n",
       "  'rivers',\n",
       "  'desert',\n",
       "  'waters',\n",
       "  'island',\n",
       "  'bay',\n",
       "  'pond'],\n",
       " array([26, 34, 40, 40, 40, 42, 42, 42, 42, 44]))"
      ]
     },
     "execution_count": 48,
     "metadata": {},
     "output_type": "execute_result"
    }
   ],
   "source": [
    "get_k_closest_words_mean_v3(\"boat on the bank of the river\")"
   ]
  },
  {
   "cell_type": "code",
   "execution_count": 49,
   "id": "6bd2729f-9fa9-4601-8b65-0e892ea1e9ce",
   "metadata": {},
   "outputs": [
    {
     "data": {
      "text/plain": [
       "(['check',\n",
       "  'update',\n",
       "  'drivers',\n",
       "  'checking',\n",
       "  'tab',\n",
       "  'sync',\n",
       "  'print',\n",
       "  'refresh',\n",
       "  'checkout',\n",
       "  'lock'],\n",
       " array([24, 38, 38, 38, 40, 40, 40, 42, 42, 42]))"
      ]
     },
     "execution_count": 49,
     "metadata": {},
     "output_type": "execute_result"
    }
   ],
   "source": [
    "get_k_closest_words_mean_v3(\"update your drivers, check the\")"
   ]
  },
  {
   "cell_type": "code",
   "execution_count": 63,
   "id": "2411c87b-0047-44ad-ba67-d62207a339b3",
   "metadata": {},
   "outputs": [],
   "source": [
    "apple_sweet = get_sparse_context_word_embedding(\"filling sweet apple pie recipe\")"
   ]
  },
  {
   "cell_type": "code",
   "execution_count": 65,
   "id": "eafa8ec1-6c54-464b-9475-6e55af82d3d3",
   "metadata": {},
   "outputs": [],
   "source": [
    "apple_phone = get_sparse_context_word_embedding(\"enter an apple store to\")"
   ]
  },
  {
   "cell_type": "code",
   "execution_count": 66,
   "id": "4f830cc4-1518-4d0f-8aea-bc9e48acb10d",
   "metadata": {},
   "outputs": [],
   "source": [
    "chocolate = x.get_sparse_embedding(\"chocolate\")[\"embedding\"]"
   ]
  },
  {
   "cell_type": "code",
   "execution_count": 67,
   "id": "992eb8e1-ecbe-4509-b81e-81b46bbe671d",
   "metadata": {},
   "outputs": [],
   "source": [
    "sweet = x.get_sparse_embedding(\"sweet\")[\"embedding\"]"
   ]
  },
  {
   "cell_type": "code",
   "execution_count": 68,
   "id": "287cdb0f-6577-477e-9e76-b94120223587",
   "metadata": {},
   "outputs": [],
   "source": [
    "crispy = x.get_sparse_embedding(\"crispy\")[\"embedding\"]"
   ]
  },
  {
   "cell_type": "code",
   "execution_count": 69,
   "id": "dc19ad21-70f9-4caf-86f0-c5dc0cf9aaf2",
   "metadata": {},
   "outputs": [],
   "source": [
    "noodles = x.get_sparse_embedding(\"noodles\")[\"embedding\"]"
   ]
  },
  {
   "cell_type": "code",
   "execution_count": 70,
   "id": "d39c00f2-7dce-4b1e-9fb8-faecf37261f2",
   "metadata": {},
   "outputs": [],
   "source": [
    "syrup = x.get_sparse_embedding(\"syrup\")[\"embedding\"]"
   ]
  },
  {
   "cell_type": "code",
   "execution_count": 71,
   "id": "7432b66b-f82a-4980-8354-722dc166981b",
   "metadata": {},
   "outputs": [],
   "source": [
    "# x.synapses"
   ]
  },
  {
   "cell_type": "code",
   "execution_count": 72,
   "id": "fb41dd59-d506-4580-8937-22c513ad1824",
   "metadata": {},
   "outputs": [
    {
     "data": {
      "text/plain": [
       "50"
      ]
     },
     "execution_count": 72,
     "metadata": {},
     "output_type": "execute_result"
    }
   ],
   "source": [
    "np.abs(apple_sweet - noodles).sum()"
   ]
  },
  {
   "cell_type": "code",
   "execution_count": 59,
   "id": "8989876b-aa44-43f7-bd08-22033bcbe29e",
   "metadata": {},
   "outputs": [],
   "source": [
    "q = np.array([[3, -4], [2, 1], [5, 6]])"
   ]
  },
  {
   "cell_type": "code",
   "execution_count": 60,
   "id": "d5a15d7b-a85c-4804-9816-d11199eaffd3",
   "metadata": {},
   "outputs": [
    {
     "data": {
      "text/plain": [
       "array([[1, 0],\n",
       "       [0, 1],\n",
       "       [2, 2]])"
      ]
     },
     "execution_count": 60,
     "metadata": {},
     "output_type": "execute_result"
    }
   ],
   "source": [
    "q.argsort(0)"
   ]
  },
  {
   "cell_type": "code",
   "execution_count": 61,
   "id": "cd735b0e-468d-4b2f-b5d2-3567c03ca2e9",
   "metadata": {},
   "outputs": [
    {
     "data": {
      "text/plain": [
       "array([[ 2, -4],\n",
       "       [ 3,  1],\n",
       "       [ 5,  6]])"
      ]
     },
     "execution_count": 61,
     "metadata": {},
     "output_type": "execute_result"
    }
   ],
   "source": [
    "np.take_along_axis(q, q.argsort(0), 0)"
   ]
  },
  {
   "cell_type": "code",
   "execution_count": 74,
   "id": "00eec369-0d17-45ed-9842-7193ed5437ab",
   "metadata": {},
   "outputs": [
    {
     "data": {
      "text/plain": [
       "(['robin',\n",
       "  'star',\n",
       "  'queen',\n",
       "  'captain',\n",
       "  'hunter',\n",
       "  'soldier',\n",
       "  'mickey',\n",
       "  'knight',\n",
       "  'hulk',\n",
       "  'princess'],\n",
       " array([34, 34, 36, 36, 38, 38, 40, 40, 40, 40]))"
      ]
     },
     "execution_count": 74,
     "metadata": {},
     "output_type": "execute_result"
    }
   ],
   "source": [
    "get_k_closest_words_mean_v3(\"star queen soldier\")"
   ]
  }
 ],
 "metadata": {
  "kernelspec": {
   "display_name": "Python 3 (merlin_env)",
   "language": "python",
   "name": "merlin_env"
  },
  "language_info": {
   "codemirror_mode": {
    "name": "ipython",
    "version": 3
   },
   "file_extension": ".py",
   "mimetype": "text/x-python",
   "name": "python",
   "nbconvert_exporter": "python",
   "pygments_lexer": "ipython3",
   "version": "3.8.12"
  }
 },
 "nbformat": 4,
 "nbformat_minor": 5
}
